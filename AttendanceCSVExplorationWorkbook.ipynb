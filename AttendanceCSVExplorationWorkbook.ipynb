{
 "cells": [
  {
   "cell_type": "markdown",
   "metadata": {},
   "source": [
    "# Attendance Table Exporation\n",
    "\n",
    "This notebook will look at the table structure, and provide simple visualization of attendance.\n"
   ]
  },
  {
   "cell_type": "code",
   "execution_count": 1,
   "metadata": {
    "collapsed": false
   },
   "outputs": [],
   "source": [
    "%matplotlib inline\n",
    "import pandas as pd\n",
    "import sklearn\n",
    "import datetime as dt\n",
    "import matplotlib.pyplot as plt\n",
    "import numpy as np"
   ]
  },
  {
   "cell_type": "markdown",
   "metadata": {},
   "source": [
    "## Load the Data into DataFrames\n",
    "Use the Pandas' DataFrame to store the data into a frame.  This will be used to do simple analysis."
   ]
  },
  {
   "cell_type": "code",
   "execution_count": 2,
   "metadata": {
    "collapsed": true
   },
   "outputs": [],
   "source": [
    "attendance_df = pd.read_csv(r'data/DIM_ATTENDANCE.csv',\n",
    "                            index_col=None,\n",
    "                            infer_datetime_format=True)"
   ]
  },
  {
   "cell_type": "markdown",
   "metadata": {},
   "source": [
    "The CSV contains the following columns:"
   ]
  },
  {
   "cell_type": "code",
   "execution_count": 3,
   "metadata": {
    "collapsed": false
   },
   "outputs": [
    {
     "data": {
      "text/plain": [
       "(113, 12)"
      ]
     },
     "execution_count": 3,
     "metadata": {},
     "output_type": "execute_result"
    }
   ],
   "source": [
    "attendance_df.shape"
   ]
  },
  {
   "cell_type": "code",
   "execution_count": 4,
   "metadata": {
    "collapsed": false
   },
   "outputs": [
    {
     "data": {
      "text/plain": [
       "Index(['EventID', 'Location', 'SiteID', 'POS_SystemID', 'businessDate',\n",
       "       'TotalAttendance', 'ConcessionAttendance', 'SuiteAttendance',\n",
       "       'TotalNumSuites', 'SuitesInUse', 'ClubAttendance',\n",
       "       'MerchandiseAttendance'],\n",
       "      dtype='object')"
      ]
     },
     "execution_count": 4,
     "metadata": {},
     "output_type": "execute_result"
    }
   ],
   "source": [
    "attendance_df.columns"
   ]
  },
  {
   "cell_type": "markdown",
   "metadata": {},
   "source": [
    "The column names by themselves do not show much, but it does show that we have some possible good information to link to the other tables:\n",
    "\n",
    "- SiteID\n",
    "- businessData\n",
    "- TotalAttendance\n",
    "- ConcessionAttendance\n",
    "- MerchandiseAttendance"
   ]
  },
  {
   "cell_type": "code",
   "execution_count": 5,
   "metadata": {
    "collapsed": false
   },
   "outputs": [
    {
     "data": {
      "text/html": [
       "<div>\n",
       "<style scoped>\n",
       "    .dataframe tbody tr th:only-of-type {\n",
       "        vertical-align: middle;\n",
       "    }\n",
       "\n",
       "    .dataframe tbody tr th {\n",
       "        vertical-align: top;\n",
       "    }\n",
       "\n",
       "    .dataframe thead th {\n",
       "        text-align: right;\n",
       "    }\n",
       "</style>\n",
       "<table border=\"1\" class=\"dataframe\">\n",
       "  <thead>\n",
       "    <tr style=\"text-align: right;\">\n",
       "      <th></th>\n",
       "      <th>EventID</th>\n",
       "      <th>Location</th>\n",
       "      <th>SiteID</th>\n",
       "      <th>POS_SystemID</th>\n",
       "      <th>businessDate</th>\n",
       "      <th>TotalAttendance</th>\n",
       "      <th>ConcessionAttendance</th>\n",
       "      <th>SuiteAttendance</th>\n",
       "      <th>TotalNumSuites</th>\n",
       "      <th>SuitesInUse</th>\n",
       "      <th>ClubAttendance</th>\n",
       "      <th>MerchandiseAttendance</th>\n",
       "    </tr>\n",
       "  </thead>\n",
       "  <tbody>\n",
       "    <tr>\n",
       "      <th>0</th>\n",
       "      <td>14895690</td>\n",
       "      <td>Site2</td>\n",
       "      <td>6</td>\n",
       "      <td>93</td>\n",
       "      <td>3/30/2017</td>\n",
       "      <td>0</td>\n",
       "      <td>0</td>\n",
       "      <td>0</td>\n",
       "      <td>0</td>\n",
       "      <td>0</td>\n",
       "      <td>0</td>\n",
       "      <td>0</td>\n",
       "    </tr>\n",
       "    <tr>\n",
       "      <th>1</th>\n",
       "      <td>14981354</td>\n",
       "      <td>Site2</td>\n",
       "      <td>6</td>\n",
       "      <td>93</td>\n",
       "      <td>4/7/2017</td>\n",
       "      <td>41586</td>\n",
       "      <td>36872</td>\n",
       "      <td>1091</td>\n",
       "      <td>70</td>\n",
       "      <td>66</td>\n",
       "      <td>2468</td>\n",
       "      <td>41586</td>\n",
       "    </tr>\n",
       "    <tr>\n",
       "      <th>2</th>\n",
       "      <td>14995359</td>\n",
       "      <td>Site2</td>\n",
       "      <td>6</td>\n",
       "      <td>93</td>\n",
       "      <td>4/8/2017</td>\n",
       "      <td>33731</td>\n",
       "      <td>29966</td>\n",
       "      <td>876</td>\n",
       "      <td>70</td>\n",
       "      <td>49</td>\n",
       "      <td>1833</td>\n",
       "      <td>33731</td>\n",
       "    </tr>\n",
       "    <tr>\n",
       "      <th>3</th>\n",
       "      <td>14999428</td>\n",
       "      <td>Site2</td>\n",
       "      <td>6</td>\n",
       "      <td>93</td>\n",
       "      <td>4/9/2017</td>\n",
       "      <td>33727</td>\n",
       "      <td>30281</td>\n",
       "      <td>745</td>\n",
       "      <td>68</td>\n",
       "      <td>48</td>\n",
       "      <td>1617</td>\n",
       "      <td>33727</td>\n",
       "    </tr>\n",
       "    <tr>\n",
       "      <th>4</th>\n",
       "      <td>15004567</td>\n",
       "      <td>Site2</td>\n",
       "      <td>6</td>\n",
       "      <td>93</td>\n",
       "      <td>4/10/2017</td>\n",
       "      <td>30244</td>\n",
       "      <td>27128</td>\n",
       "      <td>763</td>\n",
       "      <td>68</td>\n",
       "      <td>48</td>\n",
       "      <td>1172</td>\n",
       "      <td>30244</td>\n",
       "    </tr>\n",
       "  </tbody>\n",
       "</table>\n",
       "</div>"
      ],
      "text/plain": [
       "    EventID Location  SiteID  POS_SystemID businessDate  TotalAttendance  \\\n",
       "0  14895690    Site2       6            93    3/30/2017                0   \n",
       "1  14981354    Site2       6            93     4/7/2017            41586   \n",
       "2  14995359    Site2       6            93     4/8/2017            33731   \n",
       "3  14999428    Site2       6            93     4/9/2017            33727   \n",
       "4  15004567    Site2       6            93    4/10/2017            30244   \n",
       "\n",
       "   ConcessionAttendance  SuiteAttendance  TotalNumSuites  SuitesInUse  \\\n",
       "0                     0                0               0            0   \n",
       "1                 36872             1091              70           66   \n",
       "2                 29966              876              70           49   \n",
       "3                 30281              745              68           48   \n",
       "4                 27128              763              68           48   \n",
       "\n",
       "   ClubAttendance  MerchandiseAttendance  \n",
       "0               0                      0  \n",
       "1            2468                  41586  \n",
       "2            1833                  33731  \n",
       "3            1617                  33727  \n",
       "4            1172                  30244  "
      ]
     },
     "execution_count": 5,
     "metadata": {},
     "output_type": "execute_result"
    }
   ],
   "source": [
    "attendance_df.head()"
   ]
  },
  {
   "cell_type": "markdown",
   "metadata": {},
   "source": [
    "Next let's describe the dataset and see if anything stands by describing the dataset.\n",
    "In addition, since there are 2 sites being examined and they are not 1:1 in design and size, let's break them apart. "
   ]
  },
  {
   "cell_type": "code",
   "execution_count": 6,
   "metadata": {
    "collapsed": false
   },
   "outputs": [
    {
     "data": {
      "text/html": [
       "<div>\n",
       "<style scoped>\n",
       "    .dataframe tbody tr th:only-of-type {\n",
       "        vertical-align: middle;\n",
       "    }\n",
       "\n",
       "    .dataframe tbody tr th {\n",
       "        vertical-align: top;\n",
       "    }\n",
       "\n",
       "    .dataframe thead th {\n",
       "        text-align: right;\n",
       "    }\n",
       "</style>\n",
       "<table border=\"1\" class=\"dataframe\">\n",
       "  <thead>\n",
       "    <tr style=\"text-align: right;\">\n",
       "      <th></th>\n",
       "      <th>EventID</th>\n",
       "      <th>SiteID</th>\n",
       "      <th>POS_SystemID</th>\n",
       "      <th>TotalAttendance</th>\n",
       "      <th>ConcessionAttendance</th>\n",
       "      <th>SuiteAttendance</th>\n",
       "      <th>TotalNumSuites</th>\n",
       "      <th>SuitesInUse</th>\n",
       "      <th>ClubAttendance</th>\n",
       "      <th>MerchandiseAttendance</th>\n",
       "    </tr>\n",
       "  </thead>\n",
       "  <tbody>\n",
       "    <tr>\n",
       "      <th>count</th>\n",
       "      <td>3.000000e+01</td>\n",
       "      <td>30.0</td>\n",
       "      <td>30.0</td>\n",
       "      <td>30.000000</td>\n",
       "      <td>30.000000</td>\n",
       "      <td>30.000000</td>\n",
       "      <td>30.000000</td>\n",
       "      <td>30.000000</td>\n",
       "      <td>30.000000</td>\n",
       "      <td>30.000000</td>\n",
       "    </tr>\n",
       "    <tr>\n",
       "      <th>mean</th>\n",
       "      <td>1.449762e+07</td>\n",
       "      <td>15.0</td>\n",
       "      <td>16.0</td>\n",
       "      <td>40196.933333</td>\n",
       "      <td>33779.866667</td>\n",
       "      <td>1986.200000</td>\n",
       "      <td>172.166667</td>\n",
       "      <td>105.000000</td>\n",
       "      <td>4430.866667</td>\n",
       "      <td>40196.933333</td>\n",
       "    </tr>\n",
       "    <tr>\n",
       "      <th>std</th>\n",
       "      <td>1.135903e+06</td>\n",
       "      <td>0.0</td>\n",
       "      <td>0.0</td>\n",
       "      <td>21518.376158</td>\n",
       "      <td>17793.743493</td>\n",
       "      <td>1009.693788</td>\n",
       "      <td>2.520035</td>\n",
       "      <td>56.871301</td>\n",
       "      <td>3020.068802</td>\n",
       "      <td>21518.376158</td>\n",
       "    </tr>\n",
       "    <tr>\n",
       "      <th>min</th>\n",
       "      <td>1.319686e+07</td>\n",
       "      <td>15.0</td>\n",
       "      <td>16.0</td>\n",
       "      <td>8272.000000</td>\n",
       "      <td>6108.000000</td>\n",
       "      <td>720.000000</td>\n",
       "      <td>170.000000</td>\n",
       "      <td>23.000000</td>\n",
       "      <td>0.000000</td>\n",
       "      <td>8272.000000</td>\n",
       "    </tr>\n",
       "    <tr>\n",
       "      <th>25%</th>\n",
       "      <td>1.368441e+07</td>\n",
       "      <td>15.0</td>\n",
       "      <td>16.0</td>\n",
       "      <td>17701.750000</td>\n",
       "      <td>14885.250000</td>\n",
       "      <td>925.000000</td>\n",
       "      <td>170.000000</td>\n",
       "      <td>53.750000</td>\n",
       "      <td>1310.750000</td>\n",
       "      <td>17701.750000</td>\n",
       "    </tr>\n",
       "    <tr>\n",
       "      <th>50%</th>\n",
       "      <td>1.400405e+07</td>\n",
       "      <td>15.0</td>\n",
       "      <td>16.0</td>\n",
       "      <td>45124.500000</td>\n",
       "      <td>37133.000000</td>\n",
       "      <td>2145.500000</td>\n",
       "      <td>170.000000</td>\n",
       "      <td>89.500000</td>\n",
       "      <td>5338.500000</td>\n",
       "      <td>45124.500000</td>\n",
       "    </tr>\n",
       "    <tr>\n",
       "      <th>75%</th>\n",
       "      <td>1.575411e+07</td>\n",
       "      <td>15.0</td>\n",
       "      <td>16.0</td>\n",
       "      <td>61538.000000</td>\n",
       "      <td>51083.250000</td>\n",
       "      <td>3074.750000</td>\n",
       "      <td>175.000000</td>\n",
       "      <td>168.750000</td>\n",
       "      <td>7376.000000</td>\n",
       "      <td>61538.000000</td>\n",
       "    </tr>\n",
       "    <tr>\n",
       "      <th>max</th>\n",
       "      <td>1.647954e+07</td>\n",
       "      <td>15.0</td>\n",
       "      <td>16.0</td>\n",
       "      <td>67002.000000</td>\n",
       "      <td>55536.000000</td>\n",
       "      <td>3339.000000</td>\n",
       "      <td>175.000000</td>\n",
       "      <td>175.000000</td>\n",
       "      <td>8142.000000</td>\n",
       "      <td>67002.000000</td>\n",
       "    </tr>\n",
       "  </tbody>\n",
       "</table>\n",
       "</div>"
      ],
      "text/plain": [
       "            EventID  SiteID  POS_SystemID  TotalAttendance  \\\n",
       "count  3.000000e+01    30.0          30.0        30.000000   \n",
       "mean   1.449762e+07    15.0          16.0     40196.933333   \n",
       "std    1.135903e+06     0.0           0.0     21518.376158   \n",
       "min    1.319686e+07    15.0          16.0      8272.000000   \n",
       "25%    1.368441e+07    15.0          16.0     17701.750000   \n",
       "50%    1.400405e+07    15.0          16.0     45124.500000   \n",
       "75%    1.575411e+07    15.0          16.0     61538.000000   \n",
       "max    1.647954e+07    15.0          16.0     67002.000000   \n",
       "\n",
       "       ConcessionAttendance  SuiteAttendance  TotalNumSuites  SuitesInUse  \\\n",
       "count             30.000000        30.000000       30.000000    30.000000   \n",
       "mean           33779.866667      1986.200000      172.166667   105.000000   \n",
       "std            17793.743493      1009.693788        2.520035    56.871301   \n",
       "min             6108.000000       720.000000      170.000000    23.000000   \n",
       "25%            14885.250000       925.000000      170.000000    53.750000   \n",
       "50%            37133.000000      2145.500000      170.000000    89.500000   \n",
       "75%            51083.250000      3074.750000      175.000000   168.750000   \n",
       "max            55536.000000      3339.000000      175.000000   175.000000   \n",
       "\n",
       "       ClubAttendance  MerchandiseAttendance  \n",
       "count       30.000000              30.000000  \n",
       "mean      4430.866667           40196.933333  \n",
       "std       3020.068802           21518.376158  \n",
       "min          0.000000            8272.000000  \n",
       "25%       1310.750000           17701.750000  \n",
       "50%       5338.500000           45124.500000  \n",
       "75%       7376.000000           61538.000000  \n",
       "max       8142.000000           67002.000000  "
      ]
     },
     "execution_count": 6,
     "metadata": {},
     "output_type": "execute_result"
    }
   ],
   "source": [
    "attendance_df[attendance_df['Location'] == 'Site1'].describe()"
   ]
  },
  {
   "cell_type": "code",
   "execution_count": 7,
   "metadata": {
    "collapsed": false
   },
   "outputs": [
    {
     "data": {
      "text/html": [
       "<div>\n",
       "<style scoped>\n",
       "    .dataframe tbody tr th:only-of-type {\n",
       "        vertical-align: middle;\n",
       "    }\n",
       "\n",
       "    .dataframe tbody tr th {\n",
       "        vertical-align: top;\n",
       "    }\n",
       "\n",
       "    .dataframe thead th {\n",
       "        text-align: right;\n",
       "    }\n",
       "</style>\n",
       "<table border=\"1\" class=\"dataframe\">\n",
       "  <thead>\n",
       "    <tr style=\"text-align: right;\">\n",
       "      <th></th>\n",
       "      <th>EventID</th>\n",
       "      <th>SiteID</th>\n",
       "      <th>POS_SystemID</th>\n",
       "      <th>TotalAttendance</th>\n",
       "      <th>ConcessionAttendance</th>\n",
       "      <th>SuiteAttendance</th>\n",
       "      <th>TotalNumSuites</th>\n",
       "      <th>SuitesInUse</th>\n",
       "      <th>ClubAttendance</th>\n",
       "      <th>MerchandiseAttendance</th>\n",
       "    </tr>\n",
       "  </thead>\n",
       "  <tbody>\n",
       "    <tr>\n",
       "      <th>count</th>\n",
       "      <td>8.300000e+01</td>\n",
       "      <td>83.0</td>\n",
       "      <td>83.0</td>\n",
       "      <td>83.000000</td>\n",
       "      <td>83.000000</td>\n",
       "      <td>83.000000</td>\n",
       "      <td>83.000000</td>\n",
       "      <td>83.000000</td>\n",
       "      <td>83.000000</td>\n",
       "      <td>83.000000</td>\n",
       "    </tr>\n",
       "    <tr>\n",
       "      <th>mean</th>\n",
       "      <td>1.575190e+07</td>\n",
       "      <td>6.0</td>\n",
       "      <td>93.0</td>\n",
       "      <td>19241.879518</td>\n",
       "      <td>16059.891566</td>\n",
       "      <td>846.650602</td>\n",
       "      <td>67.301205</td>\n",
       "      <td>54.216867</td>\n",
       "      <td>1423.650602</td>\n",
       "      <td>19241.879518</td>\n",
       "    </tr>\n",
       "    <tr>\n",
       "      <th>std</th>\n",
       "      <td>4.777579e+05</td>\n",
       "      <td>0.0</td>\n",
       "      <td>0.0</td>\n",
       "      <td>8071.583848</td>\n",
       "      <td>7501.156672</td>\n",
       "      <td>185.011498</td>\n",
       "      <td>7.492655</td>\n",
       "      <td>8.392866</td>\n",
       "      <td>607.358383</td>\n",
       "      <td>8071.583848</td>\n",
       "    </tr>\n",
       "    <tr>\n",
       "      <th>min</th>\n",
       "      <td>1.489569e+07</td>\n",
       "      <td>6.0</td>\n",
       "      <td>93.0</td>\n",
       "      <td>0.000000</td>\n",
       "      <td>0.000000</td>\n",
       "      <td>0.000000</td>\n",
       "      <td>0.000000</td>\n",
       "      <td>0.000000</td>\n",
       "      <td>0.000000</td>\n",
       "      <td>0.000000</td>\n",
       "    </tr>\n",
       "    <tr>\n",
       "      <th>25%</th>\n",
       "      <td>1.534982e+07</td>\n",
       "      <td>6.0</td>\n",
       "      <td>93.0</td>\n",
       "      <td>14147.000000</td>\n",
       "      <td>10904.000000</td>\n",
       "      <td>798.500000</td>\n",
       "      <td>68.000000</td>\n",
       "      <td>50.000000</td>\n",
       "      <td>1131.000000</td>\n",
       "      <td>14147.000000</td>\n",
       "    </tr>\n",
       "    <tr>\n",
       "      <th>50%</th>\n",
       "      <td>1.575782e+07</td>\n",
       "      <td>6.0</td>\n",
       "      <td>93.0</td>\n",
       "      <td>18515.000000</td>\n",
       "      <td>15019.000000</td>\n",
       "      <td>866.000000</td>\n",
       "      <td>68.000000</td>\n",
       "      <td>55.000000</td>\n",
       "      <td>1333.000000</td>\n",
       "      <td>18515.000000</td>\n",
       "    </tr>\n",
       "    <tr>\n",
       "      <th>75%</th>\n",
       "      <td>1.616671e+07</td>\n",
       "      <td>6.0</td>\n",
       "      <td>93.0</td>\n",
       "      <td>25054.500000</td>\n",
       "      <td>21446.500000</td>\n",
       "      <td>940.500000</td>\n",
       "      <td>68.000000</td>\n",
       "      <td>58.000000</td>\n",
       "      <td>1661.000000</td>\n",
       "      <td>25054.500000</td>\n",
       "    </tr>\n",
       "    <tr>\n",
       "      <th>max</th>\n",
       "      <td>1.651861e+07</td>\n",
       "      <td>6.0</td>\n",
       "      <td>93.0</td>\n",
       "      <td>41586.000000</td>\n",
       "      <td>36872.000000</td>\n",
       "      <td>1129.000000</td>\n",
       "      <td>70.000000</td>\n",
       "      <td>66.000000</td>\n",
       "      <td>4945.000000</td>\n",
       "      <td>41586.000000</td>\n",
       "    </tr>\n",
       "  </tbody>\n",
       "</table>\n",
       "</div>"
      ],
      "text/plain": [
       "            EventID  SiteID  POS_SystemID  TotalAttendance  \\\n",
       "count  8.300000e+01    83.0          83.0        83.000000   \n",
       "mean   1.575190e+07     6.0          93.0     19241.879518   \n",
       "std    4.777579e+05     0.0           0.0      8071.583848   \n",
       "min    1.489569e+07     6.0          93.0         0.000000   \n",
       "25%    1.534982e+07     6.0          93.0     14147.000000   \n",
       "50%    1.575782e+07     6.0          93.0     18515.000000   \n",
       "75%    1.616671e+07     6.0          93.0     25054.500000   \n",
       "max    1.651861e+07     6.0          93.0     41586.000000   \n",
       "\n",
       "       ConcessionAttendance  SuiteAttendance  TotalNumSuites  SuitesInUse  \\\n",
       "count             83.000000        83.000000       83.000000    83.000000   \n",
       "mean           16059.891566       846.650602       67.301205    54.216867   \n",
       "std             7501.156672       185.011498        7.492655     8.392866   \n",
       "min                0.000000         0.000000        0.000000     0.000000   \n",
       "25%            10904.000000       798.500000       68.000000    50.000000   \n",
       "50%            15019.000000       866.000000       68.000000    55.000000   \n",
       "75%            21446.500000       940.500000       68.000000    58.000000   \n",
       "max            36872.000000      1129.000000       70.000000    66.000000   \n",
       "\n",
       "       ClubAttendance  MerchandiseAttendance  \n",
       "count       83.000000              83.000000  \n",
       "mean      1423.650602           19241.879518  \n",
       "std        607.358383            8071.583848  \n",
       "min          0.000000               0.000000  \n",
       "25%       1131.000000           14147.000000  \n",
       "50%       1333.000000           18515.000000  \n",
       "75%       1661.000000           25054.500000  \n",
       "max       4945.000000           41586.000000  "
      ]
     },
     "execution_count": 7,
     "metadata": {},
     "output_type": "execute_result"
    }
   ],
   "source": [
    "attendance_df[attendance_df['Location'] == 'Site2'].describe()"
   ]
  },
  {
   "cell_type": "markdown",
   "metadata": {},
   "source": [
    "From the describe, we can see that Site1 has more sales potential verse Site2.  This means that Site1 should have more sales information when compared to Site2.  \n",
    "\n",
    "In addition the following population/seating arrangements differ:\n",
    "\n",
    "- Number of Suites and population\n",
    "- Attendance in Club\n",
    "- Attendance\n",
    "\n",
    "This leads to the fact that we will need to **normalization** our figures by using z-scores or some other meteric when comparing Site1 to Site2."
   ]
  },
  {
   "cell_type": "markdown",
   "metadata": {},
   "source": [
    "## Data Visualization\n",
    "\n",
    "Below are basic graph information about the two site.\n",
    "\n",
    "### Operational Days"
   ]
  },
  {
   "cell_type": "code",
   "execution_count": 8,
   "metadata": {
    "collapsed": false
   },
   "outputs": [
    {
     "data": {
      "text/plain": [
       "<matplotlib.axes._subplots.AxesSubplot at 0x23b4c43c588>"
      ]
     },
     "execution_count": 8,
     "metadata": {},
     "output_type": "execute_result"
    },
    {
     "data": {
      "image/png": "[encoded data removed]",
      "text/plain": [
       "<matplotlib.figure.Figure at 0x23b4c430d68>"
      ]
     },
     "metadata": {},
     "output_type": "display_data"
    }
   ],
   "source": [
    "attendance_df.groupby('Location').businessDate.count().plot('bar', title='Operational Days')"
   ]
  },
  {
   "cell_type": "markdown",
   "metadata": {},
   "source": [
    "### Average Daily Operating Attendance"
   ]
  },
  {
   "cell_type": "code",
   "execution_count": 9,
   "metadata": {
    "collapsed": false
   },
   "outputs": [
    {
     "data": {
      "text/plain": [
       "<matplotlib.axes._subplots.AxesSubplot at 0x23b4c9e51d0>"
      ]
     },
     "execution_count": 9,
     "metadata": {},
     "output_type": "execute_result"
    },
    {
     "data": {
      "image/png": "[encoded data removed]",
      "text/plain": [
       "<matplotlib.figure.Figure at 0x23b4c99cfd0>"
      ]
     },
     "metadata": {},
     "output_type": "display_data"
    }
   ],
   "source": [
    "(attendance_df.groupby('SiteID')['ConcessionAttendance'].sum()/attendance_df.groupby('SiteID').businessDate.count()\n",
    ").plot('bar',\n",
    "       title=\"Average Concession Attendance\")"
   ]
  },
  {
   "cell_type": "code",
   "execution_count": 10,
   "metadata": {
    "collapsed": false
   },
   "outputs": [
    {
     "data": {
      "text/plain": [
       "<matplotlib.axes._subplots.AxesSubplot at 0x23b4c9f8ef0>"
      ]
     },
     "execution_count": 10,
     "metadata": {},
     "output_type": "execute_result"
    },
    {
     "data": {
      "image/png": "[encoded data removed]",
      "text/plain": [
       "<matplotlib.figure.Figure at 0x23b4ca0ceb8>"
      ]
     },
     "metadata": {},
     "output_type": "display_data"
    }
   ],
   "source": [
    "attendance_df.loc[attendance_df['Location'] == 'Site1', 'ConcessionAttendance'].plot('bar')"
   ]
  },
  {
   "cell_type": "markdown",
   "metadata": {},
   "source": [
    "Let's look at each site's attendance percentages by dates.\n",
    "\n",
    "1. Calculate % present by takeing the (Current Attendance / Max Attendance) * 100\n",
    "2. Graph out each site"
   ]
  },
  {
   "cell_type": "code",
   "execution_count": 11,
   "metadata": {
    "collapsed": true
   },
   "outputs": [],
   "source": [
    "def calendar_array(dates, data):\n",
    "    i, j = zip(*[d.isocalendar()[1:] for d in dates])\n",
    "    i = np.array(i) - min(i)\n",
    "    j = np.array(j) - 1\n",
    "    ni = max(i) + 1\n",
    "\n",
    "    calendar = np.nan * np.zeros((ni, 7))\n",
    "    calendar[i, j] = data\n",
    "    return i, j, calendar"
   ]
  },
  {
   "cell_type": "code",
   "execution_count": 12,
   "metadata": {
    "collapsed": true
   },
   "outputs": [],
   "source": [
    "def calendar_heatmap(ax, dates, data):\n",
    "    i, j, calendar = calendar_array(dates, data)\n",
    "    im = ax.imshow(calendar, interpolation='none', cmap='summer')\n",
    "    label_days(ax, dates, i, j, calendar)\n",
    "    label_months(ax, dates, i, j, calendar)\n",
    "    ax.figure.colorbar(im)"
   ]
  },
  {
   "cell_type": "code",
   "execution_count": 13,
   "metadata": {
    "collapsed": true
   },
   "outputs": [],
   "source": [
    "def label_days(ax, dates, i, j, calendar):\n",
    "    ni, nj = calendar.shape\n",
    "    day_of_month = np.nan * np.zeros((ni, 7))\n",
    "    day_of_month[i, j] = [d.day for d in dates]\n",
    "\n",
    "    for (i, j), day in np.ndenumerate(day_of_month):\n",
    "        if np.isfinite(day):\n",
    "            ax.text(j, i, int(day), ha='center', va='center')\n",
    "\n",
    "    ax.set(xticks=np.arange(7), \n",
    "           xticklabels=['M', 'T', 'W', 'Th', 'F', 'S', 'Su'])\n",
    "    ax.xaxis.tick_top()"
   ]
  },
  {
   "cell_type": "code",
   "execution_count": 14,
   "metadata": {
    "collapsed": true
   },
   "outputs": [],
   "source": [
    "def label_months(ax, dates, i, j, calendar):\n",
    "    month_labels = np.array(['Jan', 'Feb', 'Mar', 'Apr', 'May', 'Jun', 'Jul',\n",
    "                             'Aug', 'Sep', 'Oct', 'Nov', 'Dec'])\n",
    "    months = np.array([d.month for d in dates])\n",
    "    uniq_months = sorted(set(months))\n",
    "    yticks = [i[months == m].mean() for m in uniq_months]\n",
    "    labels = [month_labels[m - 1] for m in uniq_months]\n",
    "    ax.set(yticks=yticks)\n",
    "    ax.set_yticklabels(labels, rotation=90)"
   ]
  },
  {
   "cell_type": "code",
   "execution_count": 15,
   "metadata": {
    "collapsed": true
   },
   "outputs": [],
   "source": [
    "site1 = attendance_df['Location'] == 'Site1'\n",
    "site2 = attendance_df['Location'] == 'Site2'"
   ]
  },
  {
   "cell_type": "code",
   "execution_count": 16,
   "metadata": {
    "collapsed": true
   },
   "outputs": [],
   "source": [
    "site1_df = attendance_df[site1]\n",
    "site2_df = attendance_df[site2]"
   ]
  },
  {
   "cell_type": "code",
   "execution_count": 17,
   "metadata": {
    "collapsed": false
   },
   "outputs": [],
   "source": [
    "dates_site1 = [dt.datetime.strptime(d, \"%m/%d/%Y\") for d in site1_df['businessDate'].tolist()]\n",
    "dates_site2 = [dt.datetime.strptime(d, \"%m/%d/%Y\") for d in site2_df['businessDate'].tolist()]"
   ]
  },
  {
   "cell_type": "code",
   "execution_count": 18,
   "metadata": {
    "collapsed": false
   },
   "outputs": [],
   "source": [
    "data_site1 = (site1_df['TotalAttendance'] / site1_df['TotalAttendance'].max()) * 100\n",
    "data_site2 = (site2_df['TotalAttendance'] / site2_df['TotalAttendance'].max()) * 100"
   ]
  },
  {
   "cell_type": "code",
   "execution_count": 19,
   "metadata": {
    "collapsed": false
   },
   "outputs": [
    {
     "data": {
      "image/png": "[encoded data removed]",
      "text/plain": [
       "<matplotlib.figure.Figure at 0x23b4ca56898>"
      ]
     },
     "metadata": {},
     "output_type": "display_data"
    }
   ],
   "source": [
    "fig, ax = plt.subplots(figsize=(14, 10))\n",
    "calendar_heatmap(ax, dates_site1, data_site1)\n",
    "plt.show()"
   ]
  },
  {
   "cell_type": "code",
   "execution_count": null,
   "metadata": {
    "collapsed": true
   },
   "outputs": [],
   "source": []
  },
  {
   "cell_type": "code",
   "execution_count": 20,
   "metadata": {
    "collapsed": false
   },
   "outputs": [
    {
     "data": {
      "image/png": "[encoded data removed]",
      "text/plain": [
       "<matplotlib.figure.Figure at 0x23b4cc75518>"
      ]
     },
     "metadata": {},
     "output_type": "display_data"
    }
   ],
   "source": [
    "fig, ax = plt.subplots(figsize=(14, 10))\n",
    "calendar_heatmap(ax, dates_site2, data_site2)\n",
    "plt.show()"
   ]
  },
  {
   "cell_type": "code",
   "execution_count": null,
   "metadata": {
    "collapsed": true
   },
   "outputs": [],
   "source": []
  }
 ],
 "metadata": {
  "kernelspec": {
   "display_name": "Python 3",
   "language": "python",
   "name": "python3"
  },
  "language_info": {
   "codemirror_mode": {
    "name": "ipython",
    "version": 3
   },
   "file_extension": ".py",
   "mimetype": "text/x-python",
   "name": "python",
   "nbconvert_exporter": "python",
   "pygments_lexer": "ipython3",
   "version": "3.5.4"
  }
 },
 "nbformat": 4,
 "nbformat_minor": 2
}
