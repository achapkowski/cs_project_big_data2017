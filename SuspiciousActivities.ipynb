{
 "cells": [
  {
   "cell_type": "code",
   "execution_count": 1,
   "metadata": {
    "collapsed": true,
    "slideshow": {
     "slide_type": "skip"
    }
   },
   "outputs": [],
   "source": [
    "%matplotlib inline\n",
    "import pandas as pd\n",
    "import numpy as np\n",
    "import seaborn as sns\n",
    "import matplotlib.pyplot as plt"
   ]
  },
  {
   "cell_type": "markdown",
   "metadata": {
    "slideshow": {
     "slide_type": "slide"
    }
   },
   "source": [
    "## Suspicous Activity Detection\n",
    "\n",
    "<img src=\"./img/bellcurve.jpg\" alt=\"bc\" height=\"400\" width=\"400\">\n",
    "\n",
    "- Use price overide counts\n",
    "- Detect if any manager does this 3-std deviations of the norm\n"
   ]
  },
  {
   "cell_type": "markdown",
   "metadata": {
    "slideshow": {
     "slide_type": "subslide"
    }
   },
   "source": [
    "## Memory Considerations\n",
    "\n",
    "- Limit the information consumed by **Panadas**\n",
    "- Only Use Needed Columns"
   ]
  },
  {
   "cell_type": "markdown",
   "metadata": {
    "slideshow": {
     "slide_type": "fragment"
    }
   },
   "source": [
    "- Use a Bigger Machine"
   ]
  },
  {
   "cell_type": "code",
   "execution_count": 2,
   "metadata": {
    "collapsed": false,
    "slideshow": {
     "slide_type": "fragment"
    }
   },
   "outputs": [],
   "source": [
    "df = pd.read_csv('./data/FACT_Sites_2017.csv',\n",
    "                 na_values='NULL',\n",
    "                 parse_dates=True, \n",
    "                 usecols=['Site', 'Location', 'businessDate', \n",
    "                          'transDatetime','recordID', \n",
    "                          'checkEmployeeID',  'managerEmployeeID', \n",
    "                          'voidFlag', 'reasonCode', 'priceOvrdeFlag'])"
   ]
  },
  {
   "cell_type": "code",
   "execution_count": 3,
   "metadata": {
    "collapsed": true,
    "slideshow": {
     "slide_type": "skip"
    }
   },
   "outputs": [],
   "source": [
    "df.voidFlag = df.voidFlag.astype(bool)\n",
    "df.priceOvrdeFlag = df.priceOvrdeFlag.astype(bool)"
   ]
  },
  {
   "cell_type": "code",
   "execution_count": 4,
   "metadata": {
    "collapsed": false,
    "slideshow": {
     "slide_type": "skip"
    }
   },
   "outputs": [],
   "source": [
    "df.loc[df.managerEmployeeID.notnull(), 'managerEmployeeID'] = \\\n",
    "df.loc[df.managerEmployeeID.notnull(), 'managerEmployeeID'].astype(int).astype(str)"
   ]
  },
  {
   "cell_type": "code",
   "execution_count": 5,
   "metadata": {
    "collapsed": false,
    "slideshow": {
     "slide_type": "subslide"
    }
   },
   "outputs": [
    {
     "data": {
      "text/html": [
       "<div>\n",
       "<style scoped>\n",
       "    .dataframe tbody tr th:only-of-type {\n",
       "        vertical-align: middle;\n",
       "    }\n",
       "\n",
       "    .dataframe tbody tr th {\n",
       "        vertical-align: top;\n",
       "    }\n",
       "\n",
       "    .dataframe thead th {\n",
       "        text-align: right;\n",
       "    }\n",
       "</style>\n",
       "<table border=\"1\" class=\"dataframe\">\n",
       "  <thead>\n",
       "    <tr style=\"text-align: right;\">\n",
       "      <th></th>\n",
       "      <th>Site</th>\n",
       "      <th>Location</th>\n",
       "      <th>businessDate</th>\n",
       "      <th>transDatetime</th>\n",
       "      <th>recordID</th>\n",
       "      <th>checkEmployeeID</th>\n",
       "      <th>managerEmployeeID</th>\n",
       "      <th>voidFlag</th>\n",
       "      <th>reasonCode</th>\n",
       "      <th>priceOvrdeFlag</th>\n",
       "    </tr>\n",
       "  </thead>\n",
       "  <tbody>\n",
       "    <tr>\n",
       "      <th>0</th>\n",
       "      <td>Site1</td>\n",
       "      <td>C04 LIBERTY GRLL</td>\n",
       "      <td>2017-01-01 00:00</td>\n",
       "      <td>2017-01-01 14:00:31.000</td>\n",
       "      <td>813258.0</td>\n",
       "      <td>841293.0</td>\n",
       "      <td>NaN</td>\n",
       "      <td>False</td>\n",
       "      <td>0.0</td>\n",
       "      <td>True</td>\n",
       "    </tr>\n",
       "    <tr>\n",
       "      <th>1</th>\n",
       "      <td>Site1</td>\n",
       "      <td>C04 LIBERTY GRLL</td>\n",
       "      <td>2017-01-01 00:00</td>\n",
       "      <td>2017-01-01 14:33:15.000</td>\n",
       "      <td>812892.0</td>\n",
       "      <td>841293.0</td>\n",
       "      <td>NaN</td>\n",
       "      <td>False</td>\n",
       "      <td>0.0</td>\n",
       "      <td>True</td>\n",
       "    </tr>\n",
       "  </tbody>\n",
       "</table>\n",
       "</div>"
      ],
      "text/plain": [
       "    Site          Location      businessDate            transDatetime  \\\n",
       "0  Site1  C04 LIBERTY GRLL  2017-01-01 00:00  2017-01-01 14:00:31.000   \n",
       "1  Site1  C04 LIBERTY GRLL  2017-01-01 00:00  2017-01-01 14:33:15.000   \n",
       "\n",
       "   recordID  checkEmployeeID managerEmployeeID  voidFlag  reasonCode  \\\n",
       "0  813258.0         841293.0               NaN     False         0.0   \n",
       "1  812892.0         841293.0               NaN     False         0.0   \n",
       "\n",
       "   priceOvrdeFlag  \n",
       "0            True  \n",
       "1            True  "
      ]
     },
     "execution_count": 5,
     "metadata": {},
     "output_type": "execute_result"
    }
   ],
   "source": [
    "df.head(2)"
   ]
  },
  {
   "cell_type": "code",
   "execution_count": 6,
   "metadata": {
    "collapsed": false,
    "slideshow": {
     "slide_type": "fragment"
    }
   },
   "outputs": [
    {
     "data": {
      "text/plain": [
       "Site2    33171\n",
       "Site1     1762\n",
       "Name: Site, dtype: int64"
      ]
     },
     "execution_count": 6,
     "metadata": {},
     "output_type": "execute_result"
    }
   ],
   "source": [
    "df[df.managerEmployeeID.notnull() & ((df.priceOvrdeFlag.notnull()) | (df.voidFlag.notnull()))]['Site'].value_counts()"
   ]
  },
  {
   "cell_type": "markdown",
   "metadata": {
    "slideshow": {
     "slide_type": "subslide"
    }
   },
   "source": [
    "##  Convert Data into Workable Format\n",
    "\n",
    "- Pivot the table to summarize by day and manager\n"
   ]
  },
  {
   "cell_type": "code",
   "execution_count": 15,
   "metadata": {
    "collapsed": false,
    "slideshow": {
     "slide_type": "fragment"
    }
   },
   "outputs": [],
   "source": [
    "q = ((df.priceOvrdeFlag == True) | (df.voidFlag == True)) & (df.managerEmployeeID.notnull())\n",
    "pivot_df = df[q].pivot_table(index='managerEmployeeID', \n",
    "                             columns='businessDate', \n",
    "                             values=['priceOvrdeFlag'], #, 'voidFlag'\n",
    "                             aggfunc='count')"
   ]
  },
  {
   "cell_type": "code",
   "execution_count": 16,
   "metadata": {
    "collapsed": false,
    "slideshow": {
     "slide_type": "fragment"
    }
   },
   "outputs": [
    {
     "data": {
      "text/html": [
       "<div>\n",
       "<style scoped>\n",
       "    .dataframe tbody tr th:only-of-type {\n",
       "        vertical-align: middle;\n",
       "    }\n",
       "\n",
       "    .dataframe tbody tr th {\n",
       "        vertical-align: top;\n",
       "    }\n",
       "\n",
       "    .dataframe thead tr th {\n",
       "        text-align: left;\n",
       "    }\n",
       "\n",
       "    .dataframe thead tr:last-of-type th {\n",
       "        text-align: right;\n",
       "    }\n",
       "</style>\n",
       "<table border=\"1\" class=\"dataframe\">\n",
       "  <thead>\n",
       "    <tr>\n",
       "      <th></th>\n",
       "      <th colspan=\"21\" halign=\"left\">priceOvrdeFlag</th>\n",
       "    </tr>\n",
       "    <tr>\n",
       "      <th>businessDate</th>\n",
       "      <th>2016-08-06 00:00</th>\n",
       "      <th>2016-08-09 00:00</th>\n",
       "      <th>2016-08-11 00:00</th>\n",
       "      <th>2016-09-01 00:00</th>\n",
       "      <th>2016-09-02 00:00</th>\n",
       "      <th>2016-09-10 00:00</th>\n",
       "      <th>2016-09-11 00:00</th>\n",
       "      <th>2016-09-12 00:00</th>\n",
       "      <th>2016-09-24 00:00</th>\n",
       "      <th>2016-09-25 00:00</th>\n",
       "      <th>...</th>\n",
       "      <th>2017-09-18 00:00</th>\n",
       "      <th>2017-09-19 00:00</th>\n",
       "      <th>2017-09-20 00:00</th>\n",
       "      <th>2017-09-21 00:00</th>\n",
       "      <th>2017-09-23 00:00</th>\n",
       "      <th>2017-09-25 00:00</th>\n",
       "      <th>2017-09-26 00:00</th>\n",
       "      <th>2017-09-27 00:00</th>\n",
       "      <th>2017-09-29 00:00</th>\n",
       "      <th>2017-09-30 00:00</th>\n",
       "    </tr>\n",
       "    <tr>\n",
       "      <th>managerEmployeeID</th>\n",
       "      <th></th>\n",
       "      <th></th>\n",
       "      <th></th>\n",
       "      <th></th>\n",
       "      <th></th>\n",
       "      <th></th>\n",
       "      <th></th>\n",
       "      <th></th>\n",
       "      <th></th>\n",
       "      <th></th>\n",
       "      <th></th>\n",
       "      <th></th>\n",
       "      <th></th>\n",
       "      <th></th>\n",
       "      <th></th>\n",
       "      <th></th>\n",
       "      <th></th>\n",
       "      <th></th>\n",
       "      <th></th>\n",
       "      <th></th>\n",
       "      <th></th>\n",
       "    </tr>\n",
       "  </thead>\n",
       "  <tbody>\n",
       "    <tr>\n",
       "      <th>18177424</th>\n",
       "      <td>NaN</td>\n",
       "      <td>NaN</td>\n",
       "      <td>NaN</td>\n",
       "      <td>NaN</td>\n",
       "      <td>NaN</td>\n",
       "      <td>NaN</td>\n",
       "      <td>NaN</td>\n",
       "      <td>NaN</td>\n",
       "      <td>NaN</td>\n",
       "      <td>NaN</td>\n",
       "      <td>...</td>\n",
       "      <td>NaN</td>\n",
       "      <td>NaN</td>\n",
       "      <td>NaN</td>\n",
       "      <td>NaN</td>\n",
       "      <td>NaN</td>\n",
       "      <td>NaN</td>\n",
       "      <td>NaN</td>\n",
       "      <td>NaN</td>\n",
       "      <td>NaN</td>\n",
       "      <td>NaN</td>\n",
       "    </tr>\n",
       "    <tr>\n",
       "      <th>18236719</th>\n",
       "      <td>NaN</td>\n",
       "      <td>NaN</td>\n",
       "      <td>8.0</td>\n",
       "      <td>NaN</td>\n",
       "      <td>NaN</td>\n",
       "      <td>NaN</td>\n",
       "      <td>NaN</td>\n",
       "      <td>NaN</td>\n",
       "      <td>NaN</td>\n",
       "      <td>NaN</td>\n",
       "      <td>...</td>\n",
       "      <td>NaN</td>\n",
       "      <td>NaN</td>\n",
       "      <td>NaN</td>\n",
       "      <td>NaN</td>\n",
       "      <td>NaN</td>\n",
       "      <td>NaN</td>\n",
       "      <td>NaN</td>\n",
       "      <td>NaN</td>\n",
       "      <td>NaN</td>\n",
       "      <td>NaN</td>\n",
       "    </tr>\n",
       "  </tbody>\n",
       "</table>\n",
       "<p>2 rows × 129 columns</p>\n",
       "</div>"
      ],
      "text/plain": [
       "                    priceOvrdeFlag                                    \\\n",
       "businessDate      2016-08-06 00:00 2016-08-09 00:00 2016-08-11 00:00   \n",
       "managerEmployeeID                                                      \n",
       "18177424                       NaN              NaN              NaN   \n",
       "18236719                       NaN              NaN              8.0   \n",
       "\n",
       "                                                                      \\\n",
       "businessDate      2016-09-01 00:00 2016-09-02 00:00 2016-09-10 00:00   \n",
       "managerEmployeeID                                                      \n",
       "18177424                       NaN              NaN              NaN   \n",
       "18236719                       NaN              NaN              NaN   \n",
       "\n",
       "                                                                      \\\n",
       "businessDate      2016-09-11 00:00 2016-09-12 00:00 2016-09-24 00:00   \n",
       "managerEmployeeID                                                      \n",
       "18177424                       NaN              NaN              NaN   \n",
       "18236719                       NaN              NaN              NaN   \n",
       "\n",
       "                                         ...                          \\\n",
       "businessDate      2016-09-25 00:00       ...        2017-09-18 00:00   \n",
       "managerEmployeeID                        ...                           \n",
       "18177424                       NaN       ...                     NaN   \n",
       "18236719                       NaN       ...                     NaN   \n",
       "\n",
       "                                                                      \\\n",
       "businessDate      2017-09-19 00:00 2017-09-20 00:00 2017-09-21 00:00   \n",
       "managerEmployeeID                                                      \n",
       "18177424                       NaN              NaN              NaN   \n",
       "18236719                       NaN              NaN              NaN   \n",
       "\n",
       "                                                                      \\\n",
       "businessDate      2017-09-23 00:00 2017-09-25 00:00 2017-09-26 00:00   \n",
       "managerEmployeeID                                                      \n",
       "18177424                       NaN              NaN              NaN   \n",
       "18236719                       NaN              NaN              NaN   \n",
       "\n",
       "                                                                      \n",
       "businessDate      2017-09-27 00:00 2017-09-29 00:00 2017-09-30 00:00  \n",
       "managerEmployeeID                                                     \n",
       "18177424                       NaN              NaN              NaN  \n",
       "18236719                       NaN              NaN              NaN  \n",
       "\n",
       "[2 rows x 129 columns]"
      ]
     },
     "execution_count": 16,
     "metadata": {},
     "output_type": "execute_result"
    }
   ],
   "source": [
    "pivot_df.head(2)"
   ]
  },
  {
   "cell_type": "markdown",
   "metadata": {
    "collapsed": true,
    "slideshow": {
     "slide_type": "subslide"
    }
   },
   "source": [
    "## Calculate the Top 20 Void Managers\n",
    "\n",
    "- Show managers who perform high number of voids"
   ]
  },
  {
   "cell_type": "code",
   "execution_count": 17,
   "metadata": {
    "collapsed": false,
    "slideshow": {
     "slide_type": "fragment"
    }
   },
   "outputs": [
    {
     "name": "stderr",
     "output_type": "stream",
     "text": [
      "C:\\Program Files\\ArcGIS\\Pro\\bin\\Python\\envs\\arcgispro-py3\\lib\\site-packages\\seaborn\\categorical.py:1460: FutureWarning: remove_na is deprecated and is a private function. Do not use.\n",
      "  stat_data = remove_na(group_data)\n"
     ]
    },
    {
     "name": "stdout",
     "output_type": "stream",
     "text": [
      "\n"
     ]
    },
    {
     "data": {
      "image/png": "[encoded data removed]",
      "text/plain": [
       "<matplotlib.figure.Figure at 0x1e4b9b0a908>"
      ]
     },
     "metadata": {},
     "output_type": "display_data"
    }
   ],
   "source": [
    "top20 = pivot_df.sum(axis=1).nlargest(20)\n",
    "sns.set_style(\"whitegrid\")\n",
    "top20.name = \"VOIDS\"\n",
    "top20_df = top20.to_frame()\n",
    "top20_df['AVERAGE'] = pivot_df.sum(axis=1).mean()\n",
    "top20_df.sort_values(\"VOIDS\", inplace=True, ascending=False)\n",
    "top20_df.reset_index(inplace=True, drop=False)\n",
    "\n",
    "g = sns.barplot(x=\"managerEmployeeID\", y=\"VOIDS\",               \n",
    "                data=top20_df.astype(int))\n",
    "plt.tight_layout()\n",
    "plt.xticks(rotation=45)\n",
    "print()"
   ]
  },
  {
   "cell_type": "markdown",
   "metadata": {
    "slideshow": {
     "slide_type": "subslide"
    }
   },
   "source": [
    "## Calculating Suspiciousness as a Metric\n",
    "\n",
    "\n",
    "<b/>\n",
    "\n",
    "<img src='./img/thief.jpg' />\n",
    "\n",
    "\n"
   ]
  },
  {
   "cell_type": "markdown",
   "metadata": {
    "slideshow": {
     "slide_type": "fragment"
    }
   },
   "source": [
    "- Determines if the managers are constantly voiding items\n"
   ]
  },
  {
   "cell_type": "markdown",
   "metadata": {
    "slideshow": {
     "slide_type": "subslide"
    }
   },
   "source": [
    "## Calculating Suspiciousness as a Metric (cont)\n",
    "\n",
    "- Find the Daily Mean\n",
    "    - If greater than mean then mark the day\n",
    "    - Then pull managers who show potential large number of voids\n",
    "    "
   ]
  },
  {
   "cell_type": "markdown",
   "metadata": {
    "slideshow": {
     "slide_type": "subslide"
    }
   },
   "source": [
    "### 1. Calculate the days with questionable activity\n",
    "\n",
    "- Use the average of all days"
   ]
  },
  {
   "cell_type": "code",
   "execution_count": 18,
   "metadata": {
    "collapsed": true
   },
   "outputs": [],
   "source": [
    "keeps_cols = []\n",
    "mean = pivot_df.mean().mean()\n",
    "for col in pivot_df.columns:\n",
    "    q = pivot_df[col] >= mean\n",
    "    s = pivot_df.loc[q, col]\n",
    "    if len(s) > 0:\n",
    "        keeps_cols.append(col)"
   ]
  },
  {
   "cell_type": "code",
   "execution_count": 19,
   "metadata": {
    "collapsed": false,
    "slideshow": {
     "slide_type": "fragment"
    }
   },
   "outputs": [
    {
     "name": "stdout",
     "output_type": "stream",
     "text": [
      "[('priceOvrdeFlag', '2016-08-06 00:00'), ('priceOvrdeFlag', '2016-08-09 00:00'), ('priceOvrdeFlag', '2016-08-11 00:00'), ('priceOvrdeFlag', '2016-09-01 00:00'), ('priceOvrdeFlag', '2016-09-02 00:00'), ('priceOvrdeFlag', '2016-09-10 00:00'), ('priceOvrdeFlag', '2016-09-11 00:00'), ('priceOvrdeFlag', '2016-09-12 00:00'), ('priceOvrdeFlag', '2016-09-24 00:00'), ('priceOvrdeFlag', '2016-09-25 00:00'), ('priceOvrdeFlag', '2016-09-26 00:00'), ('priceOvrdeFlag', '2016-09-27 00:00'), ('priceOvrdeFlag', '2016-09-29 00:00'), ('priceOvrdeFlag', '2016-10-01 00:00'), ('priceOvrdeFlag', '2016-10-07 00:00'), ('priceOvrdeFlag', '2016-10-09 00:00'), ('priceOvrdeFlag', '2016-10-12 00:00'), ('priceOvrdeFlag', '2016-10-21 00:00'), ('priceOvrdeFlag', '2016-10-22 00:00'), ('priceOvrdeFlag', '2016-10-23 00:00'), ('priceOvrdeFlag', '2016-10-29 00:00'), ('priceOvrdeFlag', '2016-11-10 00:00'), ('priceOvrdeFlag', '2016-11-13 00:00'), ('priceOvrdeFlag', '2016-11-26 00:00'), ('priceOvrdeFlag', '2016-11-28 00:00'), ('priceOvrdeFlag', '2016-12-08 00:00'), ('priceOvrdeFlag', '2016-12-10 00:00'), ('priceOvrdeFlag', '2016-12-11 00:00'), ('priceOvrdeFlag', '2016-12-19 00:00'), ('priceOvrdeFlag', '2016-12-22 00:00'), ('priceOvrdeFlag', '2016-12-31 00:00'), ('priceOvrdeFlag', '2017-01-01 00:00'), ('priceOvrdeFlag', '2017-04-01 00:00'), ('priceOvrdeFlag', '2017-04-02 00:00'), ('priceOvrdeFlag', '2017-04-03 00:00'), ('priceOvrdeFlag', '2017-04-04 00:00'), ('priceOvrdeFlag', '2017-04-05 00:00'), ('priceOvrdeFlag', '2017-04-06 00:00'), ('priceOvrdeFlag', '2017-04-07 00:00'), ('priceOvrdeFlag', '2017-04-08 00:00'), ('priceOvrdeFlag', '2017-04-09 00:00'), ('priceOvrdeFlag', '2017-04-10 00:00'), ('priceOvrdeFlag', '2017-04-11 00:00'), ('priceOvrdeFlag', '2017-04-12 00:00'), ('priceOvrdeFlag', '2017-04-18 00:00'), ('priceOvrdeFlag', '2017-04-19 00:00'), ('priceOvrdeFlag', '2017-04-21 00:00'), ('priceOvrdeFlag', '2017-04-22 00:00'), ('priceOvrdeFlag', '2017-04-23 00:00'), ('priceOvrdeFlag', '2017-04-25 00:00'), ('priceOvrdeFlag', '2017-04-26 00:00'), ('priceOvrdeFlag', '2017-04-27 00:00'), ('priceOvrdeFlag', '2017-05-01 00:00'), ('priceOvrdeFlag', '2017-05-03 00:00'), ('priceOvrdeFlag', '2017-05-05 00:00'), ('priceOvrdeFlag', '2017-05-06 00:00'), ('priceOvrdeFlag', '2017-05-07 00:00'), ('priceOvrdeFlag', '2017-05-09 00:00'), ('priceOvrdeFlag', '2017-05-10 00:00'), ('priceOvrdeFlag', '2017-05-11 00:00'), ('priceOvrdeFlag', '2017-05-20 00:00'), ('priceOvrdeFlag', '2017-05-22 00:00'), ('priceOvrdeFlag', '2017-05-23 00:00'), ('priceOvrdeFlag', '2017-05-24 00:00'), ('priceOvrdeFlag', '2017-05-25 00:00'), ('priceOvrdeFlag', '2017-05-26 00:00'), ('priceOvrdeFlag', '2017-05-27 00:00'), ('priceOvrdeFlag', '2017-05-28 00:00'), ('priceOvrdeFlag', '2017-06-02 00:00'), ('priceOvrdeFlag', '2017-06-03 00:00'), ('priceOvrdeFlag', '2017-06-04 00:00'), ('priceOvrdeFlag', '2017-06-13 00:00'), ('priceOvrdeFlag', '2017-06-14 00:00'), ('priceOvrdeFlag', '2017-06-15 00:00'), ('priceOvrdeFlag', '2017-06-16 00:00'), ('priceOvrdeFlag', '2017-06-17 00:00'), ('priceOvrdeFlag', '2017-06-18 00:00'), ('priceOvrdeFlag', '2017-06-20 00:00'), ('priceOvrdeFlag', '2017-06-21 00:00'), ('priceOvrdeFlag', '2017-06-22 00:00'), ('priceOvrdeFlag', '2017-06-24 00:00'), ('priceOvrdeFlag', '2017-07-03 00:00'), ('priceOvrdeFlag', '2017-07-04 00:00'), ('priceOvrdeFlag', '2017-07-05 00:00'), ('priceOvrdeFlag', '2017-07-06 00:00'), ('priceOvrdeFlag', '2017-07-07 00:00'), ('priceOvrdeFlag', '2017-07-08 00:00'), ('priceOvrdeFlag', '2017-07-09 00:00'), ('priceOvrdeFlag', '2017-07-21 00:00'), ('priceOvrdeFlag', '2017-07-22 00:00'), ('priceOvrdeFlag', '2017-07-23 00:00'), ('priceOvrdeFlag', '2017-07-24 00:00'), ('priceOvrdeFlag', '2017-07-25 00:00'), ('priceOvrdeFlag', '2017-07-26 00:00'), ('priceOvrdeFlag', '2017-07-28 00:00'), ('priceOvrdeFlag', '2017-07-29 00:00'), ('priceOvrdeFlag', '2017-07-30 00:00'), ('priceOvrdeFlag', '2017-07-31 00:00'), ('priceOvrdeFlag', '2017-08-10 00:00'), ('priceOvrdeFlag', '2017-08-11 00:00'), ('priceOvrdeFlag', '2017-08-12 00:00'), ('priceOvrdeFlag', '2017-08-13 00:00'), ('priceOvrdeFlag', '2017-08-22 00:00'), ('priceOvrdeFlag', '2017-08-23 00:00'), ('priceOvrdeFlag', '2017-08-24 00:00'), ('priceOvrdeFlag', '2017-08-25 00:00'), ('priceOvrdeFlag', '2017-08-26 00:00'), ('priceOvrdeFlag', '2017-08-27 00:00'), ('priceOvrdeFlag', '2017-08-28 00:00'), ('priceOvrdeFlag', '2017-08-30 00:00'), ('priceOvrdeFlag', '2017-09-06 00:00'), ('priceOvrdeFlag', '2017-09-08 00:00'), ('priceOvrdeFlag', '2017-09-09 00:00'), ('priceOvrdeFlag', '2017-09-12 00:00'), ('priceOvrdeFlag', '2017-09-13 00:00'), ('priceOvrdeFlag', '2017-09-14 00:00'), ('priceOvrdeFlag', '2017-09-15 00:00'), ('priceOvrdeFlag', '2017-09-16 00:00'), ('priceOvrdeFlag', '2017-09-17 00:00'), ('priceOvrdeFlag', '2017-09-18 00:00'), ('priceOvrdeFlag', '2017-09-19 00:00'), ('priceOvrdeFlag', '2017-09-20 00:00'), ('priceOvrdeFlag', '2017-09-21 00:00'), ('priceOvrdeFlag', '2017-09-23 00:00'), ('priceOvrdeFlag', '2017-09-25 00:00'), ('priceOvrdeFlag', '2017-09-26 00:00'), ('priceOvrdeFlag', '2017-09-27 00:00'), ('priceOvrdeFlag', '2017-09-29 00:00'), ('priceOvrdeFlag', '2017-09-30 00:00')]\n"
     ]
    }
   ],
   "source": [
    "print([col for col in pivot_df.columns])"
   ]
  },
  {
   "cell_type": "markdown",
   "metadata": {
    "slideshow": {
     "slide_type": "subslide"
    }
   },
   "source": [
    "### 2. Flag Managers Outside the Norm"
   ]
  },
  {
   "cell_type": "code",
   "execution_count": 20,
   "metadata": {
    "collapsed": false,
    "slideshow": {
     "slide_type": "fragment"
    }
   },
   "outputs": [],
   "source": [
    "tracker = {}\n",
    "for col in keeps_cols:\n",
    "    q = pivot_df[col] >= pivot_df[keeps_cols].describe().iloc[6][col]\n",
    "    for manager_id in pivot_df[q].index.tolist():\n",
    "        if manager_id in tracker:\n",
    "            tracker[manager_id] += 1\n",
    "        else:\n",
    "            tracker[manager_id] = 1"
   ]
  },
  {
   "cell_type": "markdown",
   "metadata": {
    "slideshow": {
     "slide_type": "subslide"
    }
   },
   "source": [
    "### 3. Find the Biggest Offenders"
   ]
  },
  {
   "cell_type": "code",
   "execution_count": 21,
   "metadata": {
    "collapsed": false,
    "slideshow": {
     "slide_type": "fragment"
    }
   },
   "outputs": [
    {
     "data": {
      "text/html": [
       "<div>\n",
       "<style scoped>\n",
       "    .dataframe tbody tr th:only-of-type {\n",
       "        vertical-align: middle;\n",
       "    }\n",
       "\n",
       "    .dataframe tbody tr th {\n",
       "        vertical-align: top;\n",
       "    }\n",
       "\n",
       "    .dataframe thead th {\n",
       "        text-align: right;\n",
       "    }\n",
       "</style>\n",
       "<table border=\"1\" class=\"dataframe\">\n",
       "  <thead>\n",
       "    <tr style=\"text-align: right;\">\n",
       "      <th></th>\n",
       "      <th>COUNTS</th>\n",
       "    </tr>\n",
       "  </thead>\n",
       "  <tbody>\n",
       "    <tr>\n",
       "      <th>count</th>\n",
       "      <td>135.000000</td>\n",
       "    </tr>\n",
       "    <tr>\n",
       "      <th>mean</th>\n",
       "      <td>8.511111</td>\n",
       "    </tr>\n",
       "    <tr>\n",
       "      <th>std</th>\n",
       "      <td>11.370206</td>\n",
       "    </tr>\n",
       "    <tr>\n",
       "      <th>min</th>\n",
       "      <td>1.000000</td>\n",
       "    </tr>\n",
       "    <tr>\n",
       "      <th>25%</th>\n",
       "      <td>1.000000</td>\n",
       "    </tr>\n",
       "    <tr>\n",
       "      <th>50%</th>\n",
       "      <td>3.000000</td>\n",
       "    </tr>\n",
       "    <tr>\n",
       "      <th>75%</th>\n",
       "      <td>10.500000</td>\n",
       "    </tr>\n",
       "    <tr>\n",
       "      <th>max</th>\n",
       "      <td>54.000000</td>\n",
       "    </tr>\n",
       "  </tbody>\n",
       "</table>\n",
       "</div>"
      ],
      "text/plain": [
       "           COUNTS\n",
       "count  135.000000\n",
       "mean     8.511111\n",
       "std     11.370206\n",
       "min      1.000000\n",
       "25%      1.000000\n",
       "50%      3.000000\n",
       "75%     10.500000\n",
       "max     54.000000"
      ]
     },
     "execution_count": 21,
     "metadata": {},
     "output_type": "execute_result"
    }
   ],
   "source": [
    "df_final = pd.DataFrame(list(zip(tracker.keys(), tracker.values())), columns=[\"MANAGERID\", \"COUNTS\"])\n",
    "df_final.MANAGERID = df_final.MANAGERID.astype(int).astype(str)\n",
    "df_final.describe()"
   ]
  },
  {
   "cell_type": "code",
   "execution_count": 22,
   "metadata": {
    "collapsed": false,
    "slideshow": {
     "slide_type": "subslide"
    }
   },
   "outputs": [
    {
     "data": {
      "text/plain": [
       "<matplotlib.axes._subplots.AxesSubplot at 0x1e4b9ce5080>"
      ]
     },
     "execution_count": 22,
     "metadata": {},
     "output_type": "execute_result"
    },
    {
     "data": {
      "image/png": "[encoded data removed]",
      "text/plain": [
       "<matplotlib.figure.Figure at 0x1e4b9c02080>"
      ]
     },
     "metadata": {},
     "output_type": "display_data"
    }
   ],
   "source": [
    "sns.distplot(df_final['COUNTS'])"
   ]
  },
  {
   "cell_type": "code",
   "execution_count": 29,
   "metadata": {
    "collapsed": false,
    "slideshow": {
     "slide_type": "subslide"
    }
   },
   "outputs": [
    {
     "name": "stderr",
     "output_type": "stream",
     "text": [
      "C:\\Program Files\\ArcGIS\\Pro\\bin\\Python\\envs\\arcgispro-py3\\lib\\site-packages\\seaborn\\categorical.py:1460: FutureWarning: remove_na is deprecated and is a private function. Do not use.\n",
      "  stat_data = remove_na(group_data)\n"
     ]
    },
    {
     "data": {
      "image/png": "[encoded data removed]",
      "text/plain": [
       "<matplotlib.figure.Figure at 0x1e4ba2c17b8>"
      ]
     },
     "metadata": {},
     "output_type": "display_data"
    }
   ],
   "source": [
    "check_managers = df_final[df_final.COUNTS > df_final.describe().iloc[6][0]].copy()\n",
    "check_managers.sort_values(\"COUNTS\", inplace=True, ascending=False)\n",
    "check_managers.reset_index(inplace=True, drop=True)\n",
    "\n",
    "g = sns.barplot(x=\"MANAGERID\", y=\"COUNTS\",               \n",
    "                data=check_managers)\n",
    "g.legend = True\n",
    "plt.tight_layout()\n",
    "ticks = plt.xticks(rotation=45)"
   ]
  },
  {
   "cell_type": "markdown",
   "metadata": {
    "slideshow": {
     "slide_type": "subslide"
    }
   },
   "source": [
    "## Top Offender\n"
   ]
  },
  {
   "cell_type": "markdown",
   "metadata": {
    "slideshow": {
     "slide_type": "skip"
    }
   },
   "source": [
    "check_managers.head(5)"
   ]
  },
  {
   "cell_type": "code",
   "execution_count": 56,
   "metadata": {
    "collapsed": true,
    "slideshow": {
     "slide_type": "skip"
    }
   },
   "outputs": [],
   "source": [
    "q = np.abs(df_final.COUNTS - df_final.COUNTS.mean()) > (3 * df_final.COUNTS.std())"
   ]
  },
  {
   "cell_type": "code",
   "execution_count": 57,
   "metadata": {
    "collapsed": false
   },
   "outputs": [
    {
     "data": {
      "text/html": [
       "<div>\n",
       "<style scoped>\n",
       "    .dataframe tbody tr th:only-of-type {\n",
       "        vertical-align: middle;\n",
       "    }\n",
       "\n",
       "    .dataframe tbody tr th {\n",
       "        vertical-align: top;\n",
       "    }\n",
       "\n",
       "    .dataframe thead th {\n",
       "        text-align: right;\n",
       "    }\n",
       "</style>\n",
       "<table border=\"1\" class=\"dataframe\">\n",
       "  <thead>\n",
       "    <tr style=\"text-align: right;\">\n",
       "      <th></th>\n",
       "      <th>MANAGERID</th>\n",
       "      <th>COUNTS</th>\n",
       "    </tr>\n",
       "  </thead>\n",
       "  <tbody>\n",
       "    <tr>\n",
       "      <th>18</th>\n",
       "      <td>6330896</td>\n",
       "      <td>43</td>\n",
       "    </tr>\n",
       "    <tr>\n",
       "      <th>77</th>\n",
       "      <td>6330894</td>\n",
       "      <td>54</td>\n",
       "    </tr>\n",
       "    <tr>\n",
       "      <th>90</th>\n",
       "      <td>6330578</td>\n",
       "      <td>43</td>\n",
       "    </tr>\n",
       "  </tbody>\n",
       "</table>\n",
       "</div>"
      ],
      "text/plain": [
       "   MANAGERID  COUNTS\n",
       "18   6330896      43\n",
       "77   6330894      54\n",
       "90   6330578      43"
      ]
     },
     "execution_count": 57,
     "metadata": {},
     "output_type": "execute_result"
    }
   ],
   "source": [
    "df_final[q]"
   ]
  },
  {
   "cell_type": "code",
   "execution_count": 54,
   "metadata": {
    "collapsed": false,
    "slideshow": {
     "slide_type": "skip"
    }
   },
   "outputs": [
    {
     "data": {
      "text/plain": [
       "COUNTS    10.5\n",
       "Name: 75%, dtype: float64"
      ]
     },
     "execution_count": 54,
     "metadata": {},
     "output_type": "execute_result"
    }
   ],
   "source": [
    "df_final.describe().iloc[6][0]"
   ]
  },
  {
   "cell_type": "markdown",
   "metadata": {
    "slideshow": {
     "slide_type": "slide"
    }
   },
   "source": [
    "# Questions?"
   ]
  }
 ],
 "metadata": {
  "celltoolbar": "Slideshow",
  "kernelspec": {
   "display_name": "Python 3",
   "language": "python",
   "name": "python3"
  },
  "language_info": {
   "codemirror_mode": {
    "name": "ipython",
    "version": 3
   },
   "file_extension": ".py",
   "mimetype": "text/x-python",
   "name": "python",
   "nbconvert_exporter": "python",
   "pygments_lexer": "ipython3",
   "version": "3.5.4"
  }
 },
 "nbformat": 4,
 "nbformat_minor": 2
}
