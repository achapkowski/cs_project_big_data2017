{
 "cells": [
  {
   "cell_type": "markdown",
   "metadata": {
    "slideshow": {
     "slide_type": "slide"
    }
   },
   "source": [
    "# Aramark Final Project\n",
    "\n",
    "<br>\n",
    "<br>\n",
    "<br>\n",
    "\n",
    "##### Presentors\n",
    "\n",
    "- Zheming An\n",
    "- Andrew Chapkowski\n",
    "- Shane Dasta\n",
    "- Lingyu Guan"
   ]
  },
  {
   "cell_type": "markdown",
   "metadata": {
    "slideshow": {
     "slide_type": "slide"
    }
   },
   "source": [
    "\n",
    "<p align=\"center\">\n",
    "  <img src=\"./img/aramark_logo.jpg\">\n",
    "</p>\n"
   ]
  },
  {
   "cell_type": "markdown",
   "metadata": {
    "slideshow": {
     "slide_type": "fragment"
    }
   },
   "source": [
    "- customer service business\n",
    "- business streches accross food, facilities and uniforms\n",
    "- ~270,000 employees\n",
    "- servers over 19 countries around the world"
   ]
  },
  {
   "cell_type": "markdown",
   "metadata": {
    "slideshow": {
     "slide_type": "slide"
    }
   },
   "source": [
    "# Presentation Outline"
   ]
  },
  {
   "cell_type": "markdown",
   "metadata": {
    "slideshow": {
     "slide_type": "fragment"
    }
   },
   "source": [
    "- Site Location"
   ]
  },
  {
   "cell_type": "markdown",
   "metadata": {
    "slideshow": {
     "slide_type": "fragment"
    }
   },
   "source": [
    "- Market Analysis"
   ]
  },
  {
   "cell_type": "markdown",
   "metadata": {
    "slideshow": {
     "slide_type": "fragment"
    }
   },
   "source": [
    "- Loss Prevention"
   ]
  },
  {
   "cell_type": "markdown",
   "metadata": {
    "slideshow": {
     "slide_type": "fragment"
    }
   },
   "source": [
    "- Tender Sales Analysis"
   ]
  },
  {
   "cell_type": "markdown",
   "metadata": {
    "slideshow": {
     "slide_type": "fragment"
    }
   },
   "source": [
    "<center><img src=\"./img/ds_kids.jpg\"/> </center>"
   ]
  },
  {
   "cell_type": "markdown",
   "metadata": {
    "slideshow": {
     "slide_type": "subslide"
    }
   },
   "source": [
    "# Site Locations\n",
    "\n",
    "<div align='right'>\n",
    "<img src=\"./img/phillies.jpg\" alt=\"philles\" width=\"500\" height=\"600\">\n",
    "</div>\n"
   ]
  },
  {
   "cell_type": "markdown",
   "metadata": {
    "slideshow": {
     "slide_type": "skip"
    }
   },
   "source": [
    "- Drives sales\n",
    "- Determines staffing"
   ]
  },
  {
   "cell_type": "markdown",
   "metadata": {
    "slideshow": {
     "slide_type": "skip"
    }
   },
   "source": [
    "Understanding where you sell is critical for any organization.  Determining the potential market share that any one company may gain or lose by entering this market is key.  Sites, like stadiums, provide a unique situation where essentially customers are locked into spending their money at a small limited subset of locations.  \n",
    "\n",
    "Even though is there is a limited market options for customers, a company must be aware of how many people attend an event.  \n",
    "Regression Analysis can be used to , staffing and predicting attendance determines how the sales will be at each given"
   ]
  },
  {
   "cell_type": "markdown",
   "metadata": {
    "slideshow": {
     "slide_type": "subslide"
    }
   },
   "source": [
    "# Attendance Analysis\n",
    "\n",
    "### Importance of Prediction\n",
    "\n",
    "- Stadium staffing levels\n",
    "- Local business impact\n",
    "- Team owner profits"
   ]
  },
  {
   "cell_type": "code",
   "execution_count": 8,
   "metadata": {
    "collapsed": true,
    "slideshow": {
     "slide_type": "skip"
    }
   },
   "outputs": [],
   "source": [
    "%matplotlib inline\n",
    "import pandas as pd\n",
    "import sklearn\n",
    "import datetime as dt\n",
    "import matplotlib.pyplot as plt\n",
    "import numpy as np"
   ]
  },
  {
   "cell_type": "code",
   "execution_count": 9,
   "metadata": {
    "collapsed": true,
    "slideshow": {
     "slide_type": "skip"
    }
   },
   "outputs": [],
   "source": [
    "att_df = pd.read_csv(r'data/DIM_ATTENDANCE.csv',\n",
    "                            index_col=None,\n",
    "                            infer_datetime_format=True)\n",
    "cols = ['TotalAttendance', \"ConcessionAttendance\",\n",
    "       'SuiteAttendance', 'ClubAttendance', \n",
    "       'MerchandiseAttendance']"
   ]
  },
  {
   "cell_type": "markdown",
   "metadata": {
    "slideshow": {
     "slide_type": "subslide"
    }
   },
   "source": [
    "## Site 1 Attendance Description"
   ]
  },
  {
   "cell_type": "code",
   "execution_count": 10,
   "metadata": {
    "collapsed": false,
    "slideshow": {
     "slide_type": "fragment"
    }
   },
   "outputs": [
    {
     "data": {
      "text/html": [
       "<div>\n",
       "<style scoped>\n",
       "    .dataframe tbody tr th:only-of-type {\n",
       "        vertical-align: middle;\n",
       "    }\n",
       "\n",
       "    .dataframe tbody tr th {\n",
       "        vertical-align: top;\n",
       "    }\n",
       "\n",
       "    .dataframe thead th {\n",
       "        text-align: right;\n",
       "    }\n",
       "</style>\n",
       "<table border=\"1\" class=\"dataframe\">\n",
       "  <thead>\n",
       "    <tr style=\"text-align: right;\">\n",
       "      <th></th>\n",
       "      <th>TotalAttendance</th>\n",
       "      <th>ConcessionAttendance</th>\n",
       "      <th>SuiteAttendance</th>\n",
       "      <th>ClubAttendance</th>\n",
       "      <th>MerchandiseAttendance</th>\n",
       "    </tr>\n",
       "  </thead>\n",
       "  <tbody>\n",
       "    <tr>\n",
       "      <th>count</th>\n",
       "      <td>30.000000</td>\n",
       "      <td>30.000000</td>\n",
       "      <td>30.000000</td>\n",
       "      <td>30.000000</td>\n",
       "      <td>30.000000</td>\n",
       "    </tr>\n",
       "    <tr>\n",
       "      <th>mean</th>\n",
       "      <td>40196.933333</td>\n",
       "      <td>33779.866667</td>\n",
       "      <td>1986.200000</td>\n",
       "      <td>4430.866667</td>\n",
       "      <td>40196.933333</td>\n",
       "    </tr>\n",
       "    <tr>\n",
       "      <th>std</th>\n",
       "      <td>21518.376158</td>\n",
       "      <td>17793.743493</td>\n",
       "      <td>1009.693788</td>\n",
       "      <td>3020.068802</td>\n",
       "      <td>21518.376158</td>\n",
       "    </tr>\n",
       "    <tr>\n",
       "      <th>min</th>\n",
       "      <td>8272.000000</td>\n",
       "      <td>6108.000000</td>\n",
       "      <td>720.000000</td>\n",
       "      <td>0.000000</td>\n",
       "      <td>8272.000000</td>\n",
       "    </tr>\n",
       "    <tr>\n",
       "      <th>25%</th>\n",
       "      <td>17701.750000</td>\n",
       "      <td>14885.250000</td>\n",
       "      <td>925.000000</td>\n",
       "      <td>1310.750000</td>\n",
       "      <td>17701.750000</td>\n",
       "    </tr>\n",
       "    <tr>\n",
       "      <th>50%</th>\n",
       "      <td>45124.500000</td>\n",
       "      <td>37133.000000</td>\n",
       "      <td>2145.500000</td>\n",
       "      <td>5338.500000</td>\n",
       "      <td>45124.500000</td>\n",
       "    </tr>\n",
       "    <tr>\n",
       "      <th>75%</th>\n",
       "      <td>61538.000000</td>\n",
       "      <td>51083.250000</td>\n",
       "      <td>3074.750000</td>\n",
       "      <td>7376.000000</td>\n",
       "      <td>61538.000000</td>\n",
       "    </tr>\n",
       "    <tr>\n",
       "      <th>max</th>\n",
       "      <td>67002.000000</td>\n",
       "      <td>55536.000000</td>\n",
       "      <td>3339.000000</td>\n",
       "      <td>8142.000000</td>\n",
       "      <td>67002.000000</td>\n",
       "    </tr>\n",
       "  </tbody>\n",
       "</table>\n",
       "</div>"
      ],
      "text/plain": [
       "       TotalAttendance  ConcessionAttendance  SuiteAttendance  ClubAttendance  \\\n",
       "count        30.000000             30.000000        30.000000       30.000000   \n",
       "mean      40196.933333          33779.866667      1986.200000     4430.866667   \n",
       "std       21518.376158          17793.743493      1009.693788     3020.068802   \n",
       "min        8272.000000           6108.000000       720.000000        0.000000   \n",
       "25%       17701.750000          14885.250000       925.000000     1310.750000   \n",
       "50%       45124.500000          37133.000000      2145.500000     5338.500000   \n",
       "75%       61538.000000          51083.250000      3074.750000     7376.000000   \n",
       "max       67002.000000          55536.000000      3339.000000     8142.000000   \n",
       "\n",
       "       MerchandiseAttendance  \n",
       "count              30.000000  \n",
       "mean            40196.933333  \n",
       "std             21518.376158  \n",
       "min              8272.000000  \n",
       "25%             17701.750000  \n",
       "50%             45124.500000  \n",
       "75%             61538.000000  \n",
       "max             67002.000000  "
      ]
     },
     "execution_count": 10,
     "metadata": {},
     "output_type": "execute_result"
    }
   ],
   "source": [
    "att_df.loc[att_df['Location'] == 'Site1', cols].describe()"
   ]
  },
  {
   "cell_type": "markdown",
   "metadata": {
    "slideshow": {
     "slide_type": "subslide"
    }
   },
   "source": [
    "## Site 2 Attendance Description"
   ]
  },
  {
   "cell_type": "code",
   "execution_count": 11,
   "metadata": {
    "collapsed": false,
    "slideshow": {
     "slide_type": "fragment"
    }
   },
   "outputs": [
    {
     "data": {
      "text/html": [
       "<div>\n",
       "<style scoped>\n",
       "    .dataframe tbody tr th:only-of-type {\n",
       "        vertical-align: middle;\n",
       "    }\n",
       "\n",
       "    .dataframe tbody tr th {\n",
       "        vertical-align: top;\n",
       "    }\n",
       "\n",
       "    .dataframe thead th {\n",
       "        text-align: right;\n",
       "    }\n",
       "</style>\n",
       "<table border=\"1\" class=\"dataframe\">\n",
       "  <thead>\n",
       "    <tr style=\"text-align: right;\">\n",
       "      <th></th>\n",
       "      <th>TotalAttendance</th>\n",
       "      <th>ConcessionAttendance</th>\n",
       "      <th>SuiteAttendance</th>\n",
       "      <th>ClubAttendance</th>\n",
       "      <th>MerchandiseAttendance</th>\n",
       "    </tr>\n",
       "  </thead>\n",
       "  <tbody>\n",
       "    <tr>\n",
       "      <th>count</th>\n",
       "      <td>83.000000</td>\n",
       "      <td>83.000000</td>\n",
       "      <td>83.000000</td>\n",
       "      <td>83.000000</td>\n",
       "      <td>83.000000</td>\n",
       "    </tr>\n",
       "    <tr>\n",
       "      <th>mean</th>\n",
       "      <td>19241.879518</td>\n",
       "      <td>16059.891566</td>\n",
       "      <td>846.650602</td>\n",
       "      <td>1423.650602</td>\n",
       "      <td>19241.879518</td>\n",
       "    </tr>\n",
       "    <tr>\n",
       "      <th>std</th>\n",
       "      <td>8071.583848</td>\n",
       "      <td>7501.156672</td>\n",
       "      <td>185.011498</td>\n",
       "      <td>607.358383</td>\n",
       "      <td>8071.583848</td>\n",
       "    </tr>\n",
       "    <tr>\n",
       "      <th>min</th>\n",
       "      <td>0.000000</td>\n",
       "      <td>0.000000</td>\n",
       "      <td>0.000000</td>\n",
       "      <td>0.000000</td>\n",
       "      <td>0.000000</td>\n",
       "    </tr>\n",
       "    <tr>\n",
       "      <th>25%</th>\n",
       "      <td>14147.000000</td>\n",
       "      <td>10904.000000</td>\n",
       "      <td>798.500000</td>\n",
       "      <td>1131.000000</td>\n",
       "      <td>14147.000000</td>\n",
       "    </tr>\n",
       "    <tr>\n",
       "      <th>50%</th>\n",
       "      <td>18515.000000</td>\n",
       "      <td>15019.000000</td>\n",
       "      <td>866.000000</td>\n",
       "      <td>1333.000000</td>\n",
       "      <td>18515.000000</td>\n",
       "    </tr>\n",
       "    <tr>\n",
       "      <th>75%</th>\n",
       "      <td>25054.500000</td>\n",
       "      <td>21446.500000</td>\n",
       "      <td>940.500000</td>\n",
       "      <td>1661.000000</td>\n",
       "      <td>25054.500000</td>\n",
       "    </tr>\n",
       "    <tr>\n",
       "      <th>max</th>\n",
       "      <td>41586.000000</td>\n",
       "      <td>36872.000000</td>\n",
       "      <td>1129.000000</td>\n",
       "      <td>4945.000000</td>\n",
       "      <td>41586.000000</td>\n",
       "    </tr>\n",
       "  </tbody>\n",
       "</table>\n",
       "</div>"
      ],
      "text/plain": [
       "       TotalAttendance  ConcessionAttendance  SuiteAttendance  ClubAttendance  \\\n",
       "count        83.000000             83.000000        83.000000       83.000000   \n",
       "mean      19241.879518          16059.891566       846.650602     1423.650602   \n",
       "std        8071.583848           7501.156672       185.011498      607.358383   \n",
       "min           0.000000              0.000000         0.000000        0.000000   \n",
       "25%       14147.000000          10904.000000       798.500000     1131.000000   \n",
       "50%       18515.000000          15019.000000       866.000000     1333.000000   \n",
       "75%       25054.500000          21446.500000       940.500000     1661.000000   \n",
       "max       41586.000000          36872.000000      1129.000000     4945.000000   \n",
       "\n",
       "       MerchandiseAttendance  \n",
       "count              83.000000  \n",
       "mean            19241.879518  \n",
       "std              8071.583848  \n",
       "min                 0.000000  \n",
       "25%             14147.000000  \n",
       "50%             18515.000000  \n",
       "75%             25054.500000  \n",
       "max             41586.000000  "
      ]
     },
     "execution_count": 11,
     "metadata": {},
     "output_type": "execute_result"
    }
   ],
   "source": [
    "att_df.loc[att_df['Location'] == 'Site2', cols].describe()"
   ]
  },
  {
   "cell_type": "markdown",
   "metadata": {
    "slideshow": {
     "slide_type": "subslide"
    }
   },
   "source": [
    "## Active Business Days Per Month"
   ]
  },
  {
   "cell_type": "code",
   "execution_count": 13,
   "metadata": {
    "collapsed": true,
    "slideshow": {
     "slide_type": "skip"
    }
   },
   "outputs": [],
   "source": [
    "att_df.businessDate = pd.to_datetime(att_df.businessDate)"
   ]
  },
  {
   "cell_type": "code",
   "execution_count": 14,
   "metadata": {
    "collapsed": false,
    "slideshow": {
     "slide_type": "fragment"
    }
   },
   "outputs": [
    {
     "data": {
      "text/plain": [
       "<matplotlib.axes._subplots.AxesSubplot at 0x23f546c9e10>"
      ]
     },
     "execution_count": 14,
     "metadata": {},
     "output_type": "execute_result"
    },
    {
     "data": {
      "image/png": "[encoded data removed]",
      "text/plain": [
       "<matplotlib.figure.Figure at 0x23f546c9438>"
      ]
     },
     "metadata": {},
     "output_type": "display_data"
    }
   ],
   "source": [
    "att_df.businessDate.dt.month.value_counts().sort_index().plot(kind='bar', \n",
    "                                                              colormap='winter')"
   ]
  },
  {
   "cell_type": "markdown",
   "metadata": {
    "slideshow": {
     "slide_type": "subslide"
    }
   },
   "source": [
    "# Predicting Attendance "
   ]
  },
  {
   "cell_type": "markdown",
   "metadata": {
    "slideshow": {
     "slide_type": "fragment"
    }
   },
   "source": [
    "### Regression Model\n",
    "\n",
    "- Estimates Relationships between 2 or more variables"
   ]
  },
  {
   "cell_type": "markdown",
   "metadata": {
    "slideshow": {
     "slide_type": "fragment"
    }
   },
   "source": [
    "\n",
    "$attendance = \\beta_0 + \\beta_1 * (x_1) + \\beta_2 * (x_2) + \\beta_3 * (x_3) + ... + \\beta_n * (x_n)$\n",
    "\n",
    "### Variables:\n",
    "\n",
    "- Total Population (within 30 minute drive time)\n",
    "- Age of Stadium\n",
    "- Games Back from Wildcard\n",
    "- Game Day Temperature\n",
    "- Day of the Week\n",
    "- Streak"
   ]
  },
  {
   "cell_type": "code",
   "execution_count": 15,
   "metadata": {
    "collapsed": false,
    "slideshow": {
     "slide_type": "skip"
    }
   },
   "outputs": [
    {
     "name": "stderr",
     "output_type": "stream",
     "text": [
      "C:\\Program Files\\ArcGIS\\Pro\\bin\\Python\\envs\\arcgispro-py3\\lib\\site-packages\\IPython\\core\\interactiveshell.py:2717: DtypeWarning: Columns (8,10,11,14,15,20,23,25,39,40,44,45,59,63,64,67,68,69,84,85,86,87) have mixed types. Specify dtype option on import or set low_memory=False.\n",
      "  interactivity=interactivity, compiler=compiler, result=result)\n"
     ]
    }
   ],
   "source": [
    "import pandas as pd\n",
    "import sklearn\n",
    "import numpy as np\n",
    "import scipy as sp\n",
    "import datetime\n",
    "\n",
    "age_of_staium = 2017 - 2004\n",
    "total_population = 879000\n",
    "weather = pd.read_csv(r\"D:\\ipython_working_folder\\BigDataClass\\project\\data\\site_data\\weather.csv\",\n",
    "                      parse_dates=True,\n",
    "                      )\n",
    "ds = r\"D:\\ipython_working_folder\\BigDataClass\\project\\data\\site_data\\PhilliesGames.csv\"\n",
    "df = pd.read_csv(ds)\n",
    "df['TotalPop'] = total_population\n",
    "df['AgeOfStadium'] = age_of_staium\n",
    "df['Date'] = df['Date'] + \", 2017\"\n",
    "df['Date'] = [datetime.datetime.strptime(x.replace('(1),', ',').replace(' (2),', ',').replace(\" , \", \", \"), \"%A %b %d, %Y\") for x in df['Date'].tolist()]\n",
    "df['JOIN_DATE'] = df.Date.dt.strftime('%Y-%m-%d')\n",
    "\n",
    "q = weather['REPORTTPYE'] == 'SOD'\n",
    "weather = weather.loc[q, ['DATE', 'DAILYAverageDryBulbTemp']].copy()\n",
    "weather.reset_index(drop=True, inplace=True)\n",
    "weather.DATE = pd.to_datetime(weather.DATE)\n",
    "weather['JOIN_DATE'] = weather.DATE.dt.strftime('%Y-%m-%d')\n",
    "\n",
    "merged = df.merge(weather, on=\"JOIN_DATE\")\n",
    "q_home = merged['Unnamed: 4'] != '@'\n",
    "home_games_df = merged[q_home].copy()\n",
    "home_games_df.reset_index(inplace=True, drop=True)\n",
    "home_games_df = home_games_df[['JOIN_DATE', 'TotalPop',\n",
    "                               'DAILYAverageDryBulbTemp', 'GB', \n",
    "                               'Streak', 'AgeOfStadium', ]]\n",
    "plus_min = [1] * len(home_games_df)\n",
    "for idx, row in enumerate(home_games_df.to_records(index=False,\n",
    "                                                   convert_datetime64=True)):\n",
    "    if row[-2].find('-') > -1:\n",
    "        plus_min[idx] = -1 * len(row[-2])\n",
    "    else:\n",
    "        plus_min[idx] = len(row[-2])\n",
    "home_games_df['Streak'] = plus_min\n",
    "attend = pd.read_csv(r\"D:\\ipython_working_folder\\BigDataClass\\project\\data\\DIM_ATTENDANCE.csv\",\n",
    "                     parse_dates=True)\n",
    "attend['JOIN_DATE'] = pd.to_datetime(attend['businessDate']).dt.strftime('%Y-%m-%d')\n",
    "hg = home_games_df.merge(attend, on='JOIN_DATE')\n",
    "q = hg.Location == 'Site2'\n",
    "hg.GB = hg.GB * -1\n",
    "\n",
    "hg['DayOfWeek']  = pd.to_datetime(hg['JOIN_DATE']).dt.dayofweek + 1\n",
    "site2_df = hg[q]"
   ]
  },
  {
   "cell_type": "code",
   "execution_count": 16,
   "metadata": {
    "collapsed": false,
    "slideshow": {
     "slide_type": "slide"
    }
   },
   "outputs": [
    {
     "data": {
      "text/html": [
       "<div>\n",
       "<style scoped>\n",
       "    .dataframe tbody tr th:only-of-type {\n",
       "        vertical-align: middle;\n",
       "    }\n",
       "\n",
       "    .dataframe tbody tr th {\n",
       "        vertical-align: top;\n",
       "    }\n",
       "\n",
       "    .dataframe thead th {\n",
       "        text-align: right;\n",
       "    }\n",
       "</style>\n",
       "<table border=\"1\" class=\"dataframe\">\n",
       "  <thead>\n",
       "    <tr style=\"text-align: right;\">\n",
       "      <th></th>\n",
       "      <th>JOIN_DATE</th>\n",
       "      <th>TotalPop</th>\n",
       "      <th>DAILYAverageDryBulbTemp</th>\n",
       "      <th>GB</th>\n",
       "      <th>Streak</th>\n",
       "      <th>AgeOfStadium</th>\n",
       "      <th>EventID</th>\n",
       "      <th>Location</th>\n",
       "      <th>SiteID</th>\n",
       "      <th>POS_SystemID</th>\n",
       "      <th>businessDate</th>\n",
       "      <th>TotalAttendance</th>\n",
       "      <th>ConcessionAttendance</th>\n",
       "      <th>SuiteAttendance</th>\n",
       "      <th>TotalNumSuites</th>\n",
       "      <th>SuitesInUse</th>\n",
       "      <th>ClubAttendance</th>\n",
       "      <th>MerchandiseAttendance</th>\n",
       "      <th>DayOfWeek</th>\n",
       "    </tr>\n",
       "  </thead>\n",
       "  <tbody>\n",
       "    <tr>\n",
       "      <th>0</th>\n",
       "      <td>2017-04-07</td>\n",
       "      <td>879000</td>\n",
       "      <td>46.0</td>\n",
       "      <td>-2.0</td>\n",
       "      <td>-3</td>\n",
       "      <td>13</td>\n",
       "      <td>14981354</td>\n",
       "      <td>Site2</td>\n",
       "      <td>6</td>\n",
       "      <td>93</td>\n",
       "      <td>4/7/2017</td>\n",
       "      <td>41586</td>\n",
       "      <td>36872</td>\n",
       "      <td>1091</td>\n",
       "      <td>70</td>\n",
       "      <td>66</td>\n",
       "      <td>2468</td>\n",
       "      <td>41586</td>\n",
       "      <td>5</td>\n",
       "    </tr>\n",
       "    <tr>\n",
       "      <th>1</th>\n",
       "      <td>2017-04-08</td>\n",
       "      <td>879000</td>\n",
       "      <td>50.0</td>\n",
       "      <td>-1.0</td>\n",
       "      <td>1</td>\n",
       "      <td>13</td>\n",
       "      <td>14995359</td>\n",
       "      <td>Site2</td>\n",
       "      <td>6</td>\n",
       "      <td>93</td>\n",
       "      <td>4/8/2017</td>\n",
       "      <td>33731</td>\n",
       "      <td>29966</td>\n",
       "      <td>876</td>\n",
       "      <td>70</td>\n",
       "      <td>49</td>\n",
       "      <td>1833</td>\n",
       "      <td>33731</td>\n",
       "      <td>6</td>\n",
       "    </tr>\n",
       "    <tr>\n",
       "      <th>2</th>\n",
       "      <td>2017-04-09</td>\n",
       "      <td>879000</td>\n",
       "      <td>53.0</td>\n",
       "      <td>-0.0</td>\n",
       "      <td>2</td>\n",
       "      <td>13</td>\n",
       "      <td>14999428</td>\n",
       "      <td>Site2</td>\n",
       "      <td>6</td>\n",
       "      <td>93</td>\n",
       "      <td>4/9/2017</td>\n",
       "      <td>33727</td>\n",
       "      <td>30281</td>\n",
       "      <td>745</td>\n",
       "      <td>68</td>\n",
       "      <td>48</td>\n",
       "      <td>1617</td>\n",
       "      <td>33727</td>\n",
       "      <td>7</td>\n",
       "    </tr>\n",
       "  </tbody>\n",
       "</table>\n",
       "</div>"
      ],
      "text/plain": [
       "    JOIN_DATE  TotalPop  DAILYAverageDryBulbTemp   GB  Streak  AgeOfStadium  \\\n",
       "0  2017-04-07    879000                     46.0 -2.0      -3            13   \n",
       "1  2017-04-08    879000                     50.0 -1.0       1            13   \n",
       "2  2017-04-09    879000                     53.0 -0.0       2            13   \n",
       "\n",
       "    EventID Location  SiteID  POS_SystemID businessDate  TotalAttendance  \\\n",
       "0  14981354    Site2       6            93     4/7/2017            41586   \n",
       "1  14995359    Site2       6            93     4/8/2017            33731   \n",
       "2  14999428    Site2       6            93     4/9/2017            33727   \n",
       "\n",
       "   ConcessionAttendance  SuiteAttendance  TotalNumSuites  SuitesInUse  \\\n",
       "0                 36872             1091              70           66   \n",
       "1                 29966              876              70           49   \n",
       "2                 30281              745              68           48   \n",
       "\n",
       "   ClubAttendance  MerchandiseAttendance  DayOfWeek  \n",
       "0            2468                  41586          5  \n",
       "1            1833                  33731          6  \n",
       "2            1617                  33727          7  "
      ]
     },
     "execution_count": 16,
     "metadata": {},
     "output_type": "execute_result"
    }
   ],
   "source": [
    "site2_df.head(3)"
   ]
  },
  {
   "cell_type": "code",
   "execution_count": 17,
   "metadata": {
    "collapsed": true,
    "slideshow": {
     "slide_type": "skip"
    }
   },
   "outputs": [],
   "source": [
    "from sklearn import datasets, linear_model\n",
    "from sklearn.metrics import mean_squared_error, r2_score\n",
    "from sklearn.model_selection import train_test_split\n",
    "from sklearn.linear_model import LinearRegression\n",
    "from sklearn.metrics import mean_squared_error, r2_score, explained_variance_score"
   ]
  },
  {
   "cell_type": "markdown",
   "metadata": {
    "slideshow": {
     "slide_type": "subslide"
    }
   },
   "source": [
    "## Model Day of the Week"
   ]
  },
  {
   "cell_type": "code",
   "execution_count": 30,
   "metadata": {
    "collapsed": false,
    "slideshow": {
     "slide_type": "fragment"
    }
   },
   "outputs": [],
   "source": [
    "sunday_q = site2_df['DayOfWeek'] == 7\n",
    "hg_sunday = site2_df[sunday_q].copy()"
   ]
  },
  {
   "cell_type": "code",
   "execution_count": 31,
   "metadata": {
    "collapsed": false,
    "slideshow": {
     "slide_type": "fragment"
    }
   },
   "outputs": [],
   "source": [
    "X = hg_sunday[['DAILYAverageDryBulbTemp', 'GB', 'Streak', \n",
    "               'DayOfWeek',  'AgeOfStadium']]\n",
    "y = hg_sunday[ 'TotalAttendance']\n",
    "X_train, X_test, y_train, y_test = train_test_split(X, y, test_size=0.5)"
   ]
  },
  {
   "cell_type": "markdown",
   "metadata": {
    "collapsed": true,
    "slideshow": {
     "slide_type": "subslide"
    }
   },
   "source": [
    "# Attendance Regression Model"
   ]
  },
  {
   "cell_type": "code",
   "execution_count": 32,
   "metadata": {
    "collapsed": false,
    "slideshow": {
     "slide_type": "fragment"
    }
   },
   "outputs": [],
   "source": [
    "regr = LinearRegression()\n",
    "regr.fit(X_train, y_train)\n",
    "attend_y_pred = regr.predict(X_test)"
   ]
  },
  {
   "cell_type": "code",
   "execution_count": 33,
   "metadata": {
    "collapsed": false,
    "slideshow": {
     "slide_type": "fragment"
    }
   },
   "outputs": [
    {
     "name": "stdout",
     "output_type": "stream",
     "text": [
      "Mean squared error: 25724617.90\n",
      "Variance score: 0.14\n"
     ]
    }
   ],
   "source": [
    "# The mean squared error\n",
    "print(\"Mean squared error: %.2f\"\n",
    "      % mean_squared_error(y_test, attend_y_pred))\n",
    "# Explained variance score: 1 is perfect prediction\n",
    "print('Variance score: %.2f' % r2_score(y_test, attend_y_pred))"
   ]
  },
  {
   "cell_type": "markdown",
   "metadata": {
    "slideshow": {
     "slide_type": "slide"
    }
   },
   "source": [
    "# Market Analysis"
   ]
  },
  {
   "cell_type": "markdown",
   "metadata": {},
   "source": []
  },
  {
   "cell_type": "markdown",
   "metadata": {},
   "source": []
  },
  {
   "cell_type": "markdown",
   "metadata": {
    "slideshow": {
     "slide_type": "subslide"
    }
   },
   "source": [
    "## Loss Prevention\n",
    "\n",
    "- Reduce \"shrinkage\"\n",
    "- Detect deliberate human action that causes loss"
   ]
  },
  {
   "cell_type": "markdown",
   "metadata": {
    "slideshow": {
     "slide_type": "fragment"
    }
   },
   "source": [
    "## Categories of Loss\n",
    "\n",
    "- Theft\n",
    "- Fraud\n",
    "- Waste and Abuse\n",
    "- Misconduct\n"
   ]
  },
  {
   "cell_type": "markdown",
   "metadata": {
    "collapsed": true,
    "slideshow": {
     "slide_type": "subslide"
    }
   },
   "source": [
    "## Goal of Model\n",
    "\n",
    "- Detect global trend of malicious activity\n",
    "- Outliers using standard deviation\n",
    "- Follow up with managers to find out why excessive activity occur"
   ]
  },
  {
   "cell_type": "code",
   "execution_count": 34,
   "metadata": {
    "collapsed": false,
    "slideshow": {
     "slide_type": "skip"
    }
   },
   "outputs": [],
   "source": [
    "df = pd.read_csv('./data/FACT_Sites_2017.csv',\n",
    "                 na_values='NULL',\n",
    "                 parse_dates=True, \n",
    "                 usecols=['Site', 'Location', 'businessDate', \n",
    "                          'transDatetime','recordID', \n",
    "                          'checkEmployeeID',  'managerEmployeeID', \n",
    "                          'voidFlag', 'reasonCode', 'priceOvrdeFlag'])\n",
    "df.voidFlag = df.voidFlag.astype(bool)\n",
    "df.priceOvrdeFlag = df.priceOvrdeFlag.astype(bool)\n",
    "df.loc[df.managerEmployeeID.notnull(), 'managerEmployeeID'] = \\\n",
    "df.loc[df.managerEmployeeID.notnull(), 'managerEmployeeID'].astype(int).astype(str)"
   ]
  },
  {
   "cell_type": "markdown",
   "metadata": {
    "slideshow": {
     "slide_type": "subslide"
    }
   },
   "source": [
    "##  Convert Data into Workable Format\n",
    "\n",
    "- Pivot the table to summarize by day and manager"
   ]
  },
  {
   "cell_type": "code",
   "execution_count": 35,
   "metadata": {
    "collapsed": true,
    "slideshow": {
     "slide_type": "fragment"
    }
   },
   "outputs": [],
   "source": [
    "q = ((df.priceOvrdeFlag == True) | (df.voidFlag == True)) & (df.managerEmployeeID.notnull())\n",
    "pivot_df = df[q].pivot_table(index='managerEmployeeID', \n",
    "                             columns='businessDate', \n",
    "                             values=['priceOvrdeFlag'], #, 'voidFlag'\n",
    "                             aggfunc='count')"
   ]
  },
  {
   "cell_type": "code",
   "execution_count": 36,
   "metadata": {
    "collapsed": false,
    "slideshow": {
     "slide_type": "subslide"
    }
   },
   "outputs": [
    {
     "data": {
      "text/html": [
       "<div>\n",
       "<style scoped>\n",
       "    .dataframe tbody tr th:only-of-type {\n",
       "        vertical-align: middle;\n",
       "    }\n",
       "\n",
       "    .dataframe tbody tr th {\n",
       "        vertical-align: top;\n",
       "    }\n",
       "\n",
       "    .dataframe thead tr th {\n",
       "        text-align: left;\n",
       "    }\n",
       "\n",
       "    .dataframe thead tr:last-of-type th {\n",
       "        text-align: right;\n",
       "    }\n",
       "</style>\n",
       "<table border=\"1\" class=\"dataframe\">\n",
       "  <thead>\n",
       "    <tr>\n",
       "      <th></th>\n",
       "      <th colspan=\"21\" halign=\"left\">priceOvrdeFlag</th>\n",
       "    </tr>\n",
       "    <tr>\n",
       "      <th>businessDate</th>\n",
       "      <th>2016-08-06 00:00</th>\n",
       "      <th>2016-08-09 00:00</th>\n",
       "      <th>2016-08-11 00:00</th>\n",
       "      <th>2016-09-01 00:00</th>\n",
       "      <th>2016-09-02 00:00</th>\n",
       "      <th>2016-09-10 00:00</th>\n",
       "      <th>2016-09-11 00:00</th>\n",
       "      <th>2016-09-12 00:00</th>\n",
       "      <th>2016-09-24 00:00</th>\n",
       "      <th>2016-09-25 00:00</th>\n",
       "      <th>...</th>\n",
       "      <th>2017-09-18 00:00</th>\n",
       "      <th>2017-09-19 00:00</th>\n",
       "      <th>2017-09-20 00:00</th>\n",
       "      <th>2017-09-21 00:00</th>\n",
       "      <th>2017-09-23 00:00</th>\n",
       "      <th>2017-09-25 00:00</th>\n",
       "      <th>2017-09-26 00:00</th>\n",
       "      <th>2017-09-27 00:00</th>\n",
       "      <th>2017-09-29 00:00</th>\n",
       "      <th>2017-09-30 00:00</th>\n",
       "    </tr>\n",
       "    <tr>\n",
       "      <th>managerEmployeeID</th>\n",
       "      <th></th>\n",
       "      <th></th>\n",
       "      <th></th>\n",
       "      <th></th>\n",
       "      <th></th>\n",
       "      <th></th>\n",
       "      <th></th>\n",
       "      <th></th>\n",
       "      <th></th>\n",
       "      <th></th>\n",
       "      <th></th>\n",
       "      <th></th>\n",
       "      <th></th>\n",
       "      <th></th>\n",
       "      <th></th>\n",
       "      <th></th>\n",
       "      <th></th>\n",
       "      <th></th>\n",
       "      <th></th>\n",
       "      <th></th>\n",
       "      <th></th>\n",
       "    </tr>\n",
       "  </thead>\n",
       "  <tbody>\n",
       "    <tr>\n",
       "      <th>18177424</th>\n",
       "      <td>NaN</td>\n",
       "      <td>NaN</td>\n",
       "      <td>NaN</td>\n",
       "      <td>NaN</td>\n",
       "      <td>NaN</td>\n",
       "      <td>NaN</td>\n",
       "      <td>NaN</td>\n",
       "      <td>NaN</td>\n",
       "      <td>NaN</td>\n",
       "      <td>NaN</td>\n",
       "      <td>...</td>\n",
       "      <td>NaN</td>\n",
       "      <td>NaN</td>\n",
       "      <td>NaN</td>\n",
       "      <td>NaN</td>\n",
       "      <td>NaN</td>\n",
       "      <td>NaN</td>\n",
       "      <td>NaN</td>\n",
       "      <td>NaN</td>\n",
       "      <td>NaN</td>\n",
       "      <td>NaN</td>\n",
       "    </tr>\n",
       "    <tr>\n",
       "      <th>18236719</th>\n",
       "      <td>NaN</td>\n",
       "      <td>NaN</td>\n",
       "      <td>8.0</td>\n",
       "      <td>NaN</td>\n",
       "      <td>NaN</td>\n",
       "      <td>NaN</td>\n",
       "      <td>NaN</td>\n",
       "      <td>NaN</td>\n",
       "      <td>NaN</td>\n",
       "      <td>NaN</td>\n",
       "      <td>...</td>\n",
       "      <td>NaN</td>\n",
       "      <td>NaN</td>\n",
       "      <td>NaN</td>\n",
       "      <td>NaN</td>\n",
       "      <td>NaN</td>\n",
       "      <td>NaN</td>\n",
       "      <td>NaN</td>\n",
       "      <td>NaN</td>\n",
       "      <td>NaN</td>\n",
       "      <td>NaN</td>\n",
       "    </tr>\n",
       "    <tr>\n",
       "      <th>18236720</th>\n",
       "      <td>NaN</td>\n",
       "      <td>NaN</td>\n",
       "      <td>1.0</td>\n",
       "      <td>NaN</td>\n",
       "      <td>NaN</td>\n",
       "      <td>NaN</td>\n",
       "      <td>NaN</td>\n",
       "      <td>NaN</td>\n",
       "      <td>NaN</td>\n",
       "      <td>NaN</td>\n",
       "      <td>...</td>\n",
       "      <td>NaN</td>\n",
       "      <td>NaN</td>\n",
       "      <td>NaN</td>\n",
       "      <td>NaN</td>\n",
       "      <td>NaN</td>\n",
       "      <td>NaN</td>\n",
       "      <td>NaN</td>\n",
       "      <td>NaN</td>\n",
       "      <td>NaN</td>\n",
       "      <td>NaN</td>\n",
       "    </tr>\n",
       "    <tr>\n",
       "      <th>18236794</th>\n",
       "      <td>NaN</td>\n",
       "      <td>NaN</td>\n",
       "      <td>4.0</td>\n",
       "      <td>NaN</td>\n",
       "      <td>1.0</td>\n",
       "      <td>NaN</td>\n",
       "      <td>2.0</td>\n",
       "      <td>NaN</td>\n",
       "      <td>NaN</td>\n",
       "      <td>1.0</td>\n",
       "      <td>...</td>\n",
       "      <td>NaN</td>\n",
       "      <td>NaN</td>\n",
       "      <td>NaN</td>\n",
       "      <td>NaN</td>\n",
       "      <td>NaN</td>\n",
       "      <td>NaN</td>\n",
       "      <td>NaN</td>\n",
       "      <td>NaN</td>\n",
       "      <td>NaN</td>\n",
       "      <td>NaN</td>\n",
       "    </tr>\n",
       "    <tr>\n",
       "      <th>18236802</th>\n",
       "      <td>4.0</td>\n",
       "      <td>NaN</td>\n",
       "      <td>NaN</td>\n",
       "      <td>NaN</td>\n",
       "      <td>11.0</td>\n",
       "      <td>NaN</td>\n",
       "      <td>11.0</td>\n",
       "      <td>NaN</td>\n",
       "      <td>NaN</td>\n",
       "      <td>NaN</td>\n",
       "      <td>...</td>\n",
       "      <td>NaN</td>\n",
       "      <td>NaN</td>\n",
       "      <td>NaN</td>\n",
       "      <td>NaN</td>\n",
       "      <td>NaN</td>\n",
       "      <td>NaN</td>\n",
       "      <td>NaN</td>\n",
       "      <td>NaN</td>\n",
       "      <td>NaN</td>\n",
       "      <td>NaN</td>\n",
       "    </tr>\n",
       "  </tbody>\n",
       "</table>\n",
       "<p>5 rows × 129 columns</p>\n",
       "</div>"
      ],
      "text/plain": [
       "                    priceOvrdeFlag                                    \\\n",
       "businessDate      2016-08-06 00:00 2016-08-09 00:00 2016-08-11 00:00   \n",
       "managerEmployeeID                                                      \n",
       "18177424                       NaN              NaN              NaN   \n",
       "18236719                       NaN              NaN              8.0   \n",
       "18236720                       NaN              NaN              1.0   \n",
       "18236794                       NaN              NaN              4.0   \n",
       "18236802                       4.0              NaN              NaN   \n",
       "\n",
       "                                                                      \\\n",
       "businessDate      2016-09-01 00:00 2016-09-02 00:00 2016-09-10 00:00   \n",
       "managerEmployeeID                                                      \n",
       "18177424                       NaN              NaN              NaN   \n",
       "18236719                       NaN              NaN              NaN   \n",
       "18236720                       NaN              NaN              NaN   \n",
       "18236794                       NaN              1.0              NaN   \n",
       "18236802                       NaN             11.0              NaN   \n",
       "\n",
       "                                                                      \\\n",
       "businessDate      2016-09-11 00:00 2016-09-12 00:00 2016-09-24 00:00   \n",
       "managerEmployeeID                                                      \n",
       "18177424                       NaN              NaN              NaN   \n",
       "18236719                       NaN              NaN              NaN   \n",
       "18236720                       NaN              NaN              NaN   \n",
       "18236794                       2.0              NaN              NaN   \n",
       "18236802                      11.0              NaN              NaN   \n",
       "\n",
       "                                         ...                          \\\n",
       "businessDate      2016-09-25 00:00       ...        2017-09-18 00:00   \n",
       "managerEmployeeID                        ...                           \n",
       "18177424                       NaN       ...                     NaN   \n",
       "18236719                       NaN       ...                     NaN   \n",
       "18236720                       NaN       ...                     NaN   \n",
       "18236794                       1.0       ...                     NaN   \n",
       "18236802                       NaN       ...                     NaN   \n",
       "\n",
       "                                                                      \\\n",
       "businessDate      2017-09-19 00:00 2017-09-20 00:00 2017-09-21 00:00   \n",
       "managerEmployeeID                                                      \n",
       "18177424                       NaN              NaN              NaN   \n",
       "18236719                       NaN              NaN              NaN   \n",
       "18236720                       NaN              NaN              NaN   \n",
       "18236794                       NaN              NaN              NaN   \n",
       "18236802                       NaN              NaN              NaN   \n",
       "\n",
       "                                                                      \\\n",
       "businessDate      2017-09-23 00:00 2017-09-25 00:00 2017-09-26 00:00   \n",
       "managerEmployeeID                                                      \n",
       "18177424                       NaN              NaN              NaN   \n",
       "18236719                       NaN              NaN              NaN   \n",
       "18236720                       NaN              NaN              NaN   \n",
       "18236794                       NaN              NaN              NaN   \n",
       "18236802                       NaN              NaN              NaN   \n",
       "\n",
       "                                                                      \n",
       "businessDate      2017-09-27 00:00 2017-09-29 00:00 2017-09-30 00:00  \n",
       "managerEmployeeID                                                     \n",
       "18177424                       NaN              NaN              NaN  \n",
       "18236719                       NaN              NaN              NaN  \n",
       "18236720                       NaN              NaN              NaN  \n",
       "18236794                       NaN              NaN              NaN  \n",
       "18236802                       NaN              NaN              NaN  \n",
       "\n",
       "[5 rows x 129 columns]"
      ]
     },
     "execution_count": 36,
     "metadata": {},
     "output_type": "execute_result"
    }
   ],
   "source": [
    "pivot_df.head()"
   ]
  },
  {
   "cell_type": "markdown",
   "metadata": {
    "slideshow": {
     "slide_type": "subslide"
    }
   },
   "source": [
    "## Calculate the Top 5 Managers\n",
    "\n",
    "- Show managers who perform high number of voids"
   ]
  },
  {
   "cell_type": "code",
   "execution_count": 37,
   "metadata": {
    "collapsed": false,
    "slideshow": {
     "slide_type": "fragment"
    }
   },
   "outputs": [
    {
     "ename": "NameError",
     "evalue": "name 'sns' is not defined",
     "output_type": "error",
     "traceback": [
      "\u001b[1;31m---------------------------------------------------------------------------\u001b[0m",
      "\u001b[1;31mNameError\u001b[0m                                 Traceback (most recent call last)",
      "\u001b[1;32m<ipython-input-37-6b4b4e23f352>\u001b[0m in \u001b[0;36m<module>\u001b[1;34m()\u001b[0m\n\u001b[0;32m      1\u001b[0m \u001b[0mtop20\u001b[0m \u001b[1;33m=\u001b[0m \u001b[0mpivot_df\u001b[0m\u001b[1;33m.\u001b[0m\u001b[0msum\u001b[0m\u001b[1;33m(\u001b[0m\u001b[0maxis\u001b[0m\u001b[1;33m=\u001b[0m\u001b[1;36m1\u001b[0m\u001b[1;33m)\u001b[0m\u001b[1;33m.\u001b[0m\u001b[0mnlargest\u001b[0m\u001b[1;33m(\u001b[0m\u001b[1;36m5\u001b[0m\u001b[1;33m)\u001b[0m\u001b[1;33m\u001b[0m\u001b[0m\n\u001b[1;32m----> 2\u001b[1;33m \u001b[0msns\u001b[0m\u001b[1;33m.\u001b[0m\u001b[0mset_style\u001b[0m\u001b[1;33m(\u001b[0m\u001b[1;34m\"whitegrid\"\u001b[0m\u001b[1;33m)\u001b[0m\u001b[1;33m\u001b[0m\u001b[0m\n\u001b[0m\u001b[0;32m      3\u001b[0m \u001b[0mtop20\u001b[0m\u001b[1;33m.\u001b[0m\u001b[0mname\u001b[0m \u001b[1;33m=\u001b[0m \u001b[1;34m\"VOIDS\"\u001b[0m\u001b[1;33m\u001b[0m\u001b[0m\n\u001b[0;32m      4\u001b[0m \u001b[0mtop20_df\u001b[0m \u001b[1;33m=\u001b[0m \u001b[0mtop20\u001b[0m\u001b[1;33m.\u001b[0m\u001b[0mto_frame\u001b[0m\u001b[1;33m(\u001b[0m\u001b[1;33m)\u001b[0m\u001b[1;33m\u001b[0m\u001b[0m\n\u001b[0;32m      5\u001b[0m \u001b[0mtop20_df\u001b[0m\u001b[1;33m[\u001b[0m\u001b[1;34m'AVERAGE'\u001b[0m\u001b[1;33m]\u001b[0m \u001b[1;33m=\u001b[0m \u001b[0mpivot_df\u001b[0m\u001b[1;33m.\u001b[0m\u001b[0msum\u001b[0m\u001b[1;33m(\u001b[0m\u001b[0maxis\u001b[0m\u001b[1;33m=\u001b[0m\u001b[1;36m1\u001b[0m\u001b[1;33m)\u001b[0m\u001b[1;33m.\u001b[0m\u001b[0mmean\u001b[0m\u001b[1;33m(\u001b[0m\u001b[1;33m)\u001b[0m\u001b[1;33m\u001b[0m\u001b[0m\n",
      "\u001b[1;31mNameError\u001b[0m: name 'sns' is not defined"
     ]
    }
   ],
   "source": [
    "top20 = pivot_df.sum(axis=1).nlargest(5)\n",
    "sns.set_style(\"whitegrid\")\n",
    "top20.name = \"VOIDS\"\n",
    "top20_df = top20.to_frame()\n",
    "top20_df['AVERAGE'] = pivot_df.sum(axis=1).mean()\n",
    "top20_df.sort_values(\"VOIDS\", inplace=True, ascending=False)\n",
    "top20_df.reset_index(inplace=True, drop=False)\n",
    "\n",
    "g = sns.barplot(x=\"managerEmployeeID\", y=\"VOIDS\",               \n",
    "                data=top20_df.astype(int))\n",
    "plt.tight_layout()\n",
    "plt.xticks(rotation=45)"
   ]
  },
  {
   "cell_type": "markdown",
   "metadata": {
    "slideshow": {
     "slide_type": "subslide"
    }
   },
   "source": [
    "## Calculating Suspiciousness as a Metric\n",
    "\n",
    "\n",
    "<b/>\n",
    "\n",
    "<img src='./img/thief.jpg' />\n",
    "\n"
   ]
  },
  {
   "cell_type": "markdown",
   "metadata": {
    "slideshow": {
     "slide_type": "fragment"
    }
   },
   "source": [
    "- Find the Daily Mean\n",
    "    - If greater than mean then mark the day\n",
    "    - Then pull managers who show potential large number of voids"
   ]
  },
  {
   "cell_type": "markdown",
   "metadata": {
    "slideshow": {
     "slide_type": "subslide"
    }
   },
   "source": [
    "## Calculating Suspiciousness as a Metric (cont)\n",
    "\n",
    "**1).** Calculate for each day questionable activity"
   ]
  },
  {
   "cell_type": "code",
   "execution_count": null,
   "metadata": {
    "collapsed": true,
    "slideshow": {
     "slide_type": "skip"
    }
   },
   "outputs": [],
   "source": [
    "keeps_cols = []\n",
    "mean = pivot_df.mean().mean()\n",
    "for col in pivot_df.columns:\n",
    "    q = pivot_df[col] >= mean\n",
    "    s = pivot_df.loc[q, col]\n",
    "    if len(s) > 0:\n",
    "        keeps_cols.append(col)"
   ]
  },
  {
   "cell_type": "markdown",
   "metadata": {},
   "source": [
    "**2).** Flag Managers Outside the Norm for each day worked"
   ]
  },
  {
   "cell_type": "code",
   "execution_count": null,
   "metadata": {
    "collapsed": true,
    "slideshow": {
     "slide_type": "fragment"
    }
   },
   "outputs": [],
   "source": [
    "tracker = {}\n",
    "for col in keeps_cols:\n",
    "    q = pivot_df[col] >= pivot_df[keeps_cols].describe().iloc[6][col]\n",
    "    for manager_id in pivot_df[q].index.tolist():\n",
    "        if manager_id in tracker:\n",
    "            tracker[manager_id] += 1\n",
    "        else:\n",
    "            tracker[manager_id] = 1"
   ]
  },
  {
   "cell_type": "markdown",
   "metadata": {
    "slideshow": {
     "slide_type": "fragment"
    }
   },
   "source": [
    "**3).** Find the Biggest Offenders"
   ]
  },
  {
   "cell_type": "code",
   "execution_count": null,
   "metadata": {
    "collapsed": true,
    "slideshow": {
     "slide_type": "subslide"
    }
   },
   "outputs": [],
   "source": [
    "df_final = pd.DataFrame(list(zip(tracker.keys(), tracker.values())), columns=[\"MANAGERID\", \"COUNTS\"])\n",
    "df_final.MANAGERID = df_final.MANAGERID.astype(int).astype(str)\n",
    "df_final.describe()\n",
    "sns.distplot(df_final['COUNTS'])"
   ]
  },
  {
   "cell_type": "code",
   "execution_count": null,
   "metadata": {
    "collapsed": true,
    "slideshow": {
     "slide_type": "subslide"
    }
   },
   "outputs": [],
   "source": [
    "df = randVendorFreqs(locFreqDict, 2)\n",
    "df_new = pd.DataFrame(df['itemsGroup'].tolist(), \n",
    "                      columns=['Item1', 'Item2', 'Item3'])\n",
    "q = df['Item1'] == 'DogFishHead LPD'\n",
    "df_new[q]"
   ]
  },
  {
   "cell_type": "code",
   "execution_count": null,
   "metadata": {
    "collapsed": true,
    "slideshow": {
     "slide_type": "fragment"
    }
   },
   "outputs": [],
   "source": [
    "q = np.abs(df_final.COUNTS - df_final.COUNTS.mean()) > (3 * df_final.COUNTS.std())"
   ]
  },
  {
   "cell_type": "code",
   "execution_count": null,
   "metadata": {
    "collapsed": true
   },
   "outputs": [],
   "source": []
  },
  {
   "cell_type": "markdown",
   "metadata": {
    "slideshow": {
     "slide_type": "slide"
    }
   },
   "source": [
    "# Questions?"
   ]
  }
 ],
 "metadata": {
  "celltoolbar": "Slideshow",
  "kernelspec": {
   "display_name": "Python 3",
   "language": "python",
   "name": "python3"
  },
  "language_info": {
   "codemirror_mode": {
    "name": "ipython",
    "version": 3
   },
   "file_extension": ".py",
   "mimetype": "text/x-python",
   "name": "python",
   "nbconvert_exporter": "python",
   "pygments_lexer": "ipython3",
   "version": "3.5.4"
  }
 },
 "nbformat": 4,
 "nbformat_minor": 2
}
