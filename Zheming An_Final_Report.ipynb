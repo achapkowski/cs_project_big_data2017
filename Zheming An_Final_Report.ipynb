{
 "cells": [
  {
   "cell_type": "code",
   "execution_count": 1,
   "metadata": {
    "collapsed": true,
    "slideshow": {
     "slide_type": "skip"
    }
   },
   "outputs": [],
   "source": [
    "## DO NOT MODIFY\n",
    "%matplotlib inline\n",
    "import pandas as pd\n",
    "from sklearn.feature_extraction.text import CountVectorizer, TfidfVectorizer\n",
    "import matplotlib.pyplot as plt\n",
    "import numpy as np\n",
    "import statsmodels.formula.api as sm\n",
    "import seaborn as sns; sns.set()"
   ]
  },
  {
   "cell_type": "markdown",
   "metadata": {
    "slideshow": {
     "slide_type": "slide"
    }
   },
   "source": [
    "# Dataset used in this section: Attendance"
   ]
  },
  {
   "cell_type": "code",
   "execution_count": 2,
   "metadata": {
    "collapsed": true,
    "slideshow": {
     "slide_type": "skip"
    }
   },
   "outputs": [],
   "source": [
    "Att_data = pd.read_csv('data/DIM_ATTENDANCE.csv', na_values='NULL',sep = ',',\n",
    "                        dtype={},parse_dates=['businessDate'])"
   ]
  },
  {
   "cell_type": "code",
   "execution_count": 3,
   "metadata": {
    "scrolled": true,
    "slideshow": {
     "slide_type": "slide"
    }
   },
   "outputs": [
    {
     "data": {
      "text/html": [
       "<div>\n",
       "<style>\n",
       "    .dataframe thead tr:only-child th {\n",
       "        text-align: right;\n",
       "    }\n",
       "\n",
       "    .dataframe thead th {\n",
       "        text-align: left;\n",
       "    }\n",
       "\n",
       "    .dataframe tbody tr th {\n",
       "        vertical-align: top;\n",
       "    }\n",
       "</style>\n",
       "<table border=\"1\" class=\"dataframe\">\n",
       "  <thead>\n",
       "    <tr style=\"text-align: right;\">\n",
       "      <th></th>\n",
       "      <th>EventID</th>\n",
       "      <th>Location</th>\n",
       "      <th>SiteID</th>\n",
       "      <th>POS_SystemID</th>\n",
       "      <th>businessDate</th>\n",
       "      <th>TotalAttendance</th>\n",
       "      <th>ConcessionAttendance</th>\n",
       "      <th>SuiteAttendance</th>\n",
       "      <th>TotalNumSuites</th>\n",
       "      <th>SuitesInUse</th>\n",
       "      <th>ClubAttendance</th>\n",
       "      <th>MerchandiseAttendance</th>\n",
       "    </tr>\n",
       "  </thead>\n",
       "  <tbody>\n",
       "    <tr>\n",
       "      <th>0</th>\n",
       "      <td>14895690</td>\n",
       "      <td>Site2</td>\n",
       "      <td>6</td>\n",
       "      <td>93</td>\n",
       "      <td>2017-03-30</td>\n",
       "      <td>0</td>\n",
       "      <td>0</td>\n",
       "      <td>0</td>\n",
       "      <td>0</td>\n",
       "      <td>0</td>\n",
       "      <td>0</td>\n",
       "      <td>0</td>\n",
       "    </tr>\n",
       "    <tr>\n",
       "      <th>1</th>\n",
       "      <td>14981354</td>\n",
       "      <td>Site2</td>\n",
       "      <td>6</td>\n",
       "      <td>93</td>\n",
       "      <td>2017-04-07</td>\n",
       "      <td>41586</td>\n",
       "      <td>36872</td>\n",
       "      <td>1091</td>\n",
       "      <td>70</td>\n",
       "      <td>66</td>\n",
       "      <td>2468</td>\n",
       "      <td>41586</td>\n",
       "    </tr>\n",
       "    <tr>\n",
       "      <th>2</th>\n",
       "      <td>14995359</td>\n",
       "      <td>Site2</td>\n",
       "      <td>6</td>\n",
       "      <td>93</td>\n",
       "      <td>2017-04-08</td>\n",
       "      <td>33731</td>\n",
       "      <td>29966</td>\n",
       "      <td>876</td>\n",
       "      <td>70</td>\n",
       "      <td>49</td>\n",
       "      <td>1833</td>\n",
       "      <td>33731</td>\n",
       "    </tr>\n",
       "    <tr>\n",
       "      <th>3</th>\n",
       "      <td>14999428</td>\n",
       "      <td>Site2</td>\n",
       "      <td>6</td>\n",
       "      <td>93</td>\n",
       "      <td>2017-04-09</td>\n",
       "      <td>33727</td>\n",
       "      <td>30281</td>\n",
       "      <td>745</td>\n",
       "      <td>68</td>\n",
       "      <td>48</td>\n",
       "      <td>1617</td>\n",
       "      <td>33727</td>\n",
       "    </tr>\n",
       "    <tr>\n",
       "      <th>4</th>\n",
       "      <td>15004567</td>\n",
       "      <td>Site2</td>\n",
       "      <td>6</td>\n",
       "      <td>93</td>\n",
       "      <td>2017-04-10</td>\n",
       "      <td>30244</td>\n",
       "      <td>27128</td>\n",
       "      <td>763</td>\n",
       "      <td>68</td>\n",
       "      <td>48</td>\n",
       "      <td>1172</td>\n",
       "      <td>30244</td>\n",
       "    </tr>\n",
       "  </tbody>\n",
       "</table>\n",
       "</div>"
      ],
      "text/plain": [
       "    EventID Location  SiteID  POS_SystemID businessDate  TotalAttendance  \\\n",
       "0  14895690    Site2       6            93   2017-03-30                0   \n",
       "1  14981354    Site2       6            93   2017-04-07            41586   \n",
       "2  14995359    Site2       6            93   2017-04-08            33731   \n",
       "3  14999428    Site2       6            93   2017-04-09            33727   \n",
       "4  15004567    Site2       6            93   2017-04-10            30244   \n",
       "\n",
       "   ConcessionAttendance  SuiteAttendance  TotalNumSuites  SuitesInUse  \\\n",
       "0                     0                0               0            0   \n",
       "1                 36872             1091              70           66   \n",
       "2                 29966              876              70           49   \n",
       "3                 30281              745              68           48   \n",
       "4                 27128              763              68           48   \n",
       "\n",
       "   ClubAttendance  MerchandiseAttendance  \n",
       "0               0                      0  \n",
       "1            2468                  41586  \n",
       "2            1833                  33731  \n",
       "3            1617                  33727  \n",
       "4            1172                  30244  "
      ]
     },
     "execution_count": 3,
     "metadata": {},
     "output_type": "execute_result"
    }
   ],
   "source": [
    "Att_data.head()"
   ]
  },
  {
   "cell_type": "markdown",
   "metadata": {
    "slideshow": {
     "slide_type": "slide"
    }
   },
   "source": [
    "# Correlation Analysis Between Different Components of Attendance."
   ]
  },
  {
   "cell_type": "code",
   "execution_count": 4,
   "metadata": {
    "scrolled": false,
    "slideshow": {
     "slide_type": "slide"
    }
   },
   "outputs": [
    {
     "name": "stdout",
     "output_type": "stream",
     "text": [
      "                      TotalAttendance  ConcessionAttendance  SuiteAttendance  \\\n",
      "TotalAttendance              1.000000              0.997338         0.871092   \n",
      "ConcessionAttendance         0.997338              1.000000         0.843754   \n",
      "SuiteAttendance              0.871092              0.843754         1.000000   \n",
      "ClubAttendance               0.920549              0.892316         0.915700   \n",
      "\n",
      "                      ClubAttendance  \n",
      "TotalAttendance             0.920549  \n",
      "ConcessionAttendance        0.892316  \n",
      "SuiteAttendance             0.915700  \n",
      "ClubAttendance              1.000000  \n"
     ]
    }
   ],
   "source": [
    "Corralation_Matrix = Att_data[['TotalAttendance','ConcessionAttendance','SuiteAttendance','ClubAttendance']].corr()\n",
    "print(Corralation_Matrix)"
   ]
  },
  {
   "cell_type": "markdown",
   "metadata": {
    "slideshow": {
     "slide_type": "slide"
    }
   },
   "source": [
    "# Visualization of corralation matrix. "
   ]
  },
  {
   "cell_type": "code",
   "execution_count": 15,
   "metadata": {
    "slideshow": {
     "slide_type": "skip"
    }
   },
   "outputs": [],
   "source": [
    "sns.set(style=\"white\")\n",
    "# Generate a mask for the upper triangle\n",
    "mask = np.zeros_like(Corralation_Matrix, dtype=np.bool)\n",
    "mask[np.triu_indices_from(mask)] = True\n",
    "# Set up the matplotlib figure\n",
    "\n",
    "# Generate a custom diverging colormap\n",
    "\n",
    "# Draw the heatmap with the mask and correct aspect ratio\n"
   ]
  },
  {
   "cell_type": "code",
   "execution_count": 16,
   "metadata": {
    "slideshow": {
     "slide_type": "slide"
    }
   },
   "outputs": [
    {
     "data": {
      "text/plain": [
       "<matplotlib.axes._subplots.AxesSubplot at 0x1a1f4d34a8>"
      ]
     },
     "execution_count": 16,
     "metadata": {},
     "output_type": "execute_result"
    },
    {
     "data": {
      "image/png": "[encoded data removed]",
      "text/plain": [
       "<matplotlib.figure.Figure at 0x1a1f4eb588>"
      ]
     },
     "metadata": {},
     "output_type": "display_data"
    }
   ],
   "source": [
    "f, ax = plt.subplots(figsize=(10, 7))\n",
    "cmap = sns.diverging_palette(240, 10, n=9)\n",
    "sns.heatmap(Corralation_Matrix, mask=mask, cmap=cmap, center=0.92,\n",
    "            square=True, linewidths=.3, cbar_kws={\"shrink\": .5})"
   ]
  },
  {
   "cell_type": "markdown",
   "metadata": {
    "slideshow": {
     "slide_type": "slide"
    }
   },
   "source": [
    "# Result:\n",
    "Any pair of components are highly related ($>0.8$). Total Attendance and Concession Attendance have largest corralation coefficient. And suite attendance is less related to the other three."
   ]
  },
  {
   "cell_type": "markdown",
   "metadata": {
    "slideshow": {
     "slide_type": "slide"
    }
   },
   "source": [
    "# OLS regression analysis on Attendance Data\n",
    "The total attendance have three components: concession attendance, suite attendance and club attendance. Here we try to find the multiple linear regression formula to describe the linear relationship between them, it could also used for attendance prediction."
   ]
  },
  {
   "cell_type": "code",
   "execution_count": 6,
   "metadata": {
    "slideshow": {
     "slide_type": "slide"
    }
   },
   "outputs": [
    {
     "name": "stdout",
     "output_type": "stream",
     "text": [
      "Intercept     1000.873086\n",
      "Concession       1.006690\n",
      "Suite            0.701050\n",
      "Club             0.943030\n",
      "dtype: float64\n"
     ]
    }
   ],
   "source": [
    "Total      = Att_data.TotalAttendance\n",
    "Concession = Att_data.ConcessionAttendance\n",
    "Suite      = Att_data.SuiteAttendance\n",
    "Club       = Att_data.ClubAttendance\n",
    "result     = sm.ols(formula=\"Total ~ Concession + Suite + Club\", data=Att_data).fit()\n",
    "print (result.params)"
   ]
  },
  {
   "cell_type": "code",
   "execution_count": 7,
   "metadata": {
    "slideshow": {
     "slide_type": "slide"
    }
   },
   "outputs": [
    {
     "name": "stdout",
     "output_type": "stream",
     "text": [
      "                            OLS Regression Results                            \n",
      "==============================================================================\n",
      "Dep. Variable:                  Total   R-squared:                       0.999\n",
      "Model:                            OLS   Adj. R-squared:                  0.999\n",
      "Method:                 Least Squares   F-statistic:                 6.579e+04\n",
      "Date:                Mon, 04 Dec 2017   Prob (F-statistic):          2.27e-177\n",
      "Time:                        18:08:48   Log-Likelihood:                -829.40\n",
      "No. Observations:                 113   AIC:                             1667.\n",
      "Df Residuals:                     109   BIC:                             1678.\n",
      "Df Model:                           3                                         \n",
      "Covariance Type:            nonrobust                                         \n",
      "==============================================================================\n",
      "                 coef    std err          t      P>|t|      [0.025      0.975]\n",
      "------------------------------------------------------------------------------\n",
      "Intercept   1000.8731     83.629     11.968      0.000     835.124    1166.623\n",
      "Concession     1.0067      0.006    170.460      0.000       0.995       1.018\n",
      "Suite          0.7010      0.122      5.734      0.000       0.459       0.943\n",
      "Club           0.9430      0.051     18.463      0.000       0.842       1.044\n",
      "==============================================================================\n",
      "Omnibus:                       21.824   Durbin-Watson:                   0.955\n",
      "Prob(Omnibus):                  0.000   Jarque-Bera (JB):               28.458\n",
      "Skew:                          -1.223   Prob(JB):                     6.61e-07\n",
      "Kurtosis:                       3.250   Cond. No.                     5.85e+04\n",
      "==============================================================================\n",
      "\n",
      "Warnings:\n",
      "[1] Standard Errors assume that the covariance matrix of the errors is correctly specified.\n",
      "[2] The condition number is large, 5.85e+04. This might indicate that there are\n",
      "strong multicollinearity or other numerical problems.\n"
     ]
    }
   ],
   "source": [
    "print (result.summary())"
   ]
  },
  {
   "cell_type": "markdown",
   "metadata": {
    "slideshow": {
     "slide_type": "slide"
    }
   },
   "source": [
    "# Results analysis:\n",
    "1. Total R-squared of model equal to 0.999 indicate it fit very well and there exist strong multilinearity.\n",
    "2. The fitted formula is: $$Total = 1000.8731 + 1.0067\\times Concession + 0.7010\\times Suite + 0.9430\\times Club.$$ The P_value is significant for every coefficient, so we reject the null hypothesis and accept the alternatice hypothesis. If we know three variables of formula, we could predict the last one."
   ]
  },
  {
   "cell_type": "markdown",
   "metadata": {
    "slideshow": {
     "slide_type": "slide"
    }
   },
   "source": [
    "Correlation Analysis Between Different Components of Attendance."
   ]
  },
  {
   "cell_type": "code",
   "execution_count": 8,
   "metadata": {
    "scrolled": true,
    "slideshow": {
     "slide_type": "slide"
    }
   },
   "outputs": [
    {
     "name": "stdout",
     "output_type": "stream",
     "text": [
      "                      TotalAttendance  ConcessionAttendance  SuiteAttendance  \\\n",
      "TotalAttendance              1.000000              0.997338         0.871092   \n",
      "ConcessionAttendance         0.997338              1.000000         0.843754   \n",
      "SuiteAttendance              0.871092              0.843754         1.000000   \n",
      "ClubAttendance               0.920549              0.892316         0.915700   \n",
      "\n",
      "                      ClubAttendance  \n",
      "TotalAttendance             0.920549  \n",
      "ConcessionAttendance        0.892316  \n",
      "SuiteAttendance             0.915700  \n",
      "ClubAttendance              1.000000  \n"
     ]
    }
   ],
   "source": [
    "print( Att_data[['TotalAttendance','ConcessionAttendance','SuiteAttendance','ClubAttendance']].corr())"
   ]
  },
  {
   "cell_type": "markdown",
   "metadata": {
    "slideshow": {
     "slide_type": "slide"
    }
   },
   "source": [
    "# Result:\n",
    "Any pair of components are highly related. Total Attendance and Concession Attendance have largest corralation coefficient. And suite attendance is less related to the other three."
   ]
  },
  {
   "cell_type": "markdown",
   "metadata": {
    "slideshow": {
     "slide_type": "slide"
    }
   },
   "source": [
    "# Question 1: How many business days in each month through the year?"
   ]
  },
  {
   "cell_type": "code",
   "execution_count": 20,
   "metadata": {
    "scrolled": true,
    "slideshow": {
     "slide_type": "slide"
    }
   },
   "outputs": [
    {
     "data": {
      "text/plain": [
       "<matplotlib.axes._subplots.AxesSubplot at 0x1a21a4cba8>"
      ]
     },
     "execution_count": 20,
     "metadata": {},
     "output_type": "execute_result"
    },
    {
     "data": {
      "image/png": "[encoded data removed]",
      "text/plain": [
       "<matplotlib.figure.Figure at 0x1a2037ccf8>"
      ]
     },
     "metadata": {},
     "output_type": "display_data"
    }
   ],
   "source": [
    "Att_data.businessDate.dt.month.value_counts().sort_index().plot(kind='bar')"
   ]
  },
  {
   "cell_type": "markdown",
   "metadata": {
    "slideshow": {
     "slide_type": "slide"
    }
   },
   "source": [
    "# Question 2: What day of the week likely to be the most busy day?"
   ]
  },
  {
   "cell_type": "code",
   "execution_count": 21,
   "metadata": {
    "scrolled": true,
    "slideshow": {
     "slide_type": "slide"
    }
   },
   "outputs": [
    {
     "data": {
      "text/plain": [
       "<matplotlib.axes._subplots.AxesSubplot at 0x1a21a5a3c8>"
      ]
     },
     "execution_count": 21,
     "metadata": {},
     "output_type": "execute_result"
    },
    {
     "data": {
      "image/png": "[encoded data removed]",
      "text/plain": [
       "<matplotlib.figure.Figure at 0x1a21aa9710>"
      ]
     },
     "metadata": {},
     "output_type": "display_data"
    }
   ],
   "source": [
    "Att_data.businessDate.dt.dayofweek.value_counts().sort_index().plot(kind='bar')"
   ]
  },
  {
   "cell_type": "markdown",
   "metadata": {
    "slideshow": {
     "slide_type": "slide"
    }
   },
   "source": [
    "# The number of monthly total attendance during the year."
   ]
  },
  {
   "cell_type": "code",
   "execution_count": 22,
   "metadata": {
    "scrolled": true,
    "slideshow": {
     "slide_type": "slide"
    }
   },
   "outputs": [
    {
     "data": {
      "image/png": "[encoded data removed]",
      "text/plain": [
       "<matplotlib.figure.Figure at 0x1a21b740b8>"
      ]
     },
     "metadata": {},
     "output_type": "display_data"
    }
   ],
   "source": [
    "attend_list_monthly = []\n",
    "month_list = [' ','Jan','Feb','Mar','Apr','May','Jun','Jul','Aug','Sept','Oct','Nov','Dec']\n",
    "for i in range(1,13):\n",
    "    attend_list_monthly.append((Att_data[Att_data.businessDate.dt.month == i].TotalAttendance.sum()))\n",
    "attend_dataframe = pd.DataFrame(data=attend_list_monthly,index=range(1,13))\n",
    "plt.plot(attend_dataframe)\n",
    "plt.xticks(range(13), month_list)\n",
    "plt.show()"
   ]
  },
  {
   "cell_type": "markdown",
   "metadata": {
    "slideshow": {
     "slide_type": "slide"
    }
   },
   "source": [
    "# The number of monthly club attendence during the year."
   ]
  },
  {
   "cell_type": "code",
   "execution_count": 23,
   "metadata": {
    "scrolled": true,
    "slideshow": {
     "slide_type": "slide"
    }
   },
   "outputs": [
    {
     "data": {
      "image/png": "[encoded data removed]",
      "text/plain": [
       "<matplotlib.figure.Figure at 0x1a21c0a908>"
      ]
     },
     "metadata": {},
     "output_type": "display_data"
    }
   ],
   "source": [
    "attend_list_monthly = []\n",
    "month_list = [' ','Jan','Feb','Mar','Apr','May','Jun','Jul','Aug','Sept','Oct','Nov','Dec']\n",
    "for i in range(1,13):\n",
    "    attend_list_monthly.append((Att_data[Att_data.businessDate.dt.month == i].ClubAttendance.sum()))\n",
    "attend_dataframe = pd.DataFrame(data=attend_list_monthly,index=range(1,13))\n",
    "plt.plot(attend_dataframe)\n",
    "plt.xticks(range(13), month_list)\n",
    "plt.show()"
   ]
  },
  {
   "cell_type": "markdown",
   "metadata": {
    "slideshow": {
     "slide_type": "slide"
    }
   },
   "source": [
    "Is there any relationship between concession attendance and club attendance?"
   ]
  },
  {
   "cell_type": "markdown",
   "metadata": {
    "slideshow": {
     "slide_type": "slide"
    }
   },
   "source": [
    "They are highly related."
   ]
  },
  {
   "cell_type": "markdown",
   "metadata": {
    "collapsed": true,
    "slideshow": {
     "slide_type": "slide"
    }
   },
   "source": [
    "# FACT and Attendance"
   ]
  },
  {
   "cell_type": "code",
   "execution_count": 24,
   "metadata": {
    "scrolled": true,
    "slideshow": {
     "slide_type": "skip"
    }
   },
   "outputs": [
    {
     "name": "stdout",
     "output_type": "stream",
     "text": [
      "CPU times: user 3min 7s, sys: 40.2 s, total: 3min 47s\n",
      "Wall time: 4min 28s\n"
     ]
    }
   ],
   "source": [
    "%%time\n",
    "Att  = pd.read_csv('data/DIM_ATTENDANCE.csv', na_values='NULL',sep = ',',\n",
    "                        dtype={},parse_dates=['businessDate'],\n",
    "                        usecols=['TotalAttendance','businessDate'])\n",
    "\n",
    "FACT = pd.read_csv('data/FACT_Sites_2017.csv', chunksize=5000,\n",
    "                          parse_dates=['businessDate'],\n",
    "                          skip_blank_lines=True, error_bad_lines=False,\n",
    "                          iterator=True, dtype={},usecols=[\n",
    " 'Site',\n",
    " 'Location',\n",
    " 'businessDate',\n",
    " 'recordID',\n",
    " 'workstation']\n",
    ")\n",
    "popular_work_station = pd.DataFrame()\n",
    "### Find the most popular workstation (with largest number of TotalAttendance) in every Location.\n",
    "for chunk in FACT:\n",
    "    chunk_Att = pd.merge(chunk, Att)\n",
    "    \n",
    "    groupby01 = chunk_Att.groupby(['Location', 'workstation']).size().unstack()\n",
    "    popular_work_station = popular_work_station.add(groupby01, fill_value=0)\n",
    "    \n",
    "    work_station = popular_work_station.idxmax(axis=1)\n",
    "    Total_Att01 = popular_work_station.max(axis=1)\n",
    "    popular_location_workstation = pd.DataFrame({'MostPopularWorkStation':work_station, 'TotalAttendance':Total_Att01})\n",
    "    popular_location_workstation = popular_location_workstation.sort_values('TotalAttendance', ascending=False)"
   ]
  },
  {
   "cell_type": "markdown",
   "metadata": {
    "slideshow": {
     "slide_type": "slide"
    }
   },
   "source": [
    "# 75 percentile of most popular wirkstation in each Location."
   ]
  },
  {
   "cell_type": "code",
   "execution_count": 25,
   "metadata": {
    "slideshow": {
     "slide_type": "slide"
    }
   },
   "outputs": [
    {
     "data": {
      "text/html": [
       "<div>\n",
       "<style>\n",
       "    .dataframe thead tr:only-child th {\n",
       "        text-align: right;\n",
       "    }\n",
       "\n",
       "    .dataframe thead th {\n",
       "        text-align: left;\n",
       "    }\n",
       "\n",
       "    .dataframe tbody tr th {\n",
       "        vertical-align: top;\n",
       "    }\n",
       "</style>\n",
       "<table border=\"1\" class=\"dataframe\">\n",
       "  <thead>\n",
       "    <tr style=\"text-align: right;\">\n",
       "      <th></th>\n",
       "      <th>MostPopularWorkStation</th>\n",
       "      <th>TotalAttendance</th>\n",
       "    </tr>\n",
       "    <tr>\n",
       "      <th>Location</th>\n",
       "      <th></th>\n",
       "      <th></th>\n",
       "    </tr>\n",
       "  </thead>\n",
       "  <tbody>\n",
       "    <tr>\n",
       "      <th>148 TONY LUKES</th>\n",
       "      <td>PHL_148_2</td>\n",
       "      <td>136797.0</td>\n",
       "    </tr>\n",
       "    <tr>\n",
       "      <th>101 CAMPS STK/BR</th>\n",
       "      <td>PHL_101_1</td>\n",
       "      <td>104282.0</td>\n",
       "    </tr>\n",
       "    <tr>\n",
       "      <th>129 LIBERTY GRLL</th>\n",
       "      <td>129_5</td>\n",
       "      <td>95652.0</td>\n",
       "    </tr>\n",
       "    <tr>\n",
       "      <th>106 S PHILLY MRK</th>\n",
       "      <td>PHL_106_1</td>\n",
       "      <td>94683.0</td>\n",
       "    </tr>\n",
       "    <tr>\n",
       "      <th>103 CHICKS &amp; PTS</th>\n",
       "      <td>PHL_103_3</td>\n",
       "      <td>89752.0</td>\n",
       "    </tr>\n",
       "    <tr>\n",
       "      <th>123 PHILLY FAVS</th>\n",
       "      <td>123_5</td>\n",
       "      <td>87022.0</td>\n",
       "    </tr>\n",
       "    <tr>\n",
       "      <th>423 GRILL PORT</th>\n",
       "      <td>423_1</td>\n",
       "      <td>86307.0</td>\n",
       "    </tr>\n",
       "    <tr>\n",
       "      <th>206 S PHILLY MRK</th>\n",
       "      <td>PHL_206_3</td>\n",
       "      <td>84414.0</td>\n",
       "    </tr>\n",
       "    <tr>\n",
       "      <th>102 CHCKIE PETES</th>\n",
       "      <td>102_4</td>\n",
       "      <td>83522.0</td>\n",
       "    </tr>\n",
       "    <tr>\n",
       "      <th>121 LIBERTY GRLL</th>\n",
       "      <td>121_4</td>\n",
       "      <td>78718.0</td>\n",
       "    </tr>\n",
       "    <tr>\n",
       "      <th>138 LIBERTY GRLL</th>\n",
       "      <td>138_3</td>\n",
       "      <td>76720.0</td>\n",
       "    </tr>\n",
       "    <tr>\n",
       "      <th>147 PRIMOS</th>\n",
       "      <td>PHL_147_1</td>\n",
       "      <td>75860.0</td>\n",
       "    </tr>\n",
       "    <tr>\n",
       "      <th>C23 LINCOLN GRLL</th>\n",
       "      <td>323_6</td>\n",
       "      <td>75730.0</td>\n",
       "    </tr>\n",
       "    <tr>\n",
       "      <th>C03 PIZZA LINCLN</th>\n",
       "      <td>303_3</td>\n",
       "      <td>73493.0</td>\n",
       "    </tr>\n",
       "    <tr>\n",
       "      <th>117 PHILLY FAVS</th>\n",
       "      <td>117_4</td>\n",
       "      <td>73101.0</td>\n",
       "    </tr>\n",
       "    <tr>\n",
       "      <th>626 GRILL PORT</th>\n",
       "      <td>626_3</td>\n",
       "      <td>73058.0</td>\n",
       "    </tr>\n",
       "    <tr>\n",
       "      <th>101 PENN PIZZA</th>\n",
       "      <td>101_2</td>\n",
       "      <td>72699.0</td>\n",
       "    </tr>\n",
       "    <tr>\n",
       "      <th>136 PHILLY FAVS</th>\n",
       "      <td>136_5</td>\n",
       "      <td>71497.0</td>\n",
       "    </tr>\n",
       "    <tr>\n",
       "      <th>120 HATFIELD GRL</th>\n",
       "      <td>PHL_120_1</td>\n",
       "      <td>68651.0</td>\n",
       "    </tr>\n",
       "    <tr>\n",
       "      <th>117 S PHILLY MRK</th>\n",
       "      <td>PHL_117_1</td>\n",
       "      <td>68063.0</td>\n",
       "    </tr>\n",
       "    <tr>\n",
       "      <th>109 ELFRETHS ALY</th>\n",
       "      <td>PHL_109_1</td>\n",
       "      <td>66383.0</td>\n",
       "    </tr>\n",
       "    <tr>\n",
       "      <th>126 CHCKIE PETES</th>\n",
       "      <td>126_5</td>\n",
       "      <td>65249.0</td>\n",
       "    </tr>\n",
       "    <tr>\n",
       "      <th>108 PHILLY FAVS</th>\n",
       "      <td>108_4</td>\n",
       "      <td>65170.0</td>\n",
       "    </tr>\n",
       "    <tr>\n",
       "      <th>119 CHCKIE PETES</th>\n",
       "      <td>119_2</td>\n",
       "      <td>64631.0</td>\n",
       "    </tr>\n",
       "    <tr>\n",
       "      <th>135 HATFIELD GRL</th>\n",
       "      <td>PHL_135_3</td>\n",
       "      <td>63901.0</td>\n",
       "    </tr>\n",
       "    <tr>\n",
       "      <th>104 PHILLY FAVS</th>\n",
       "      <td>104_4</td>\n",
       "      <td>63040.0</td>\n",
       "    </tr>\n",
       "    <tr>\n",
       "      <th>115 CHCKIE PETES</th>\n",
       "      <td>115_6</td>\n",
       "      <td>61496.0</td>\n",
       "    </tr>\n",
       "    <tr>\n",
       "      <th>109 MARKET ST DE</th>\n",
       "      <td>109_3</td>\n",
       "      <td>61315.0</td>\n",
       "    </tr>\n",
       "    <tr>\n",
       "      <th>319 S FAIRMT/COB</th>\n",
       "      <td>PHL_319_2</td>\n",
       "      <td>60056.0</td>\n",
       "    </tr>\n",
       "    <tr>\n",
       "      <th>CW1 WEST  MARKET</th>\n",
       "      <td>851_9</td>\n",
       "      <td>59918.0</td>\n",
       "    </tr>\n",
       "    <tr>\n",
       "      <th>110 PENN PIZZA</th>\n",
       "      <td>110_4</td>\n",
       "      <td>59282.0</td>\n",
       "    </tr>\n",
       "    <tr>\n",
       "      <th>139 S PHILLY MRK</th>\n",
       "      <td>PHL_139_5</td>\n",
       "      <td>58871.0</td>\n",
       "    </tr>\n",
       "    <tr>\n",
       "      <th>404 BULLS BBQ</th>\n",
       "      <td>PHL_404_1</td>\n",
       "      <td>58821.0</td>\n",
       "    </tr>\n",
       "    <tr>\n",
       "      <th>227 PHILLY FAVS</th>\n",
       "      <td>227_3</td>\n",
       "      <td>56963.0</td>\n",
       "    </tr>\n",
       "    <tr>\n",
       "      <th>435 DRAFT BEER</th>\n",
       "      <td>PHL_435_1</td>\n",
       "      <td>56961.0</td>\n",
       "    </tr>\n",
       "    <tr>\n",
       "      <th>954 DC CON/IN ST</th>\n",
       "      <td>PHL_954_3</td>\n",
       "      <td>56477.0</td>\n",
       "    </tr>\n",
       "    <tr>\n",
       "      <th>401 BULLPEN BRWS</th>\n",
       "      <td>PHL_401_3</td>\n",
       "      <td>55843.0</td>\n",
       "    </tr>\n",
       "    <tr>\n",
       "      <th>CE1 EAST MARKET</th>\n",
       "      <td>801_5</td>\n",
       "      <td>55506.0</td>\n",
       "    </tr>\n",
       "    <tr>\n",
       "      <th>128 LIBERTY TAP</th>\n",
       "      <td>128_2</td>\n",
       "      <td>55100.0</td>\n",
       "    </tr>\n",
       "    <tr>\n",
       "      <th>106 PENN PIZZA</th>\n",
       "      <td>106_3</td>\n",
       "      <td>53902.0</td>\n",
       "    </tr>\n",
       "    <tr>\n",
       "      <th>C20 PENN PIZZA</th>\n",
       "      <td>320_1</td>\n",
       "      <td>53830.0</td>\n",
       "    </tr>\n",
       "    <tr>\n",
       "      <th>232 REC PARK</th>\n",
       "      <td>PHL_232_2</td>\n",
       "      <td>53589.0</td>\n",
       "    </tr>\n",
       "    <tr>\n",
       "      <th>120 PENN PIZZA</th>\n",
       "      <td>120_3</td>\n",
       "      <td>52624.0</td>\n",
       "    </tr>\n",
       "    <tr>\n",
       "      <th>C11 PHILLY FAVS</th>\n",
       "      <td>311_2</td>\n",
       "      <td>52471.0</td>\n",
       "    </tr>\n",
       "    <tr>\n",
       "      <th>318 S PHILLY/PP</th>\n",
       "      <td>PHL_318_3</td>\n",
       "      <td>51716.0</td>\n",
       "    </tr>\n",
       "  </tbody>\n",
       "</table>\n",
       "</div>"
      ],
      "text/plain": [
       "                 MostPopularWorkStation  TotalAttendance\n",
       "Location                                                \n",
       "148 TONY LUKES                PHL_148_2         136797.0\n",
       "101 CAMPS STK/BR              PHL_101_1         104282.0\n",
       "129 LIBERTY GRLL                  129_5          95652.0\n",
       "106 S PHILLY MRK              PHL_106_1          94683.0\n",
       "103 CHICKS & PTS              PHL_103_3          89752.0\n",
       "123 PHILLY FAVS                   123_5          87022.0\n",
       "423 GRILL PORT                    423_1          86307.0\n",
       "206 S PHILLY MRK              PHL_206_3          84414.0\n",
       "102 CHCKIE PETES                  102_4          83522.0\n",
       "121 LIBERTY GRLL                  121_4          78718.0\n",
       "138 LIBERTY GRLL                  138_3          76720.0\n",
       "147 PRIMOS                    PHL_147_1          75860.0\n",
       "C23 LINCOLN GRLL                  323_6          75730.0\n",
       "C03 PIZZA LINCLN                  303_3          73493.0\n",
       "117 PHILLY FAVS                   117_4          73101.0\n",
       "626 GRILL PORT                    626_3          73058.0\n",
       "101 PENN PIZZA                    101_2          72699.0\n",
       "136 PHILLY FAVS                   136_5          71497.0\n",
       "120 HATFIELD GRL              PHL_120_1          68651.0\n",
       "117 S PHILLY MRK              PHL_117_1          68063.0\n",
       "109 ELFRETHS ALY              PHL_109_1          66383.0\n",
       "126 CHCKIE PETES                  126_5          65249.0\n",
       "108 PHILLY FAVS                   108_4          65170.0\n",
       "119 CHCKIE PETES                  119_2          64631.0\n",
       "135 HATFIELD GRL              PHL_135_3          63901.0\n",
       "104 PHILLY FAVS                   104_4          63040.0\n",
       "115 CHCKIE PETES                  115_6          61496.0\n",
       "109 MARKET ST DE                  109_3          61315.0\n",
       "319 S FAIRMT/COB              PHL_319_2          60056.0\n",
       "CW1 WEST  MARKET                  851_9          59918.0\n",
       "110 PENN PIZZA                    110_4          59282.0\n",
       "139 S PHILLY MRK              PHL_139_5          58871.0\n",
       "404 BULLS BBQ                 PHL_404_1          58821.0\n",
       "227 PHILLY FAVS                   227_3          56963.0\n",
       "435 DRAFT BEER                PHL_435_1          56961.0\n",
       "954 DC CON/IN ST              PHL_954_3          56477.0\n",
       "401 BULLPEN BRWS              PHL_401_3          55843.0\n",
       "CE1 EAST MARKET                   801_5          55506.0\n",
       "128 LIBERTY TAP                   128_2          55100.0\n",
       "106 PENN PIZZA                    106_3          53902.0\n",
       "C20 PENN PIZZA                    320_1          53830.0\n",
       "232 REC PARK                  PHL_232_2          53589.0\n",
       "120 PENN PIZZA                    120_3          52624.0\n",
       "C11 PHILLY FAVS                   311_2          52471.0\n",
       "318 S PHILLY/PP               PHL_318_3          51716.0"
      ]
     },
     "execution_count": 25,
     "metadata": {},
     "output_type": "execute_result"
    }
   ],
   "source": [
    "quantile01 = popular_location_workstation.TotalAttendance.quantile(0.75)\n",
    "popular_location_workstation[popular_location_workstation.TotalAttendance > quantile01]"
   ]
  },
  {
   "cell_type": "code",
   "execution_count": 26,
   "metadata": {
    "slideshow": {
     "slide_type": "skip"
    }
   },
   "outputs": [
    {
     "name": "stdout",
     "output_type": "stream",
     "text": [
      "CPU times: user 3min 2s, sys: 29.8 s, total: 3min 32s\n",
      "Wall time: 3min 56s\n"
     ]
    }
   ],
   "source": [
    "%%time\n",
    "FACT = pd.read_csv('data/FACT_Sites_2017.csv', chunksize=5000,\n",
    "                          parse_dates=['businessDate'],\n",
    "                          skip_blank_lines=True, error_bad_lines=False,\n",
    "                          iterator=True, dtype={},usecols=[\n",
    " 'Site',\n",
    " 'Location',\n",
    " 'businessDate',\n",
    " 'recordID',\n",
    " 'workstation']\n",
    ")\n",
    "busy_day = pd.DataFrame()\n",
    "### Find the date of the year which has the largest number of TotalAttendance in each Location.\n",
    "for chunk in FACT:\n",
    "    chunk_Att = pd.merge(chunk, Att)\n",
    "    \n",
    "    groupby02 = chunk_Att.groupby(['Location',chunk_Att.businessDate]).size().unstack()\n",
    "    busy_day = busy_day.add(groupby02, fill_value=0)\n",
    "        \n",
    "    date = busy_day.idxmax(axis=1)\n",
    "    Total_Att02 = busy_day.max(axis=1)\n",
    "    popular_location_date = pd.DataFrame({'BusiestDate':date, 'TotalAttendance':Total_Att02})\n",
    "    popular_location_date = popular_location_date.sort_values('TotalAttendance', ascending=False)"
   ]
  },
  {
   "cell_type": "code",
   "execution_count": 28,
   "metadata": {
    "slideshow": {
     "slide_type": "slide"
    }
   },
   "outputs": [
    {
     "data": {
      "text/html": [
       "<div>\n",
       "<style>\n",
       "    .dataframe thead tr:only-child th {\n",
       "        text-align: right;\n",
       "    }\n",
       "\n",
       "    .dataframe thead th {\n",
       "        text-align: left;\n",
       "    }\n",
       "\n",
       "    .dataframe tbody tr th {\n",
       "        vertical-align: top;\n",
       "    }\n",
       "</style>\n",
       "<table border=\"1\" class=\"dataframe\">\n",
       "  <thead>\n",
       "    <tr style=\"text-align: right;\">\n",
       "      <th></th>\n",
       "      <th>BusiestDate</th>\n",
       "      <th>TotalAttendance</th>\n",
       "    </tr>\n",
       "    <tr>\n",
       "      <th>Location</th>\n",
       "      <th></th>\n",
       "      <th></th>\n",
       "    </tr>\n",
       "  </thead>\n",
       "  <tbody>\n",
       "    <tr>\n",
       "      <th>129 LIBERTY GRLL</th>\n",
       "      <td>2016-10-23</td>\n",
       "      <td>42751.0</td>\n",
       "    </tr>\n",
       "    <tr>\n",
       "      <th>CW1 WEST  MARKET</th>\n",
       "      <td>2016-09-11</td>\n",
       "      <td>30603.0</td>\n",
       "    </tr>\n",
       "    <tr>\n",
       "      <th>123 PHILLY FAVS</th>\n",
       "      <td>2016-09-11</td>\n",
       "      <td>28784.0</td>\n",
       "    </tr>\n",
       "    <tr>\n",
       "      <th>CB25 E CLUB BAR</th>\n",
       "      <td>2016-10-23</td>\n",
       "      <td>28646.0</td>\n",
       "    </tr>\n",
       "    <tr>\n",
       "      <th>102 CHCKIE PETES</th>\n",
       "      <td>2016-09-11</td>\n",
       "      <td>28375.0</td>\n",
       "    </tr>\n",
       "    <tr>\n",
       "      <th>236 LIBGR/PHFV</th>\n",
       "      <td>2016-09-25</td>\n",
       "      <td>26816.0</td>\n",
       "    </tr>\n",
       "    <tr>\n",
       "      <th>110 PENN PIZZA</th>\n",
       "      <td>2016-09-02</td>\n",
       "      <td>26150.0</td>\n",
       "    </tr>\n",
       "    <tr>\n",
       "      <th>104 PHILLY FAVS</th>\n",
       "      <td>2016-08-06</td>\n",
       "      <td>25634.0</td>\n",
       "    </tr>\n",
       "    <tr>\n",
       "      <th>121 LIBERTY GRLL</th>\n",
       "      <td>2016-10-23</td>\n",
       "      <td>25332.0</td>\n",
       "    </tr>\n",
       "    <tr>\n",
       "      <th>221 PENN PIZZA</th>\n",
       "      <td>2016-09-11</td>\n",
       "      <td>25169.0</td>\n",
       "    </tr>\n",
       "    <tr>\n",
       "      <th>138 LIBERTY GRLL</th>\n",
       "      <td>2016-08-06</td>\n",
       "      <td>24107.0</td>\n",
       "    </tr>\n",
       "    <tr>\n",
       "      <th>126 CHCKIE PETES</th>\n",
       "      <td>2016-09-11</td>\n",
       "      <td>24008.0</td>\n",
       "    </tr>\n",
       "    <tr>\n",
       "      <th>CB40 W CLUB BAR</th>\n",
       "      <td>2016-09-11</td>\n",
       "      <td>23821.0</td>\n",
       "    </tr>\n",
       "    <tr>\n",
       "      <th>136 PHILLY FAVS</th>\n",
       "      <td>2016-09-11</td>\n",
       "      <td>23104.0</td>\n",
       "    </tr>\n",
       "    <tr>\n",
       "      <th>C23 LINCOLN GRLL</th>\n",
       "      <td>2016-09-11</td>\n",
       "      <td>22558.0</td>\n",
       "    </tr>\n",
       "    <tr>\n",
       "      <th>CE1 EAST MARKET</th>\n",
       "      <td>2016-09-11</td>\n",
       "      <td>22540.0</td>\n",
       "    </tr>\n",
       "    <tr>\n",
       "      <th>119 CHCKIE PETES</th>\n",
       "      <td>2016-11-13</td>\n",
       "      <td>22393.0</td>\n",
       "    </tr>\n",
       "    <tr>\n",
       "      <th>101 PENN PIZZA</th>\n",
       "      <td>2016-09-02</td>\n",
       "      <td>21614.0</td>\n",
       "    </tr>\n",
       "    <tr>\n",
       "      <th>117 PHILLY FAVS</th>\n",
       "      <td>2016-11-13</td>\n",
       "      <td>21275.0</td>\n",
       "    </tr>\n",
       "    <tr>\n",
       "      <th>229 CHCKIE PETES</th>\n",
       "      <td>2016-09-11</td>\n",
       "      <td>20848.0</td>\n",
       "    </tr>\n",
       "    <tr>\n",
       "      <th>241 CHCKIE PETES</th>\n",
       "      <td>2016-12-22</td>\n",
       "      <td>20583.0</td>\n",
       "    </tr>\n",
       "    <tr>\n",
       "      <th>108 PHILLY FAVS</th>\n",
       "      <td>2016-09-02</td>\n",
       "      <td>20507.0</td>\n",
       "    </tr>\n",
       "    <tr>\n",
       "      <th>134 QUICK&amp;CARM</th>\n",
       "      <td>2016-11-13</td>\n",
       "      <td>20302.0</td>\n",
       "    </tr>\n",
       "    <tr>\n",
       "      <th>115 CHCKIE PETES</th>\n",
       "      <td>2016-09-02</td>\n",
       "      <td>20148.0</td>\n",
       "    </tr>\n",
       "    <tr>\n",
       "      <th>CB19 E CLUB BAR</th>\n",
       "      <td>2016-09-11</td>\n",
       "      <td>19899.0</td>\n",
       "    </tr>\n",
       "    <tr>\n",
       "      <th>201 LIBERTY GRLL</th>\n",
       "      <td>2016-09-25</td>\n",
       "      <td>19536.0</td>\n",
       "    </tr>\n",
       "    <tr>\n",
       "      <th>112 TONY LUKES</th>\n",
       "      <td>2016-12-22</td>\n",
       "      <td>19310.0</td>\n",
       "    </tr>\n",
       "    <tr>\n",
       "      <th>227 PHILLY FAVS</th>\n",
       "      <td>2016-11-13</td>\n",
       "      <td>18866.0</td>\n",
       "    </tr>\n",
       "    <tr>\n",
       "      <th>C03 PIZZA LINCLN</th>\n",
       "      <td>2016-11-13</td>\n",
       "      <td>18686.0</td>\n",
       "    </tr>\n",
       "    <tr>\n",
       "      <th>C26 LIBERTY GRLL</th>\n",
       "      <td>2016-11-13</td>\n",
       "      <td>18618.0</td>\n",
       "    </tr>\n",
       "    <tr>\n",
       "      <th>128 LIBERTY TAP</th>\n",
       "      <td>2016-11-13</td>\n",
       "      <td>18555.0</td>\n",
       "    </tr>\n",
       "    <tr>\n",
       "      <th>212 LIBERTY GRLL</th>\n",
       "      <td>2016-10-23</td>\n",
       "      <td>18332.0</td>\n",
       "    </tr>\n",
       "    <tr>\n",
       "      <th>423 GRILL PORT</th>\n",
       "      <td>2017-01-01</td>\n",
       "      <td>17984.0</td>\n",
       "    </tr>\n",
       "    <tr>\n",
       "      <th>109 MARKET ST DE</th>\n",
       "      <td>2016-10-23</td>\n",
       "      <td>17949.0</td>\n",
       "    </tr>\n",
       "    <tr>\n",
       "      <th>C37 PENN PIZZA</th>\n",
       "      <td>2017-01-01</td>\n",
       "      <td>17888.0</td>\n",
       "    </tr>\n",
       "    <tr>\n",
       "      <th>106 PENN PIZZA</th>\n",
       "      <td>2016-08-06</td>\n",
       "      <td>17709.0</td>\n",
       "    </tr>\n",
       "    <tr>\n",
       "      <th>111 PHILLY FAVS</th>\n",
       "      <td>2016-08-06</td>\n",
       "      <td>17417.0</td>\n",
       "    </tr>\n",
       "    <tr>\n",
       "      <th>P03 MILLER TENT</th>\n",
       "      <td>2016-09-11</td>\n",
       "      <td>17388.0</td>\n",
       "    </tr>\n",
       "    <tr>\n",
       "      <th>114 WING ZONE</th>\n",
       "      <td>2016-09-29</td>\n",
       "      <td>17218.0</td>\n",
       "    </tr>\n",
       "    <tr>\n",
       "      <th>C12 LIBERTY GRLL</th>\n",
       "      <td>2016-10-23</td>\n",
       "      <td>17103.0</td>\n",
       "    </tr>\n",
       "    <tr>\n",
       "      <th>120 PENN PIZZA</th>\n",
       "      <td>2016-09-25</td>\n",
       "      <td>17029.0</td>\n",
       "    </tr>\n",
       "    <tr>\n",
       "      <th>204 PENN PIZZA</th>\n",
       "      <td>2016-09-25</td>\n",
       "      <td>16940.0</td>\n",
       "    </tr>\n",
       "    <tr>\n",
       "      <th>526 NE INFLL BAR</th>\n",
       "      <td>2016-09-11</td>\n",
       "      <td>16920.0</td>\n",
       "    </tr>\n",
       "    <tr>\n",
       "      <th>C17 LIBERTY GRLL</th>\n",
       "      <td>2016-10-23</td>\n",
       "      <td>16814.0</td>\n",
       "    </tr>\n",
       "    <tr>\n",
       "      <th>125 ZACS</th>\n",
       "      <td>2016-09-11</td>\n",
       "      <td>16795.0</td>\n",
       "    </tr>\n",
       "    <tr>\n",
       "      <th>C20 PENN PIZZA</th>\n",
       "      <td>2016-09-11</td>\n",
       "      <td>16753.0</td>\n",
       "    </tr>\n",
       "    <tr>\n",
       "      <th>225 LIBERTY GRLL</th>\n",
       "      <td>2016-09-25</td>\n",
       "      <td>16669.0</td>\n",
       "    </tr>\n",
       "    <tr>\n",
       "      <th>C11 PHILLY FAVS</th>\n",
       "      <td>2016-09-11</td>\n",
       "      <td>15650.0</td>\n",
       "    </tr>\n",
       "    <tr>\n",
       "      <th>C04 LIBERTY GRLL</th>\n",
       "      <td>2016-09-25</td>\n",
       "      <td>15577.0</td>\n",
       "    </tr>\n",
       "  </tbody>\n",
       "</table>\n",
       "</div>"
      ],
      "text/plain": [
       "                 BusiestDate  TotalAttendance\n",
       "Location                                     \n",
       "129 LIBERTY GRLL  2016-10-23          42751.0\n",
       "CW1 WEST  MARKET  2016-09-11          30603.0\n",
       "123 PHILLY FAVS   2016-09-11          28784.0\n",
       "CB25 E CLUB BAR   2016-10-23          28646.0\n",
       "102 CHCKIE PETES  2016-09-11          28375.0\n",
       "236 LIBGR/PHFV    2016-09-25          26816.0\n",
       "110 PENN PIZZA    2016-09-02          26150.0\n",
       "104 PHILLY FAVS   2016-08-06          25634.0\n",
       "121 LIBERTY GRLL  2016-10-23          25332.0\n",
       "221 PENN PIZZA    2016-09-11          25169.0\n",
       "138 LIBERTY GRLL  2016-08-06          24107.0\n",
       "126 CHCKIE PETES  2016-09-11          24008.0\n",
       "CB40 W CLUB BAR   2016-09-11          23821.0\n",
       "136 PHILLY FAVS   2016-09-11          23104.0\n",
       "C23 LINCOLN GRLL  2016-09-11          22558.0\n",
       "CE1 EAST MARKET   2016-09-11          22540.0\n",
       "119 CHCKIE PETES  2016-11-13          22393.0\n",
       "101 PENN PIZZA    2016-09-02          21614.0\n",
       "117 PHILLY FAVS   2016-11-13          21275.0\n",
       "229 CHCKIE PETES  2016-09-11          20848.0\n",
       "241 CHCKIE PETES  2016-12-22          20583.0\n",
       "108 PHILLY FAVS   2016-09-02          20507.0\n",
       "134 QUICK&CARM    2016-11-13          20302.0\n",
       "115 CHCKIE PETES  2016-09-02          20148.0\n",
       "CB19 E CLUB BAR   2016-09-11          19899.0\n",
       "201 LIBERTY GRLL  2016-09-25          19536.0\n",
       "112 TONY LUKES    2016-12-22          19310.0\n",
       "227 PHILLY FAVS   2016-11-13          18866.0\n",
       "C03 PIZZA LINCLN  2016-11-13          18686.0\n",
       "C26 LIBERTY GRLL  2016-11-13          18618.0\n",
       "128 LIBERTY TAP   2016-11-13          18555.0\n",
       "212 LIBERTY GRLL  2016-10-23          18332.0\n",
       "423 GRILL PORT    2017-01-01          17984.0\n",
       "109 MARKET ST DE  2016-10-23          17949.0\n",
       "C37 PENN PIZZA    2017-01-01          17888.0\n",
       "106 PENN PIZZA    2016-08-06          17709.0\n",
       "111 PHILLY FAVS   2016-08-06          17417.0\n",
       "P03 MILLER TENT   2016-09-11          17388.0\n",
       "114 WING ZONE     2016-09-29          17218.0\n",
       "C12 LIBERTY GRLL  2016-10-23          17103.0\n",
       "120 PENN PIZZA    2016-09-25          17029.0\n",
       "204 PENN PIZZA    2016-09-25          16940.0\n",
       "526 NE INFLL BAR  2016-09-11          16920.0\n",
       "C17 LIBERTY GRLL  2016-10-23          16814.0\n",
       "125 ZACS          2016-09-11          16795.0\n",
       "C20 PENN PIZZA    2016-09-11          16753.0\n",
       "225 LIBERTY GRLL  2016-09-25          16669.0\n",
       "C11 PHILLY FAVS   2016-09-11          15650.0\n",
       "C04 LIBERTY GRLL  2016-09-25          15577.0"
      ]
     },
     "execution_count": 28,
     "metadata": {},
     "output_type": "execute_result"
    }
   ],
   "source": [
    "quantile02 = popular_location_date.TotalAttendance.quantile(0.75)\n",
    "popular_location_date[popular_location_date.TotalAttendance > quantile02]"
   ]
  },
  {
   "cell_type": "code",
   "execution_count": 29,
   "metadata": {
    "scrolled": true,
    "slideshow": {
     "slide_type": "slide"
    }
   },
   "outputs": [
    {
     "data": {
      "text/plain": [
       "<matplotlib.axes._subplots.AxesSubplot at 0x1a21ba05c0>"
      ]
     },
     "execution_count": 29,
     "metadata": {},
     "output_type": "execute_result"
    },
    {
     "data": {
      "image/png": "[encoded data removed]",
      "text/plain": [
       "<matplotlib.figure.Figure at 0x1a21e96b70>"
      ]
     },
     "metadata": {},
     "output_type": "display_data"
    }
   ],
   "source": [
    "popular_location_date_sorted = popular_location_date.groupby('BusiestDate').sum().sort_values('TotalAttendance', ascending=False)\n",
    "popular_location_date_sorted.plot(kind='bar')"
   ]
  },
  {
   "cell_type": "markdown",
   "metadata": {
    "slideshow": {
     "slide_type": "slide"
    }
   },
   "source": [
    "# Analysis:\n",
    "Top three TotalAttendance dates are : Sep 11th 2016, Oct 23rd 2016, June 18th 2017.\n",
    "We could see those are three special days, June 18th 2017 is the Father's Day."
   ]
  },
  {
   "cell_type": "code",
   "execution_count": 30,
   "metadata": {
    "slideshow": {
     "slide_type": "skip"
    }
   },
   "outputs": [
    {
     "name": "stdout",
     "output_type": "stream",
     "text": [
      "CPU times: user 3min 4s, sys: 32.5 s, total: 3min 36s\n",
      "Wall time: 4min 10s\n"
     ]
    }
   ],
   "source": [
    "%%time\n",
    "FACT = pd.read_csv('data/FACT_Sites_2017.csv', chunksize=5000,\n",
    "                          parse_dates=['businessDate'],\n",
    "                          skip_blank_lines=True, error_bad_lines=False,\n",
    "                          iterator=True, dtype={},usecols=[\n",
    " 'Site',\n",
    " 'Location',\n",
    " 'businessDate',\n",
    " 'recordID',\n",
    " 'workstation']\n",
    ")\n",
    "busy_day_of_week = pd.DataFrame()\n",
    "### Find the day of week which has the largest number of TotalAttendance in each Location.\n",
    "for chunk in FACT:\n",
    "    chunk_Att = pd.merge(chunk, Att)\n",
    "    \n",
    "    groupby03 = chunk_Att.groupby(['Location',chunk_Att.businessDate.dt.dayofweek]).size().unstack()\n",
    "    busy_day_of_week = busy_day_of_week.add(groupby03, fill_value=0)\n",
    "\n",
    "    weekday = busy_day_of_week.idxmax(axis=1)\n",
    "    Total_Att03 = busy_day_of_week.max(axis=1)\n",
    "    popular_location_weekday = pd.DataFrame({'BusiestDate':weekday, 'TotalAttendance':Total_Att03})\n",
    "    popular_location_weekday = popular_location_weekday.sort_values('TotalAttendance', ascending=False)"
   ]
  },
  {
   "cell_type": "code",
   "execution_count": 31,
   "metadata": {
    "slideshow": {
     "slide_type": "slide"
    }
   },
   "outputs": [
    {
     "data": {
      "text/html": [
       "<div>\n",
       "<style>\n",
       "    .dataframe thead tr:only-child th {\n",
       "        text-align: right;\n",
       "    }\n",
       "\n",
       "    .dataframe thead th {\n",
       "        text-align: left;\n",
       "    }\n",
       "\n",
       "    .dataframe tbody tr th {\n",
       "        vertical-align: top;\n",
       "    }\n",
       "</style>\n",
       "<table border=\"1\" class=\"dataframe\">\n",
       "  <thead>\n",
       "    <tr style=\"text-align: right;\">\n",
       "      <th></th>\n",
       "      <th>BusiestDate</th>\n",
       "      <th>TotalAttendance</th>\n",
       "    </tr>\n",
       "    <tr>\n",
       "      <th>Location</th>\n",
       "      <th></th>\n",
       "      <th></th>\n",
       "    </tr>\n",
       "  </thead>\n",
       "  <tbody>\n",
       "    <tr>\n",
       "      <th>129 LIBERTY GRLL</th>\n",
       "      <td>6</td>\n",
       "      <td>238924.0</td>\n",
       "    </tr>\n",
       "    <tr>\n",
       "      <th>CB25 E CLUB BAR</th>\n",
       "      <td>6</td>\n",
       "      <td>156851.0</td>\n",
       "    </tr>\n",
       "    <tr>\n",
       "      <th>102 CHCKIE PETES</th>\n",
       "      <td>6</td>\n",
       "      <td>156240.0</td>\n",
       "    </tr>\n",
       "    <tr>\n",
       "      <th>CW1 WEST  MARKET</th>\n",
       "      <td>6</td>\n",
       "      <td>153636.0</td>\n",
       "    </tr>\n",
       "    <tr>\n",
       "      <th>123 PHILLY FAVS</th>\n",
       "      <td>6</td>\n",
       "      <td>142858.0</td>\n",
       "    </tr>\n",
       "    <tr>\n",
       "      <th>121 LIBERTY GRLL</th>\n",
       "      <td>6</td>\n",
       "      <td>130344.0</td>\n",
       "    </tr>\n",
       "    <tr>\n",
       "      <th>CB40 W CLUB BAR</th>\n",
       "      <td>6</td>\n",
       "      <td>127294.0</td>\n",
       "    </tr>\n",
       "    <tr>\n",
       "      <th>126 CHCKIE PETES</th>\n",
       "      <td>6</td>\n",
       "      <td>126266.0</td>\n",
       "    </tr>\n",
       "    <tr>\n",
       "      <th>138 LIBERTY GRLL</th>\n",
       "      <td>6</td>\n",
       "      <td>125807.0</td>\n",
       "    </tr>\n",
       "    <tr>\n",
       "      <th>CE1 EAST MARKET</th>\n",
       "      <td>6</td>\n",
       "      <td>125502.0</td>\n",
       "    </tr>\n",
       "    <tr>\n",
       "      <th>110 PENN PIZZA</th>\n",
       "      <td>6</td>\n",
       "      <td>125446.0</td>\n",
       "    </tr>\n",
       "    <tr>\n",
       "      <th>221 PENN PIZZA</th>\n",
       "      <td>6</td>\n",
       "      <td>125338.0</td>\n",
       "    </tr>\n",
       "    <tr>\n",
       "      <th>236 LIBGR/PHFV</th>\n",
       "      <td>6</td>\n",
       "      <td>124981.0</td>\n",
       "    </tr>\n",
       "    <tr>\n",
       "      <th>119 CHCKIE PETES</th>\n",
       "      <td>6</td>\n",
       "      <td>118400.0</td>\n",
       "    </tr>\n",
       "    <tr>\n",
       "      <th>117 PHILLY FAVS</th>\n",
       "      <td>6</td>\n",
       "      <td>116991.0</td>\n",
       "    </tr>\n",
       "    <tr>\n",
       "      <th>C23 LINCOLN GRLL</th>\n",
       "      <td>6</td>\n",
       "      <td>116338.0</td>\n",
       "    </tr>\n",
       "    <tr>\n",
       "      <th>136 PHILLY FAVS</th>\n",
       "      <td>6</td>\n",
       "      <td>114484.0</td>\n",
       "    </tr>\n",
       "    <tr>\n",
       "      <th>134 QUICK&amp;CARM</th>\n",
       "      <td>6</td>\n",
       "      <td>107578.0</td>\n",
       "    </tr>\n",
       "    <tr>\n",
       "      <th>CB19 E CLUB BAR</th>\n",
       "      <td>6</td>\n",
       "      <td>107479.0</td>\n",
       "    </tr>\n",
       "    <tr>\n",
       "      <th>C03 PIZZA LINCLN</th>\n",
       "      <td>6</td>\n",
       "      <td>105361.0</td>\n",
       "    </tr>\n",
       "    <tr>\n",
       "      <th>241 CHCKIE PETES</th>\n",
       "      <td>6</td>\n",
       "      <td>104376.0</td>\n",
       "    </tr>\n",
       "    <tr>\n",
       "      <th>229 CHCKIE PETES</th>\n",
       "      <td>6</td>\n",
       "      <td>104059.0</td>\n",
       "    </tr>\n",
       "    <tr>\n",
       "      <th>101 PENN PIZZA</th>\n",
       "      <td>6</td>\n",
       "      <td>103243.0</td>\n",
       "    </tr>\n",
       "    <tr>\n",
       "      <th>104 PHILLY FAVS</th>\n",
       "      <td>6</td>\n",
       "      <td>102098.0</td>\n",
       "    </tr>\n",
       "    <tr>\n",
       "      <th>C26 LIBERTY GRLL</th>\n",
       "      <td>6</td>\n",
       "      <td>101940.0</td>\n",
       "    </tr>\n",
       "    <tr>\n",
       "      <th>112 TONY LUKES</th>\n",
       "      <td>6</td>\n",
       "      <td>100406.0</td>\n",
       "    </tr>\n",
       "    <tr>\n",
       "      <th>109 MARKET ST DE</th>\n",
       "      <td>6</td>\n",
       "      <td>98917.0</td>\n",
       "    </tr>\n",
       "    <tr>\n",
       "      <th>C37 PENN PIZZA</th>\n",
       "      <td>6</td>\n",
       "      <td>98572.0</td>\n",
       "    </tr>\n",
       "    <tr>\n",
       "      <th>201 LIBERTY GRLL</th>\n",
       "      <td>6</td>\n",
       "      <td>97236.0</td>\n",
       "    </tr>\n",
       "    <tr>\n",
       "      <th>212 LIBERTY GRLL</th>\n",
       "      <td>6</td>\n",
       "      <td>96716.0</td>\n",
       "    </tr>\n",
       "    <tr>\n",
       "      <th>C20 PENN PIZZA</th>\n",
       "      <td>6</td>\n",
       "      <td>94758.0</td>\n",
       "    </tr>\n",
       "    <tr>\n",
       "      <th>C12 LIBERTY GRLL</th>\n",
       "      <td>6</td>\n",
       "      <td>92720.0</td>\n",
       "    </tr>\n",
       "    <tr>\n",
       "      <th>227 PHILLY FAVS</th>\n",
       "      <td>6</td>\n",
       "      <td>89630.0</td>\n",
       "    </tr>\n",
       "    <tr>\n",
       "      <th>115 CHCKIE PETES</th>\n",
       "      <td>6</td>\n",
       "      <td>89560.0</td>\n",
       "    </tr>\n",
       "    <tr>\n",
       "      <th>108 PHILLY FAVS</th>\n",
       "      <td>6</td>\n",
       "      <td>89106.0</td>\n",
       "    </tr>\n",
       "    <tr>\n",
       "      <th>128 LIBERTY TAP</th>\n",
       "      <td>6</td>\n",
       "      <td>87394.0</td>\n",
       "    </tr>\n",
       "    <tr>\n",
       "      <th>C17 LIBERTY GRLL</th>\n",
       "      <td>6</td>\n",
       "      <td>86782.0</td>\n",
       "    </tr>\n",
       "    <tr>\n",
       "      <th>120 PENN PIZZA</th>\n",
       "      <td>6</td>\n",
       "      <td>86780.0</td>\n",
       "    </tr>\n",
       "    <tr>\n",
       "      <th>C04 LIBERTY GRLL</th>\n",
       "      <td>6</td>\n",
       "      <td>86459.0</td>\n",
       "    </tr>\n",
       "    <tr>\n",
       "      <th>125 ZACS</th>\n",
       "      <td>6</td>\n",
       "      <td>86427.0</td>\n",
       "    </tr>\n",
       "    <tr>\n",
       "      <th>204 PENN PIZZA</th>\n",
       "      <td>6</td>\n",
       "      <td>86315.0</td>\n",
       "    </tr>\n",
       "    <tr>\n",
       "      <th>106 PENN PIZZA</th>\n",
       "      <td>6</td>\n",
       "      <td>85788.0</td>\n",
       "    </tr>\n",
       "    <tr>\n",
       "      <th>225 LIBERTY GRLL</th>\n",
       "      <td>6</td>\n",
       "      <td>85380.0</td>\n",
       "    </tr>\n",
       "    <tr>\n",
       "      <th>423 GRILL PORT</th>\n",
       "      <td>6</td>\n",
       "      <td>83421.0</td>\n",
       "    </tr>\n",
       "    <tr>\n",
       "      <th>122 BUD BAR</th>\n",
       "      <td>6</td>\n",
       "      <td>80198.0</td>\n",
       "    </tr>\n",
       "    <tr>\n",
       "      <th>P03 MILLER TENT</th>\n",
       "      <td>6</td>\n",
       "      <td>79334.0</td>\n",
       "    </tr>\n",
       "    <tr>\n",
       "      <th>240 PHILLY FAVS</th>\n",
       "      <td>6</td>\n",
       "      <td>77974.0</td>\n",
       "    </tr>\n",
       "    <tr>\n",
       "      <th>103 CHICKS &amp; PTS</th>\n",
       "      <td>4</td>\n",
       "      <td>77070.0</td>\n",
       "    </tr>\n",
       "    <tr>\n",
       "      <th>CB5 W CLUB BAR</th>\n",
       "      <td>6</td>\n",
       "      <td>75254.0</td>\n",
       "    </tr>\n",
       "  </tbody>\n",
       "</table>\n",
       "</div>"
      ],
      "text/plain": [
       "                  BusiestDate  TotalAttendance\n",
       "Location                                      \n",
       "129 LIBERTY GRLL            6         238924.0\n",
       "CB25 E CLUB BAR             6         156851.0\n",
       "102 CHCKIE PETES            6         156240.0\n",
       "CW1 WEST  MARKET            6         153636.0\n",
       "123 PHILLY FAVS             6         142858.0\n",
       "121 LIBERTY GRLL            6         130344.0\n",
       "CB40 W CLUB BAR             6         127294.0\n",
       "126 CHCKIE PETES            6         126266.0\n",
       "138 LIBERTY GRLL            6         125807.0\n",
       "CE1 EAST MARKET             6         125502.0\n",
       "110 PENN PIZZA              6         125446.0\n",
       "221 PENN PIZZA              6         125338.0\n",
       "236 LIBGR/PHFV              6         124981.0\n",
       "119 CHCKIE PETES            6         118400.0\n",
       "117 PHILLY FAVS             6         116991.0\n",
       "C23 LINCOLN GRLL            6         116338.0\n",
       "136 PHILLY FAVS             6         114484.0\n",
       "134 QUICK&CARM              6         107578.0\n",
       "CB19 E CLUB BAR             6         107479.0\n",
       "C03 PIZZA LINCLN            6         105361.0\n",
       "241 CHCKIE PETES            6         104376.0\n",
       "229 CHCKIE PETES            6         104059.0\n",
       "101 PENN PIZZA              6         103243.0\n",
       "104 PHILLY FAVS             6         102098.0\n",
       "C26 LIBERTY GRLL            6         101940.0\n",
       "112 TONY LUKES              6         100406.0\n",
       "109 MARKET ST DE            6          98917.0\n",
       "C37 PENN PIZZA              6          98572.0\n",
       "201 LIBERTY GRLL            6          97236.0\n",
       "212 LIBERTY GRLL            6          96716.0\n",
       "C20 PENN PIZZA              6          94758.0\n",
       "C12 LIBERTY GRLL            6          92720.0\n",
       "227 PHILLY FAVS             6          89630.0\n",
       "115 CHCKIE PETES            6          89560.0\n",
       "108 PHILLY FAVS             6          89106.0\n",
       "128 LIBERTY TAP             6          87394.0\n",
       "C17 LIBERTY GRLL            6          86782.0\n",
       "120 PENN PIZZA              6          86780.0\n",
       "C04 LIBERTY GRLL            6          86459.0\n",
       "125 ZACS                    6          86427.0\n",
       "204 PENN PIZZA              6          86315.0\n",
       "106 PENN PIZZA              6          85788.0\n",
       "225 LIBERTY GRLL            6          85380.0\n",
       "423 GRILL PORT              6          83421.0\n",
       "122 BUD BAR                 6          80198.0\n",
       "P03 MILLER TENT             6          79334.0\n",
       "240 PHILLY FAVS             6          77974.0\n",
       "103 CHICKS & PTS            4          77070.0\n",
       "CB5 W CLUB BAR              6          75254.0"
      ]
     },
     "execution_count": 31,
     "metadata": {},
     "output_type": "execute_result"
    }
   ],
   "source": [
    "quantile03 = popular_location_weekday.TotalAttendance.quantile(0.75)\n",
    "popular_location_weekday[popular_location_weekday.TotalAttendance > quantile03]"
   ]
  },
  {
   "cell_type": "code",
   "execution_count": null,
   "metadata": {
    "collapsed": true
   },
   "outputs": [],
   "source": []
  },
  {
   "cell_type": "code",
   "execution_count": null,
   "metadata": {
    "collapsed": true
   },
   "outputs": [],
   "source": []
  },
  {
   "cell_type": "code",
   "execution_count": null,
   "metadata": {
    "collapsed": true
   },
   "outputs": [],
   "source": []
  }
 ],
 "metadata": {
  "celltoolbar": "Slideshow",
  "kernelspec": {
   "display_name": "Python 3",
   "language": "python",
   "name": "python3"
  },
  "language_info": {
   "codemirror_mode": {
    "name": "ipython",
    "version": 3
   },
   "file_extension": ".py",
   "mimetype": "text/x-python",
   "name": "python",
   "nbconvert_exporter": "python",
   "pygments_lexer": "ipython3",
   "version": "3.6.3"
  }
 },
 "nbformat": 4,
 "nbformat_minor": 2
}
