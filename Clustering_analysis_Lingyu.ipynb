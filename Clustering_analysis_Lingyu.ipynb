{
 "cells": [
  {
   "cell_type": "code",
   "execution_count": 1,
   "metadata": {
    "collapsed": true
   },
   "outputs": [],
   "source": [
    "%matplotlib inline\n",
    "import pandas as pd\n",
    "import datetime as dt\n",
    "import matplotlib.pyplot as plt\n",
    "import numpy as np"
   ]
  },
  {
   "cell_type": "markdown",
   "metadata": {},
   "source": [
    "# Discount Data"
   ]
  },
  {
   "cell_type": "code",
   "execution_count": 300,
   "metadata": {},
   "outputs": [
    {
     "data": {
      "text/html": [
       "<div>\n",
       "<style>\n",
       "    .dataframe thead tr:only-child th {\n",
       "        text-align: right;\n",
       "    }\n",
       "\n",
       "    .dataframe thead th {\n",
       "        text-align: left;\n",
       "    }\n",
       "\n",
       "    .dataframe tbody tr th {\n",
       "        vertical-align: top;\n",
       "    }\n",
       "</style>\n",
       "<table border=\"1\" class=\"dataframe\">\n",
       "  <thead>\n",
       "    <tr style=\"text-align: right;\">\n",
       "      <th></th>\n",
       "      <th>discountID</th>\n",
       "      <th>nameMaster</th>\n",
       "      <th>posPercent</th>\n",
       "    </tr>\n",
       "  </thead>\n",
       "  <tbody>\n",
       "    <tr>\n",
       "      <th>0</th>\n",
       "      <td>6268161</td>\n",
       "      <td>AAA DINING CARD</td>\n",
       "      <td>50</td>\n",
       "    </tr>\n",
       "    <tr>\n",
       "      <th>1</th>\n",
       "      <td>6268163</td>\n",
       "      <td>AMEX DINING CARD</td>\n",
       "      <td>50</td>\n",
       "    </tr>\n",
       "    <tr>\n",
       "      <th>2</th>\n",
       "      <td>6268165</td>\n",
       "      <td>CHILD ITEM</td>\n",
       "      <td>50</td>\n",
       "    </tr>\n",
       "  </tbody>\n",
       "</table>\n",
       "</div>"
      ],
      "text/plain": [
       "   discountID        nameMaster  posPercent\n",
       "0     6268161   AAA DINING CARD          50\n",
       "1     6268163  AMEX DINING CARD          50\n",
       "2     6268165        CHILD ITEM          50"
      ]
     },
     "execution_count": 300,
     "metadata": {},
     "output_type": "execute_result"
    }
   ],
   "source": [
    "discount_data = pd.read_csv('data/DIM_DISCOUNT.csv', na_values='NULL', sep=',',\n",
    "                            usecols=['discountID', 'nameMaster', 'posPercent'], dtype={})\n",
    "discount_data.head(3)"
   ]
  },
  {
   "cell_type": "code",
   "execution_count": 301,
   "metadata": {},
   "outputs": [
    {
     "data": {
      "text/plain": [
       "nameMaster\n",
       "BREAKFAST COUPON            100\n",
       "MANAGER COMP 100%           100\n",
       "MANAGER MEAL 100%           100\n",
       "Item Discount               100\n",
       "PARTY 100% Disco            100\n",
       "AMENITY COUPON              100\n",
       "DESIGNATED DRIVER DISCOU    100\n",
       "SOUVENIR SODA REFILL        100\n",
       "SOUV POPCORN REFILL         100\n",
       "LOAF HH DISCOUNT             50\n",
       "AAA DINING CARD              50\n",
       "AMEX DINING CARD             50\n",
       "RED ZONE COUPON              50\n",
       "CHILD ITEM                   50\n",
       "1ST & 10 COUPON              50\n",
       "EMPLOYEE MEAL                50\n",
       "50% PRE GM H & I             50\n",
       "AAA DISCOUNT                 20\n",
       "MILITARY DISCOUNT            20\n",
       "MLB EMPLOYEE 20%             20\n",
       "VENUE 20%                    20\n",
       "TEAM CARD 15%                15\n",
       "SEASON TICKET DISCOUNT       15\n",
       "VIP DISCOUNT                 10\n",
       "VENUE EMPLOYEE               10\n",
       "10% CITIZEN DEBIT DISC.      10\n",
       "LP SLIP OWNER 10%            10\n",
       "CITI DISCOUNT 10%            10\n",
       "Name: posPercent, dtype: int64"
      ]
     },
     "execution_count": 301,
     "metadata": {},
     "output_type": "execute_result"
    }
   ],
   "source": [
    "name_percent = discount_data.groupby('nameMaster')['posPercent'].mean().sort_values(ascending=False)\n",
    "name_percent[name_percent>0]"
   ]
  },
  {
   "cell_type": "markdown",
   "metadata": {},
   "source": [
    "# TENDER"
   ]
  },
  {
   "cell_type": "code",
   "execution_count": 295,
   "metadata": {},
   "outputs": [
    {
     "data": {
      "text/html": [
       "<div>\n",
       "<style>\n",
       "    .dataframe thead tr:only-child th {\n",
       "        text-align: right;\n",
       "    }\n",
       "\n",
       "    .dataframe thead th {\n",
       "        text-align: left;\n",
       "    }\n",
       "\n",
       "    .dataframe tbody tr th {\n",
       "        vertical-align: top;\n",
       "    }\n",
       "</style>\n",
       "<table border=\"1\" class=\"dataframe\">\n",
       "  <thead>\n",
       "    <tr style=\"text-align: right;\">\n",
       "      <th></th>\n",
       "      <th>tenderMediaID</th>\n",
       "      <th>name</th>\n",
       "    </tr>\n",
       "  </thead>\n",
       "  <tbody>\n",
       "    <tr>\n",
       "      <th>0</th>\n",
       "      <td>6272607</td>\n",
       "      <td>VISA</td>\n",
       "    </tr>\n",
       "    <tr>\n",
       "      <th>1</th>\n",
       "      <td>6272609</td>\n",
       "      <td>MASTERCARD</td>\n",
       "    </tr>\n",
       "    <tr>\n",
       "      <th>2</th>\n",
       "      <td>6272611</td>\n",
       "      <td>DISCOVER</td>\n",
       "    </tr>\n",
       "  </tbody>\n",
       "</table>\n",
       "</div>"
      ],
      "text/plain": [
       "   tenderMediaID        name\n",
       "0        6272607        VISA\n",
       "1        6272609  MASTERCARD\n",
       "2        6272611    DISCOVER"
      ]
     },
     "execution_count": 295,
     "metadata": {},
     "output_type": "execute_result"
    }
   ],
   "source": [
    "tender_data = pd.read_csv('data/DIM_TENDER_MEDIA.csv', na_values='NULL', sep=',', \n",
    "                          usecols=['tenderMediaID', 'name'], dtype={})\n",
    "tender_data.head(3)"
   ]
  },
  {
   "cell_type": "markdown",
   "metadata": {},
   "source": [
    "# Menu data"
   ]
  },
  {
   "cell_type": "code",
   "execution_count": 2,
   "metadata": {},
   "outputs": [
    {
     "data": {
      "text/html": [
       "<div>\n",
       "<style>\n",
       "    .dataframe thead tr:only-child th {\n",
       "        text-align: right;\n",
       "    }\n",
       "\n",
       "    .dataframe thead th {\n",
       "        text-align: left;\n",
       "    }\n",
       "\n",
       "    .dataframe tbody tr th {\n",
       "        vertical-align: top;\n",
       "    }\n",
       "</style>\n",
       "<table border=\"1\" class=\"dataframe\">\n",
       "  <thead>\n",
       "    <tr style=\"text-align: right;\">\n",
       "      <th></th>\n",
       "      <th>menuItemID</th>\n",
       "      <th>menuItemName1</th>\n",
       "      <th>majorGroupID</th>\n",
       "    </tr>\n",
       "  </thead>\n",
       "  <tbody>\n",
       "    <tr>\n",
       "      <th>0</th>\n",
       "      <td>8122034</td>\n",
       "      <td>Gluten Free Juic</td>\n",
       "      <td>811998</td>\n",
       "    </tr>\n",
       "    <tr>\n",
       "      <th>1</th>\n",
       "      <td>7841299</td>\n",
       "      <td>Buff Chix Stk</td>\n",
       "      <td>811996</td>\n",
       "    </tr>\n",
       "    <tr>\n",
       "      <th>2</th>\n",
       "      <td>7726145</td>\n",
       "      <td>Whole Fruit</td>\n",
       "      <td>811996</td>\n",
       "    </tr>\n",
       "  </tbody>\n",
       "</table>\n",
       "</div>"
      ],
      "text/plain": [
       "   menuItemID     menuItemName1  majorGroupID\n",
       "0     8122034  Gluten Free Juic        811998\n",
       "1     7841299     Buff Chix Stk        811996\n",
       "2     7726145       Whole Fruit        811996"
      ]
     },
     "execution_count": 2,
     "metadata": {},
     "output_type": "execute_result"
    }
   ],
   "source": [
    "menu_data = pd.read_csv('data/DIM_MENU_ITEM.csv', na_values='NULL', sep=',', \n",
    "                        dtype={},\n",
    "                        usecols=['menuItemID', 'menuItemName1', 'majorGroupID'])\n",
    "menu_data.head(3)"
   ]
  },
  {
   "cell_type": "markdown",
   "metadata": {},
   "source": [
    "# Explore FACT DATA"
   ]
  },
  {
   "cell_type": "code",
   "execution_count": 3,
   "metadata": {
    "collapsed": true
   },
   "outputs": [],
   "source": [
    "# Parameters:\n",
    "## chunksize can be a large value to partition the data\n",
    "## iterator=True returns a TextFileReader object from .read_csv()\n",
    "## we could then iterate through the chunks\n",
    "## usecols=[] takes a list of column strings to use in the dataframe.\n",
    "## dtype reduced the size of each data column considerably when ints were specified\n",
    "dateparse = lambda x: pd.datetime.strptime(x, '%Y-%m-%d %H:%M:%S.%f')\n",
    "fact_reader = pd.read_csv('data/FACT_Sites_2017.csv', chunksize=5000, \n",
    "                          skip_blank_lines=True, error_bad_lines=False,\n",
    "                          parse_dates=['transDatetime'], infer_datetime_format=True,\n",
    "                          iterator=True, dtype={},\n",
    "                          usecols=['revenueCenterID', 'Location','transDatetime','recordID','uwsID','checkEmployeeID','voidFlag']\n",
    "                         )"
   ]
  },
  {
   "cell_type": "markdown",
   "metadata": {},
   "source": [
    "## Sales Calender"
   ]
  },
  {
   "cell_type": "code",
   "execution_count": 4,
   "metadata": {},
   "outputs": [
    {
     "name": "stdout",
     "output_type": "stream",
     "text": [
      "CPU times: user 1min 29s, sys: 16.9 s, total: 1min 46s\n",
      "Wall time: 1min 51s\n"
     ]
    }
   ],
   "source": [
    "%%time\n",
    "date_groups = pd.DataFrame()\n",
    "i = 0\n",
    "fact_reader = pd.read_csv('data/FACT_Sites_2017.csv', chunksize=5000, \n",
    "                          skip_blank_lines=True, error_bad_lines=False,\n",
    "                          parse_dates=['transDatetime'], infer_datetime_format=True,\n",
    "                          iterator=True, dtype={},\n",
    "                          usecols=['transDatetime']\n",
    "                         )\n",
    "for chunk in fact_reader:\n",
    "    i += 1\n",
    "    #Date distribution\n",
    "    date_group_chunk = chunk.groupby([chunk.transDatetime.dt.weekday,chunk.transDatetime.dt.month]).size().unstack()\n",
    "    date_groups = date_groups.add(date_group_chunk, fill_value=0)"
   ]
  },
  {
   "cell_type": "code",
   "execution_count": 293,
   "metadata": {
    "scrolled": false
   },
   "outputs": [
    {
     "data": {
      "text/plain": [
       "<matplotlib.text.Text at 0x11568d630>"
      ]
     },
     "execution_count": 293,
     "metadata": {},
     "output_type": "execute_result"
    },
    {
     "data": {
      "image/png": "[encoded data removed]",
      "text/plain": [
       "<matplotlib.figure.Figure at 0x114944080>"
      ]
     },
     "metadata": {},
     "output_type": "display_data"
    }
   ],
   "source": [
    "def plot_calendar_heatmap(ax, date_groups):\n",
    "    ax.pcolor(date_groups, cmap='Greys')\n",
    "    ax.set_xlabel('Month')\n",
    "    ax.set_ylabel('Weekday')\n",
    "    ax.set_yticks(np.arange(7)+0.5)\n",
    "    ax.set_yticklabels(['Mon', 'Tue', 'Wed','Thu','Fri','Sat','Sun'])\n",
    "    ax.set_xticks(np.arange(12)+0.5)\n",
    "    ax.set_xticklabels(['Jan','Feb','Mar','Apr','May','Jun','Jul','Aug','Sept','Oct','Nov','Dec'])\n",
    "    \n",
    "date_groups[2.0]=0\n",
    "date_groups[3.0]=0 # Missing data for Feb. and Mar.\n",
    "date_groups=date_groups.fillna(0)\n",
    "date_groups = date_groups.sort_index(axis=1)\n",
    "f, ax =plt.subplots(1,1,figsize=(10,5))\n",
    "plot_calendar_heatmap(ax, date_groups)\n",
    "ax.set_title('Transactions')\n",
    "# Sunday has significantly higher transactions."
   ]
  },
  {
   "cell_type": "markdown",
   "metadata": {},
   "source": [
    "Further analysis of the FACT_Sites_2017.csv yielded sales data. Sales were grouped by date and weekday and plotted on a heatmap. The data revealed that the majority of the transactions occurred during the Fall, specifically on Sundays in September, again corresponding to the football season."
   ]
  },
  {
   "cell_type": "markdown",
   "metadata": {},
   "source": [
    "# Menu items"
   ]
  },
  {
   "cell_type": "code",
   "execution_count": 5,
   "metadata": {},
   "outputs": [
    {
     "name": "stdout",
     "output_type": "stream",
     "text": [
      "CPU times: user 1min 50s, sys: 21.2 s, total: 2min 11s\n",
      "Wall time: 2min 11s\n"
     ]
    }
   ],
   "source": [
    "%%time\n",
    "fact_reader = pd.read_csv('data/FACT_Sites_2017.csv', chunksize=5000, \n",
    "                          skip_blank_lines=True, error_bad_lines=False,\n",
    "                          parse_dates=['transDatetime'], infer_datetime_format=True,\n",
    "                          iterator=True,\n",
    "                          usecols=['Location','transDatetime','recordID']\n",
    "                         )\n",
    "menu_location_groups = pd.DataFrame()\n",
    "menu_month_groups = pd.DataFrame()\n",
    "for chunk in fact_reader:\n",
    "    i += 1\n",
    "    #Investigate location with menu items\n",
    "    menu_merged_chunk = pd.merge(chunk, menu_data, how='inner', left_on='recordID', right_on='menuItemID')\n",
    "    menu_location_group_chunk = menu_merged_chunk.groupby(['Location', 'menuItemName1']).size().unstack()\n",
    "    menu_location_groups = menu_location_groups.add(menu_location_group_chunk, fill_value=0)\n",
    "    menu_month_group_chunk = menu_merged_chunk.groupby([menu_merged_chunk.transDatetime.dt.month, 'menuItemName1']).size().unstack()\n",
    "    menu_month_groups = menu_month_groups.add(menu_month_group_chunk, fill_value=0)"
   ]
  },
  {
   "cell_type": "code",
   "execution_count": 31,
   "metadata": {
    "scrolled": true
   },
   "outputs": [
    {
     "data": {
      "text/plain": [
       "{(6281797.0, 'SOUV CUP '): 7,\n",
       " (6301652.0, 'BTL DASANI'): 15,\n",
       " (6301660.0, 'BTL COKE'): 3,\n",
       " (6301661.0, 'BTL DIET COKE'): 1,\n",
       " (6301663.0, 'BTL SPRITE'): 1,\n",
       " (6301700.0, 'CAN16 GOOSE IPA'): 5,\n",
       " (6301702.0, 'CAN16 CORONA'): 1,\n",
       " (6301703.0, 'CAN16 FAT TIRE'): 1,\n",
       " (6301704.0, 'CAN16 BUD LT LM'): 6,\n",
       " (6301707.0, 'CAN16 HEINEKEN'): 1,\n",
       " (6301708.0, 'CAN16 SWEETWATER'): 2,\n",
       " (6301710.0, 'CAN16 LANDSHARK'): 2,\n",
       " (6301711.0, 'CAN16 ANGRY ORCH'): 3,\n",
       " (6301713.0, 'CAN16 MICH ULTRA'): 1,\n",
       " (6301714.0, 'CAN16 DOMESTIC'): 2,\n",
       " (6301715.0, 'CAN16 PREMIUM'): 2,\n",
       " (6301717.0, 'CAN16 COORS LT'): 3,\n",
       " (6301718.0, 'CAN16 BUDWEISER'): 6,\n",
       " (6301719.0, 'CAN16 BUD LIGHT'): 11,\n",
       " (6301720.0, 'CAN16 MILLER LT'): 6,\n",
       " (6301721.0, 'CAN14.9 STELLA '): 5,\n",
       " (6301722.0, 'CAN16 BLUEMOON'): 2,\n",
       " (6301723.0, 'CAN16 SHOCK TOP'): 2,\n",
       " (6301751.0, 'CAN24 CORONA'): 1,\n",
       " (6301753.0, 'CAN24 YUENGLING'): 3,\n",
       " (6301754.0, 'CAN24 COORS LT'): 1,\n",
       " (6301755.0, 'CAN24 MILLER LT'): 6,\n",
       " (6301802.0, 'CAN25 BUD'): 4,\n",
       " (6301805.0, 'CAN25 BUD LIGHT'): 5,\n",
       " (6302200.0, 'CAN16 HRDBL CIDR'): 2,\n",
       " (6302205.0, 'CAN16 TROEGS'): 1,\n",
       " (6302551.0, 'STOLI 1'): 1,\n",
       " (6302564.0, 'JIM BEAM 1'): 1,\n",
       " (6302567.0, 'HENNESSY 1'): 1,\n",
       " (6302568.0, 'MAKERS MARK 1'): 1,\n",
       " (6302573.0, 'JACK DANIELS 1'): 1,\n",
       " (6302576.0, 'JAMESON 1'): 1,\n",
       " (6302578.0, 'TITOS 1'): 4,\n",
       " (6302678.0, 'SODA CUP '): 17,\n",
       " (6302851.0, 'BTL TH DT GREEN'): 6,\n",
       " (6302852.0, 'BTL TH LEMONADE'): 2,\n",
       " (6302853.0, 'BTL TH ICE TEA'): 2,\n",
       " (6302901.0, 'CAN16 VICTORY SL'): 1,\n",
       " (6315850.0, 'SOUV FRIES'): 2,\n",
       " (6315851.0, 'HELMET SUNDAE'): 1,\n",
       " (6315900.0, 'HELMET CUP'): 10,\n",
       " (6315901.0, 'WAFFLE CONE'): 5,\n",
       " (6317300.0, 'ZOOM SODA'): 1,\n",
       " (6317303.0, 'HOT CHOC 12'): 7,\n",
       " (6317304.0, 'COFFEE 12'): 9,\n",
       " (6317305.0, 'DECAF 12'): 1,\n",
       " (6317306.0, 'HOT TEA 12'): 1,\n",
       " (6317350.0, 'SMART WTR 1L'): 1,\n",
       " (6317400.0, 'ICD COFFEE 20'): 4,\n",
       " (6317506.0, 'COOK & CRM PINT'): 1,\n",
       " (6317509.0, 'CHO/VAN PINT'): 1,\n",
       " (6317650.0, 'HOT DOG'): 7,\n",
       " (6317651.0, '$1.00 DOG '): 6,\n",
       " (6317652.0, 'JUMBO HOT DOG'): 12,\n",
       " (6317653.0, 'HOT DOG 8X1'): 3,\n",
       " (6317700.0, 'SAUSAGE ITALIAN'): 5,\n",
       " (6317701.0, 'SAUSAGE HOT'): 1,\n",
       " (6318300.0, 'BULLS HALF CHIX'): 1,\n",
       " (6318303.0, 'BULLS DOG'): 1,\n",
       " (6318304.0, 'BULLS SANDWICH'): 1,\n",
       " (6318401.0, 'ONIONS'): 2,\n",
       " (6318450.0, 'SLC PIZ PEPPRNI'): 4,\n",
       " (6318451.0, 'SLC PIZ CHEESE'): 2,\n",
       " (6318453.0, 'SAND CHEESESTEAK'): 3,\n",
       " (6318601.0, 'TONY L STEAK'): 12,\n",
       " (6318602.0, 'CAMPOS STEAK'): 3,\n",
       " (6318653.0, 'BAVARIAN PRETZEL'): 13,\n",
       " (6318700.0, 'SUPER PRETZEL'): 4,\n",
       " (6318704.0, 'KID PRETZEL'): 2,\n",
       " (6318705.0, 'BAG PEANUTS'): 9,\n",
       " (6318706.0, '1LB BAG PEANUTS'): 1,\n",
       " (6318756.0, 'BAV PEANUTS'): 2,\n",
       " (6318757.0, 'BAV ALMONDS'): 1,\n",
       " (6318759.0, 'FUNNEL CAKE'): 1,\n",
       " (6318800.0, 'CRACKER JACKS'): 3,\n",
       " (6318801.0, 'SD CHEESE CUP'): 7,\n",
       " (6318853.0, 'NACHOS HOF'): 2,\n",
       " (6318900.0, 'NACHO GRANDE'): 2,\n",
       " (6318901.0, 'CHIX TENDER BSKT'): 5,\n",
       " (6319000.0, 'FRIES BSKT'): 10,\n",
       " (6319053.0, 'FRSH FUNNEL CAKE'): 1,\n",
       " (6319100.0, 'COTTON CANDY'): 4,\n",
       " (6319101.0, 'SOUV POPCORN'): 1,\n",
       " (6319103.0, 'POPCORN '): 11,\n",
       " (6319354.0, 'WB SINGLE'): 2,\n",
       " (6319403.0, 'GO PICNIC BEAN'): 2,\n",
       " (6319654.0, 'TK KRIMPETS'): 2,\n",
       " (6319655.0, 'DONUTS'): 2,\n",
       " (6319702.0, 'FED CHIX SAND'): 5,\n",
       " (6319851.0, 'CRAB FRIES'): 23,\n",
       " (6320050.0, 'C&P CHEESE CUP'): 6,\n",
       " (6320054.0, 'CHS QUESADILLA'): 1,\n",
       " (6320155.0, 'RITA REG 10'): 2,\n",
       " (6320402.0, 'FLYING FISH LPD'): 2,\n",
       " (6320403.0, 'FLYING FISH PD'): 5,\n",
       " (6320404.0, 'YUENGLING PD'): 3,\n",
       " (6320408.0, 'BUD LIGHT DD'): 3,\n",
       " (6320603.0, 'SHOCK TOP LPD'): 1,\n",
       " (6320604.0, 'HOPDEVIL PD'): 1,\n",
       " (6320605.0, 'HOPDEVIL LPD'): 2,\n",
       " (6320750.0, 'MILLER LITE DD'): 2,\n",
       " (6320952.0, 'CAN16 YN BLK&TAN'): 1,\n",
       " (6320953.0, 'CAN16 SIERRA PAL'): 1,\n",
       " (6320954.0, 'CAN16 LNKGLE SMR'): 4,\n",
       " (6321107.0, 'PINNACLE 1'): 2,\n",
       " (6321250.0, 'BAILEYS 2'): 1,\n",
       " (6321408.0, 'FIREBALL 1'): 1,\n",
       " (6321700.0, 'CAB BERINGER'): 2,\n",
       " (6321900.0, 'WZ BERINGER'): 1,\n",
       " (6321903.0, 'CHARD BERINGER'): 1,\n",
       " (6321950.0, 'CHARD KEN JACK'): 1,\n",
       " (6322250.0, 'ORANGE SLICE'): 1,\n",
       " (6322269.0, 'w/ CRAN JUC'): 1,\n",
       " (6322283.0, '**DO NOT MAKE**'): 1,\n",
       " (6322287.0, 'ROCKS'): 1,\n",
       " (6322452.0, 'EXTRAS'): 1,\n",
       " (6322460.0, 'NO ONIONS'): 2,\n",
       " (6322461.0, 'NO CHEESE'): 1,\n",
       " (6322560.0, 'CHICKEN STEAK'): 1,\n",
       " (6322562.0, 'THE WORKS'): 1,\n",
       " (6322564.0, 'VEG STEAK'): 2,\n",
       " (6322566.0, 'HEATER'): 1,\n",
       " (6322567.0, 'PIZZA STEAK'): 1,\n",
       " (6323011.0, 'MAYO'): 1,\n",
       " (6323013.0, 'NO TOMATO'): 1,\n",
       " (6323014.0, 'NO LETTUCE'): 2,\n",
       " (6323018.0, 'MEATBALL HOAGIE '): 1,\n",
       " (6323030.0, 'HAM & CHS HOAGIE'): 1,\n",
       " (6323036.0, 'TURKEY HOAGIE'): 2,\n",
       " (6323042.0, 'ITALIAN HOAGIE'): 3,\n",
       " (6323102.0, 'CHIX TENDER BSKT'): 5,\n",
       " (6323200.0, 'VEG CHILI'): 1,\n",
       " (6323301.0, 'HOT DOG'): 2,\n",
       " (6323708.0, 'DIET COKE SOUV'): 1,\n",
       " (6323709.0, 'COKE SOUV'): 1,\n",
       " (6323714.0, 'CRANBERRY CUP'): 1,\n",
       " (6323719.0, 'COKE CUP'): 9,\n",
       " (6323851.0, 'BURG CHS'): 4,\n",
       " (6324500.0, 'NO ONION'): 1,\n",
       " (6324705.0, 'CHOCOLATE SAUCE'): 5,\n",
       " (6324708.0, 'RAINBOW JIMMIES'): 3,\n",
       " (6324709.0, 'TWIST'): 1,\n",
       " (6324711.0, 'VANILLA'): 1,\n",
       " (6324716.0, 'AMERICAN '): 1,\n",
       " (6324752.0, 'SPEC FD PREP'): 4,\n",
       " (6324850.0, 'NO LETTUCE'): 1,\n",
       " (6324851.0, 'NO TOMATO'): 1,\n",
       " (6325102.0, 'GAMEDAY SPECIAL'): 1,\n",
       " (6325152.0, 'COOKIE BITES'): 1,\n",
       " (6325200.0, 'FRIES BSKT'): 3,\n",
       " (6325651.0, 'BURGER STATION'): 1,\n",
       " (6325652.0, 'CHSSTK STATION'): 1,\n",
       " (6325653.0, 'SPECIALTY STATN'): 1,\n",
       " (6325657.0, 'DESSERT STATION'): 1,\n",
       " (6325808.0, 'HOT PEPPERS'): 1,\n",
       " (6325810.0, 'FRIED ONIONS'): 9,\n",
       " (6325812.0, 'EXTRA CHEESE'): 2,\n",
       " (6325813.0, 'PROVOLONE'): 6,\n",
       " (6325814.0, 'WHIZ'): 6,\n",
       " (6325815.0, 'AMERICAN'): 8,\n",
       " (6325816.0, 'TNY ROAST PORK'): 3,\n",
       " (6325817.0, 'NO RABE'): 1,\n",
       " (6326110.0, 'PORK QUESADILLA'): 1,\n",
       " (6327301.0, 'CFA CHIPS'): 1,\n",
       " (6327302.0, 'CHIK FIL A SANDW'): 3,\n",
       " (6327450.0, 'BURG'): 1,\n",
       " (6331350.0, 'CAN25 BUD LT LIM'): 1,\n",
       " (6331453.0, 'CAN16 LIL HEAVEN'): 3,\n",
       " (6331602.0, 'CAN25 SHOCKTOP'): 1,\n",
       " (6332000.0, 'ROLLING ROCK 21'): 1,\n",
       " (6332214.0, 'TROP TORPEDO 16'): 1,\n",
       " (6332350.0, 'DAIQ STRWBERRY'): 2,\n",
       " (6332400.0, 'KOOZIE'): 2,\n",
       " (6332450.0, 'PRETZEL BITES'): 4,\n",
       " (6332502.0, 'CHICKIE CUTLET'): 2,\n",
       " (6332751.0, 'CHIX NACHO HOF'): 1,\n",
       " (6333000.0, 'LRG DOM CAN'): 2,\n",
       " (6333051.0, 'TEST ITEM'): 1,\n",
       " (6333955.0, 'ABSOLUTE VAN 1'): 1,\n",
       " (6334050.0, 'SAUZA GOLD 1'): 1,\n",
       " (6334167.0, 'SHRP PROVOLONE'): 1,\n",
       " (6334168.0, 'PROVOLONE'): 1,\n",
       " (6334169.0, 'AMERICAN'): 1,\n",
       " (6334650.0, '******FIRE******'): 1,\n",
       " (6335150.0, '***TO GO***'): 1,\n",
       " (6335353.0, 'NO FRIED ONION'): 2,\n",
       " (6337705.0, 'PEPPERS/ONIONS'): 1,\n",
       " (6341100.0, 'CHICKIES CHIPS'): 1,\n",
       " (6375003.0, 'ROOT BEER CUP'): 1,\n",
       " (6410900.0, 'STARBURST'): 1,\n",
       " (6564301.0, 'BACARDI OAK 1'): 1,\n",
       " (6731850.0, 'EMP ICE CREAM'): 1,\n",
       " (6731950.0, 'STH SODA REFILL'): 2,\n",
       " (6811100.0, 'SELTZER BEER'): 1,\n",
       " (7919501.0, 'SM COOKIE DOUGH'): 4,\n",
       " (7919503.0, 'LG COOKIE DOUGH'): 2,\n",
       " (7919605.0, 'ROAST BEEF SANDW'): 1}"
      ]
     },
     "execution_count": 31,
     "metadata": {},
     "output_type": "execute_result"
    }
   ],
   "source": [
    "menu_merged_chunk.groupby(['recordID', 'menuItemName1']).size().to_dict()"
   ]
  },
  {
   "cell_type": "code",
   "execution_count": 509,
   "metadata": {},
   "outputs": [
    {
     "data": {
      "text/html": [
       "<div>\n",
       "<style>\n",
       "    .dataframe thead tr:only-child th {\n",
       "        text-align: right;\n",
       "    }\n",
       "\n",
       "    .dataframe thead th {\n",
       "        text-align: left;\n",
       "    }\n",
       "\n",
       "    .dataframe tbody tr th {\n",
       "        vertical-align: top;\n",
       "    }\n",
       "</style>\n",
       "<table border=\"1\" class=\"dataframe\">\n",
       "  <thead>\n",
       "    <tr style=\"text-align: right;\">\n",
       "      <th></th>\n",
       "      <th>Favorite</th>\n",
       "      <th>Sales</th>\n",
       "    </tr>\n",
       "    <tr>\n",
       "      <th>Location</th>\n",
       "      <th></th>\n",
       "      <th></th>\n",
       "    </tr>\n",
       "  </thead>\n",
       "  <tbody>\n",
       "    <tr>\n",
       "      <th>103 CHICKS &amp; PTS</th>\n",
       "      <td>CRAB FRIES</td>\n",
       "      <td>105418.0</td>\n",
       "    </tr>\n",
       "    <tr>\n",
       "      <th>148 TONY LUKES</th>\n",
       "      <td>TONY L STEAK</td>\n",
       "      <td>54510.0</td>\n",
       "    </tr>\n",
       "    <tr>\n",
       "      <th>404 BULLS BBQ</th>\n",
       "      <td>BULLS SANDWICH</td>\n",
       "      <td>31113.0</td>\n",
       "    </tr>\n",
       "    <tr>\n",
       "      <th>101 CAMPS STK/BR</th>\n",
       "      <td>CAMPOS STEAK</td>\n",
       "      <td>26789.0</td>\n",
       "    </tr>\n",
       "    <tr>\n",
       "      <th>319CP CHCK &amp; PTS</th>\n",
       "      <td>CRAB FRIES</td>\n",
       "      <td>20680.0</td>\n",
       "    </tr>\n",
       "    <tr>\n",
       "      <th>135 HATFIELD GRL</th>\n",
       "      <td>JUMBO HOT DOG</td>\n",
       "      <td>19126.0</td>\n",
       "    </tr>\n",
       "    <tr>\n",
       "      <th>106 S PHILLY MRK</th>\n",
       "      <td>HOT DOG</td>\n",
       "      <td>18850.0</td>\n",
       "    </tr>\n",
       "    <tr>\n",
       "      <th>110 PIZZA/CRMRY</th>\n",
       "      <td>HELMET CUP</td>\n",
       "      <td>16626.0</td>\n",
       "    </tr>\n",
       "    <tr>\n",
       "      <th>204 PIZZA/CRMRY</th>\n",
       "      <td>HELMET CUP</td>\n",
       "      <td>16166.0</td>\n",
       "    </tr>\n",
       "    <tr>\n",
       "      <th>403 WATER ICE</th>\n",
       "      <td>RITA REG 10</td>\n",
       "      <td>15846.0</td>\n",
       "    </tr>\n",
       "    <tr>\n",
       "      <th>954 DC CON/IN ST</th>\n",
       "      <td>BTL DASANI</td>\n",
       "      <td>15066.0</td>\n",
       "    </tr>\n",
       "    <tr>\n",
       "      <th>137 PIZZA/CRMRY</th>\n",
       "      <td>HELMET CUP</td>\n",
       "      <td>14687.0</td>\n",
       "    </tr>\n",
       "    <tr>\n",
       "      <th>141 FEDERAL CHKN</th>\n",
       "      <td>DONUTS</td>\n",
       "      <td>14669.0</td>\n",
       "    </tr>\n",
       "    <tr>\n",
       "      <th>208 FAIR/HTF/BRW</th>\n",
       "      <td>CRAB FRIES</td>\n",
       "      <td>14525.0</td>\n",
       "    </tr>\n",
       "    <tr>\n",
       "      <th>401 BULLPEN BRWS</th>\n",
       "      <td>CAN16 PREMIUM</td>\n",
       "      <td>14382.0</td>\n",
       "    </tr>\n",
       "    <tr>\n",
       "      <th>102 CHCKIE PETES</th>\n",
       "      <td>CP Fry Cup</td>\n",
       "      <td>13800.0</td>\n",
       "    </tr>\n",
       "    <tr>\n",
       "      <th>416 WATER ICE</th>\n",
       "      <td>RITA REG 10</td>\n",
       "      <td>13397.0</td>\n",
       "    </tr>\n",
       "    <tr>\n",
       "      <th>432 WATER ICE</th>\n",
       "      <td>RITA REG 10</td>\n",
       "      <td>12445.0</td>\n",
       "    </tr>\n",
       "    <tr>\n",
       "      <th>139 S PHILLY MRK</th>\n",
       "      <td>HOT DOG</td>\n",
       "      <td>12369.0</td>\n",
       "    </tr>\n",
       "    <tr>\n",
       "      <th>109 ELFRETHS ALY</th>\n",
       "      <td>CHIX TENDER BSKT</td>\n",
       "      <td>11377.0</td>\n",
       "    </tr>\n",
       "    <tr>\n",
       "      <th>120 HATFIELD GRL</th>\n",
       "      <td>JUMBO HOT DOG</td>\n",
       "      <td>11072.0</td>\n",
       "    </tr>\n",
       "    <tr>\n",
       "      <th>508 WATER ICE</th>\n",
       "      <td>RITA REG 10</td>\n",
       "      <td>11051.0</td>\n",
       "    </tr>\n",
       "    <tr>\n",
       "      <th>321 MKT EX/WSH/C</th>\n",
       "      <td>HELMET CUP</td>\n",
       "      <td>10864.0</td>\n",
       "    </tr>\n",
       "    <tr>\n",
       "      <th>126 CHCKIE PETES</th>\n",
       "      <td>CP Fry Cup</td>\n",
       "      <td>10811.0</td>\n",
       "    </tr>\n",
       "    <tr>\n",
       "      <th>119 CHCKIE PETES</th>\n",
       "      <td>CP Fry Cup</td>\n",
       "      <td>10775.0</td>\n",
       "    </tr>\n",
       "  </tbody>\n",
       "</table>\n",
       "</div>"
      ],
      "text/plain": [
       "                          Favorite     Sales\n",
       "Location                                    \n",
       "103 CHICKS & PTS        CRAB FRIES  105418.0\n",
       "148 TONY LUKES        TONY L STEAK   54510.0\n",
       "404 BULLS BBQ       BULLS SANDWICH   31113.0\n",
       "101 CAMPS STK/BR      CAMPOS STEAK   26789.0\n",
       "319CP CHCK & PTS        CRAB FRIES   20680.0\n",
       "135 HATFIELD GRL     JUMBO HOT DOG   19126.0\n",
       "106 S PHILLY MRK           HOT DOG   18850.0\n",
       "110 PIZZA/CRMRY         HELMET CUP   16626.0\n",
       "204 PIZZA/CRMRY         HELMET CUP   16166.0\n",
       "403 WATER ICE          RITA REG 10   15846.0\n",
       "954 DC CON/IN ST        BTL DASANI   15066.0\n",
       "137 PIZZA/CRMRY         HELMET CUP   14687.0\n",
       "141 FEDERAL CHKN            DONUTS   14669.0\n",
       "208 FAIR/HTF/BRW        CRAB FRIES   14525.0\n",
       "401 BULLPEN BRWS     CAN16 PREMIUM   14382.0\n",
       "102 CHCKIE PETES        CP Fry Cup   13800.0\n",
       "416 WATER ICE          RITA REG 10   13397.0\n",
       "432 WATER ICE          RITA REG 10   12445.0\n",
       "139 S PHILLY MRK           HOT DOG   12369.0\n",
       "109 ELFRETHS ALY  CHIX TENDER BSKT   11377.0\n",
       "120 HATFIELD GRL     JUMBO HOT DOG   11072.0\n",
       "508 WATER ICE          RITA REG 10   11051.0\n",
       "321 MKT EX/WSH/C        HELMET CUP   10864.0\n",
       "126 CHCKIE PETES        CP Fry Cup   10811.0\n",
       "119 CHCKIE PETES        CP Fry Cup   10775.0"
      ]
     },
     "execution_count": 509,
     "metadata": {},
     "output_type": "execute_result"
    }
   ],
   "source": [
    "idx = menu_location_groups.idxmax(axis=1)\n",
    "maxvalue = menu_location_groups.max(axis=1)\n",
    "menu_location_favorite = pd.DataFrame({'Favorite':idx, 'Sales':maxvalue})\n",
    "menu_location_favorite = menu_location_favorite.sort_values('Sales', ascending=False)\n",
    "menu_location_favorite[menu_location_favorite.Sales>10000]"
   ]
  },
  {
   "cell_type": "markdown",
   "metadata": {},
   "source": [
    "## Cluster Menu items based on their sales in different location \n",
    "## (Compare with Apriori???)"
   ]
  },
  {
   "cell_type": "markdown",
   "metadata": {},
   "source": [
    "The Apriori Basket Analysis result can be further validated by the unsupervised machine learning. Here we used KMeans method to cluster all items based on their sales in 196 different locations as well as different date. Items likely to be in one basket should have similar profile of selling location and date. \n",
    "We firstly clustered the items from the locations and the number of clusters were selected from the curve plot of silhouette scores. These 1002 items were classified into 5 clusters labeled from 0 to 4. The frequent itemsets were supposed to appear within each cluster and it dramatically reduced the calculation of the PCY.\n",
    "\n",
    "\n",
    "We noticed that many items have NA value with the location. To reduce the calculation of PCY, we firstly classified the 196 locations into N clusters from their selling data. Then for each cluster, the items with transaction number not equal to NA were selected as candicates and PCY was applied for each cluster. \n",
    "\n"
   ]
  },
  {
   "cell_type": "code",
   "execution_count": 9,
   "metadata": {},
   "outputs": [
    {
     "name": "stdout",
     "output_type": "stream",
     "text": [
      "CPU times: user 537 ms, sys: 320 ms, total: 857 ms\n",
      "Wall time: 1.81 s\n"
     ]
    }
   ],
   "source": [
    "%%time\n",
    "from sklearn.cluster import KMeans\n",
    "from sklearn.decomposition import TruncatedSVD\n",
    "from sklearn.metrics import silhouette_score\n",
    "def classify_kmeans(data, n_clusters=5, stdout=True):\n",
    "    km_n = KMeans(n_clusters=n_clusters)\n",
    "    km_n.fit(data)\n",
    "    predict_labels = km_n.fit_predict(data)\n",
    "    sc = silhouette_score(data, predict_labels)\n",
    "    if stdout==True:\n",
    "        print(\"Inertia for KMeans with {0:d} clusters = {1:f} \".format(n_clusters, km_n.inertia_))\n",
    "        print(\"Silhouette Score for KMeans with {0:d} clusters = {1:f}\".format(n_clusters,sc))\n",
    "    return (sc, predict_labels)\n",
    "    \n",
    "def plot_reduction(ax, data_2d, labels=None, centers=None):\n",
    "    if labels is not None:\n",
    "        ax.scatter(data_2d[:,0],data_2d[:,1],c=labels, cmap='Set1', linewidth=0)\n",
    "    else:\n",
    "        ax.scatter(data_2d[:,0],data_2d[:,1],cmap='Set1', linewidth=0)\n",
    "    if centers is not None:\n",
    "        ax.scatter(centers[:,0],centers[:,1],marker='x', s=50, linewidths=3,color='k')"
   ]
  },
  {
   "cell_type": "code",
   "execution_count": 10,
   "metadata": {},
   "outputs": [
    {
     "data": {
      "text/plain": [
       "(1002, 196)"
      ]
     },
     "execution_count": 10,
     "metadata": {},
     "output_type": "execute_result"
    }
   ],
   "source": [
    "menu_location_cluster = menu_location_groups.fillna(0)\n",
    "menu_location_cluster = menu_location_cluster.T\n",
    "menu_location_cluster.shape"
   ]
  },
  {
   "cell_type": "code",
   "execution_count": 11,
   "metadata": {},
   "outputs": [
    {
     "name": "stdout",
     "output_type": "stream",
     "text": [
      "Inertia for KMeans with 5 clusters = 15422296886.366535 \n",
      "Silhouette Score for KMeans with 5 clusters = 0.871442\n"
     ]
    }
   ],
   "source": [
    "sc=classify_kmeans(menu_location_cluster, n_clusters=5)\n",
    "##Very bad..."
   ]
  },
  {
   "cell_type": "code",
   "execution_count": 13,
   "metadata": {},
   "outputs": [],
   "source": [
    "svd = TruncatedSVD(n_components=2)\n",
    "svd.fit(menu_location_cluster)  \n",
    "data_2d = svd.fit_transform(menu_location_cluster)\n",
    "kmeans_5 = KMeans(n_clusters=5)\n",
    "kmeans_5.fit(data_2d)\n",
    "cluster_labels = kmeans_5.predict(data_2d)\n",
    "centers = kmeans_5.cluster_centers_"
   ]
  },
  {
   "cell_type": "code",
   "execution_count": 15,
   "metadata": {},
   "outputs": [
    {
     "data": {
      "text/plain": [
       "array([2, 2, 2, ..., 2, 2, 2], dtype=int32)"
      ]
     },
     "execution_count": 15,
     "metadata": {},
     "output_type": "execute_result"
    }
   ],
   "source": [
    "cluster_labels"
   ]
  },
  {
   "cell_type": "code",
   "execution_count": 14,
   "metadata": {
    "scrolled": false
   },
   "outputs": [
    {
     "data": {
      "text/plain": [
       "<matplotlib.text.Text at 0x114e23a90>"
      ]
     },
     "execution_count": 14,
     "metadata": {},
     "output_type": "execute_result"
    },
    {
     "data": {
      "image/png": "[encoded data removed]",
      "text/plain": [
       "<matplotlib.figure.Figure at 0x10c6f3710>"
      ]
     },
     "metadata": {},
     "output_type": "display_data"
    }
   ],
   "source": [
    "f, (ax1, ax2) = plt.subplots(1,2, figsize=(12,6))\n",
    "plot_reduction(ax1, data_2d)\n",
    "ax1.set_title('Reduce items into 2D')\n",
    "plot_reduction(ax2, data_2d, cluster_labels, centers)\n",
    "ax2.set_title('Keans of 5 Clusters')"
   ]
  },
  {
   "cell_type": "code",
   "execution_count": 521,
   "metadata": {},
   "outputs": [
    {
     "data": {
      "text/html": [
       "<div>\n",
       "<style>\n",
       "    .dataframe thead tr:only-child th {\n",
       "        text-align: right;\n",
       "    }\n",
       "\n",
       "    .dataframe thead th {\n",
       "        text-align: left;\n",
       "    }\n",
       "\n",
       "    .dataframe tbody tr th {\n",
       "        vertical-align: top;\n",
       "    }\n",
       "</style>\n",
       "<table border=\"1\" class=\"dataframe\">\n",
       "  <thead>\n",
       "    <tr style=\"text-align: right;\">\n",
       "      <th></th>\n",
       "      <th>Favorite</th>\n",
       "      <th>Sales</th>\n",
       "    </tr>\n",
       "    <tr>\n",
       "      <th>transDatetime</th>\n",
       "      <th></th>\n",
       "      <th></th>\n",
       "    </tr>\n",
       "  </thead>\n",
       "  <tbody>\n",
       "    <tr>\n",
       "      <th>1</th>\n",
       "      <td>CP Fry Cup</td>\n",
       "      <td>10324.0</td>\n",
       "    </tr>\n",
       "    <tr>\n",
       "      <th>4</th>\n",
       "      <td>$1.00 DOG</td>\n",
       "      <td>43912.0</td>\n",
       "    </tr>\n",
       "    <tr>\n",
       "      <th>5</th>\n",
       "      <td>BTL DASANI</td>\n",
       "      <td>27547.0</td>\n",
       "    </tr>\n",
       "    <tr>\n",
       "      <th>6</th>\n",
       "      <td>BTL DASANI</td>\n",
       "      <td>44233.0</td>\n",
       "    </tr>\n",
       "    <tr>\n",
       "      <th>7</th>\n",
       "      <td>BTL DASANI</td>\n",
       "      <td>57491.0</td>\n",
       "    </tr>\n",
       "    <tr>\n",
       "      <th>8</th>\n",
       "      <td>BTL DASANI</td>\n",
       "      <td>38725.0</td>\n",
       "    </tr>\n",
       "    <tr>\n",
       "      <th>9</th>\n",
       "      <td>20oz Water</td>\n",
       "      <td>49330.0</td>\n",
       "    </tr>\n",
       "    <tr>\n",
       "      <th>10</th>\n",
       "      <td>CP Fry Cup</td>\n",
       "      <td>14867.0</td>\n",
       "    </tr>\n",
       "    <tr>\n",
       "      <th>11</th>\n",
       "      <td>CP Fry Cup</td>\n",
       "      <td>20234.0</td>\n",
       "    </tr>\n",
       "    <tr>\n",
       "      <th>12</th>\n",
       "      <td>CP Fry Cup</td>\n",
       "      <td>17995.0</td>\n",
       "    </tr>\n",
       "  </tbody>\n",
       "</table>\n",
       "</div>"
      ],
      "text/plain": [
       "                 Favorite    Sales\n",
       "transDatetime                     \n",
       "1              CP Fry Cup  10324.0\n",
       "4              $1.00 DOG   43912.0\n",
       "5              BTL DASANI  27547.0\n",
       "6              BTL DASANI  44233.0\n",
       "7              BTL DASANI  57491.0\n",
       "8              BTL DASANI  38725.0\n",
       "9              20oz Water  49330.0\n",
       "10             CP Fry Cup  14867.0\n",
       "11             CP Fry Cup  20234.0\n",
       "12             CP Fry Cup  17995.0"
      ]
     },
     "execution_count": 521,
     "metadata": {},
     "output_type": "execute_result"
    }
   ],
   "source": [
    "menu_month_groups = menu_month_groups.fillna(0)\n",
    "idx = menu_month_groups.idxmax(axis=1)\n",
    "maxvalue = menu_month_groups.max(axis=1)\n",
    "menu_month_favorite = pd.DataFrame({'Favorite':idx, 'Sales':maxvalue})\n",
    "menu_month_favorite = menu_month_favorite.sort_index(axis=1)\n",
    "menu_month_favorite"
   ]
  },
  {
   "cell_type": "code",
   "execution_count": 538,
   "metadata": {},
   "outputs": [
    {
     "data": {
      "text/html": [
       "<div>\n",
       "<style>\n",
       "    .dataframe thead tr:only-child th {\n",
       "        text-align: right;\n",
       "    }\n",
       "\n",
       "    .dataframe thead th {\n",
       "        text-align: left;\n",
       "    }\n",
       "\n",
       "    .dataframe tbody tr th {\n",
       "        vertical-align: top;\n",
       "    }\n",
       "</style>\n",
       "<table border=\"1\" class=\"dataframe\">\n",
       "  <thead>\n",
       "    <tr style=\"text-align: right;\">\n",
       "      <th>transDatetime</th>\n",
       "      <th>1</th>\n",
       "      <th>2</th>\n",
       "      <th>3</th>\n",
       "      <th>4</th>\n",
       "      <th>5</th>\n",
       "      <th>6</th>\n",
       "      <th>7</th>\n",
       "      <th>8</th>\n",
       "      <th>9</th>\n",
       "      <th>10</th>\n",
       "      <th>11</th>\n",
       "      <th>12</th>\n",
       "    </tr>\n",
       "    <tr>\n",
       "      <th>menuItemName1</th>\n",
       "      <th></th>\n",
       "      <th></th>\n",
       "      <th></th>\n",
       "      <th></th>\n",
       "      <th></th>\n",
       "      <th></th>\n",
       "      <th></th>\n",
       "      <th></th>\n",
       "      <th></th>\n",
       "      <th></th>\n",
       "      <th></th>\n",
       "      <th></th>\n",
       "    </tr>\n",
       "  </thead>\n",
       "  <tbody>\n",
       "    <tr>\n",
       "      <th>$1.00 DOG</th>\n",
       "      <td>0.0</td>\n",
       "      <td>0</td>\n",
       "      <td>0</td>\n",
       "      <td>43912.0</td>\n",
       "      <td>22790.0</td>\n",
       "      <td>514.0</td>\n",
       "      <td>812.0</td>\n",
       "      <td>562.0</td>\n",
       "      <td>9956.0</td>\n",
       "      <td>0.0</td>\n",
       "      <td>0.0</td>\n",
       "      <td>0.0</td>\n",
       "    </tr>\n",
       "    <tr>\n",
       "      <th>$10 DINNER</th>\n",
       "      <td>0.0</td>\n",
       "      <td>0</td>\n",
       "      <td>0</td>\n",
       "      <td>0.0</td>\n",
       "      <td>0.0</td>\n",
       "      <td>0.0</td>\n",
       "      <td>0.0</td>\n",
       "      <td>1.0</td>\n",
       "      <td>0.0</td>\n",
       "      <td>0.0</td>\n",
       "      <td>0.0</td>\n",
       "      <td>0.0</td>\n",
       "    </tr>\n",
       "    <tr>\n",
       "      <th>$3 LUNCH</th>\n",
       "      <td>0.0</td>\n",
       "      <td>0</td>\n",
       "      <td>0</td>\n",
       "      <td>0.0</td>\n",
       "      <td>0.0</td>\n",
       "      <td>0.0</td>\n",
       "      <td>0.0</td>\n",
       "      <td>3.0</td>\n",
       "      <td>0.0</td>\n",
       "      <td>0.0</td>\n",
       "      <td>0.0</td>\n",
       "      <td>0.0</td>\n",
       "    </tr>\n",
       "  </tbody>\n",
       "</table>\n",
       "</div>"
      ],
      "text/plain": [
       "transDatetime   1   2   3        4        5      6      7      8       9   \\\n",
       "menuItemName1                                                               \n",
       "$1.00 DOG      0.0   0   0  43912.0  22790.0  514.0  812.0  562.0  9956.0   \n",
       "$10 DINNER     0.0   0   0      0.0      0.0    0.0    0.0    1.0     0.0   \n",
       "$3 LUNCH       0.0   0   0      0.0      0.0    0.0    0.0    3.0     0.0   \n",
       "\n",
       "transDatetime   10   11   12  \n",
       "menuItemName1                 \n",
       "$1.00 DOG      0.0  0.0  0.0  \n",
       "$10 DINNER     0.0  0.0  0.0  \n",
       "$3 LUNCH       0.0  0.0  0.0  "
      ]
     },
     "execution_count": 538,
     "metadata": {},
     "output_type": "execute_result"
    }
   ],
   "source": [
    "menu_month_cluster = menu_month_groups.T\n",
    "menu_month_cluster[2]=0\n",
    "menu_month_cluster[3]=0 #add column for Feb. and Mar.\n",
    "menu_month_cluster = menu_month_cluster.sort_index(axis=1)\n",
    "menu_month_cluster.head(3)"
   ]
  },
  {
   "cell_type": "code",
   "execution_count": 571,
   "metadata": {
    "scrolled": true
   },
   "outputs": [
    {
     "data": {
      "image/png": "[encoded data removed]",
      "text/plain": [
       "<matplotlib.figure.Figure at 0x1233ad128>"
      ]
     },
     "metadata": {},
     "output_type": "display_data"
    }
   ],
   "source": [
    "sc_dict = {}\n",
    "label_dict = {}\n",
    "for cluster_num in range(3, 25):\n",
    "    (sc, predict_label) =  classify_kmeans(menu_month_cluster, n_clusters=cluster_num,stdout=False)\n",
    "    sc_dict[cluster_num] = sc\n",
    "    label_dict[cluster_num] = predict_label\n",
    "    \n",
    "plt.plot(list(sc_dict.keys()), list(sc_dict.values()))\n",
    "plt.xlabel('Number of clusters')\n",
    "plt.ylabel('Silhouette Score')\n",
    "plt.show()\n",
    "#12 clusters seems to be a good choice which makes sense."
   ]
  },
  {
   "cell_type": "code",
   "execution_count": 589,
   "metadata": {
    "collapsed": true
   },
   "outputs": [],
   "source": [
    "def plot_heatmap(ax, data, labels):\n",
    "    data_with_cluster = data.copy()\n",
    "    data_with_cluster['cluster'] = labels\n",
    "    data_with_cluster = data_with_cluster.sort_values('cluster')\n",
    "    data_no_cluster = data_with_cluster[data_with_cluster.columns[:-1]]\n",
    "    ax.pcolor(data_no_cluster, cmap='Greys', alpha=1)\n",
    "    ax.set_xlim(xmax=data_no_cluster.shape[1])\n",
    "    ax.set_ylim(ymax=data_no_cluster.shape[0])\n",
    "    ax.set_xlabel('Month')\n",
    "    ax.set_ylabel('Items')\n",
    "    ax.set_xticks(np.arange(data_no_cluster.shape[1])+0.5)\n",
    "    ax.set_xticklabels(['Jan','Feb','Mar','Apr','May','Jun','Jul','Aug','Sept','Oct','Nov','Dec'], rotation=90)"
   ]
  },
  {
   "cell_type": "code",
   "execution_count": 590,
   "metadata": {
    "scrolled": false
   },
   "outputs": [
    {
     "data": {
      "image/png": "[encoded data removed]",
      "text/plain": [
       "<matplotlib.figure.Figure at 0x12657a9e8>"
      ]
     },
     "metadata": {},
     "output_type": "display_data"
    }
   ],
   "source": [
    "svd = TruncatedSVD(n_components=2)\n",
    "svd.fit(menu_month_cluster)  \n",
    "data_2d = svd.fit_transform(menu_month_cluster)\n",
    "kmeans_12 = KMeans(n_clusters=12)\n",
    "kmeans_12.fit(data_2d)\n",
    "cluster_labels = kmeans_12.predict(data_2d)\n",
    "centers = kmeans_12.cluster_centers_\n",
    "f, (ax1, ax2, ax3) = plt.subplots(1,3, figsize=(15,5))\n",
    "plot_reduction(ax1, data_2d)\n",
    "ax1.set_title('Reduce items into 2D')\n",
    "plot_reduction(ax2, data_2d, cluster_labels, centers)\n",
    "ax2.set_title('Keans of 12 Clusters')\n",
    "plot_heatmap(ax3, menu_month_cluster, label_dict[12])\n",
    "#weird clustering...\n",
    "#Most of products are sell better between April to September."
   ]
  },
  {
   "cell_type": "markdown",
   "metadata": {},
   "source": [
    "# Tenders "
   ]
  },
  {
   "cell_type": "code",
   "execution_count": 593,
   "metadata": {},
   "outputs": [
    {
     "name": "stdout",
     "output_type": "stream",
     "text": [
      "CPU times: user 2min 10s, sys: 28.4 s, total: 2min 39s\n",
      "Wall time: 2min 45s\n"
     ]
    }
   ],
   "source": [
    "%%time\n",
    "tender_location_groups = pd.DataFrame()\n",
    "fact_reader = pd.read_csv('data/FACT_Sites_2017.csv', chunksize=5000, \n",
    "                          skip_blank_lines=True, error_bad_lines=False,\n",
    "                          iterator=True, dtype={},\n",
    "                          usecols=['Location','recordID']\n",
    "                         )\n",
    "for chunk in fact_reader:\n",
    "    i += 1\n",
    "    #Investigate location with menu items\n",
    "    tender_merged_chunk = pd.merge(chunk, tender_data, how='inner', left_on='recordID', right_on='tenderMediaID')\n",
    "    tender_location_group_chunk = tender_merged_chunk.groupby(['Location', 'name']).size().unstack()\n",
    "    tender_location_groups = tender_location_groups.add(tender_location_group_chunk, fill_value=0)"
   ]
  },
  {
   "cell_type": "code",
   "execution_count": 600,
   "metadata": {},
   "outputs": [
    {
     "data": {
      "text/html": [
       "<div>\n",
       "<style>\n",
       "    .dataframe thead tr:only-child th {\n",
       "        text-align: right;\n",
       "    }\n",
       "\n",
       "    .dataframe thead th {\n",
       "        text-align: left;\n",
       "    }\n",
       "\n",
       "    .dataframe tbody tr th {\n",
       "        vertical-align: top;\n",
       "    }\n",
       "</style>\n",
       "<table border=\"1\" class=\"dataframe\">\n",
       "  <thead>\n",
       "    <tr style=\"text-align: right;\">\n",
       "      <th></th>\n",
       "      <th>Tender</th>\n",
       "      <th>Transactions</th>\n",
       "    </tr>\n",
       "    <tr>\n",
       "      <th>Location</th>\n",
       "      <th></th>\n",
       "      <th></th>\n",
       "    </tr>\n",
       "  </thead>\n",
       "  <tbody>\n",
       "    <tr>\n",
       "      <th>954 DC CON/IN ST</th>\n",
       "      <td>SVC REDEEM</td>\n",
       "      <td>57784.0</td>\n",
       "    </tr>\n",
       "    <tr>\n",
       "      <th>953 PITCHERS BAR</th>\n",
       "      <td>SVC REDEEM</td>\n",
       "      <td>22352.0</td>\n",
       "    </tr>\n",
       "    <tr>\n",
       "      <th>951 DC BFFT/DOUT</th>\n",
       "      <td>SVC REDEEM</td>\n",
       "      <td>21471.0</td>\n",
       "    </tr>\n",
       "    <tr>\n",
       "      <th>902 SCORBRD LWR</th>\n",
       "      <td>VISA</td>\n",
       "      <td>12314.0</td>\n",
       "    </tr>\n",
       "    <tr>\n",
       "      <th>208B BREWERY</th>\n",
       "      <td>VISA</td>\n",
       "      <td>8118.0</td>\n",
       "    </tr>\n",
       "    <tr>\n",
       "      <th>450 BRWYTWN BTTL</th>\n",
       "      <td>VISA</td>\n",
       "      <td>7476.0</td>\n",
       "    </tr>\n",
       "    <tr>\n",
       "      <th>430 BREWTOWN</th>\n",
       "      <td>VISA</td>\n",
       "      <td>6464.0</td>\n",
       "    </tr>\n",
       "    <tr>\n",
       "      <th>CB25 E CLUB BAR</th>\n",
       "      <td>VISA</td>\n",
       "      <td>5876.0</td>\n",
       "    </tr>\n",
       "    <tr>\n",
       "      <th>CB19 E CLUB BAR</th>\n",
       "      <td>VISA</td>\n",
       "      <td>5404.0</td>\n",
       "    </tr>\n",
       "    <tr>\n",
       "      <th>108 PHILLY FAVS</th>\n",
       "      <td>VISA</td>\n",
       "      <td>5124.0</td>\n",
       "    </tr>\n",
       "    <tr>\n",
       "      <th>CB40 W CLUB BAR</th>\n",
       "      <td>VISA</td>\n",
       "      <td>4868.0</td>\n",
       "    </tr>\n",
       "    <tr>\n",
       "      <th>413 BREWTOWN</th>\n",
       "      <td>VISA</td>\n",
       "      <td>4344.0</td>\n",
       "    </tr>\n",
       "    <tr>\n",
       "      <th>122 BUD BAR</th>\n",
       "      <td>VISA</td>\n",
       "      <td>3440.0</td>\n",
       "    </tr>\n",
       "    <tr>\n",
       "      <th>243 BEERS WORLD</th>\n",
       "      <td>VISA</td>\n",
       "      <td>2490.0</td>\n",
       "    </tr>\n",
       "    <tr>\n",
       "      <th>CB16 E CLUB BAR</th>\n",
       "      <td>VISA</td>\n",
       "      <td>2134.0</td>\n",
       "    </tr>\n",
       "    <tr>\n",
       "      <th>508 PHILTE DECK</th>\n",
       "      <td>LOADED TICKET</td>\n",
       "      <td>1704.0</td>\n",
       "    </tr>\n",
       "    <tr>\n",
       "      <th>CB35 W CLUB BAR</th>\n",
       "      <td>VISA</td>\n",
       "      <td>1650.0</td>\n",
       "    </tr>\n",
       "    <tr>\n",
       "      <th>CPBW1 BEER GRDN</th>\n",
       "      <td>VISA</td>\n",
       "      <td>1536.0</td>\n",
       "    </tr>\n",
       "    <tr>\n",
       "      <th>102 AB PORT</th>\n",
       "      <td>VISA</td>\n",
       "      <td>1026.0</td>\n",
       "    </tr>\n",
       "    <tr>\n",
       "      <th>237 BUD NEST</th>\n",
       "      <td>LOADED TICKET</td>\n",
       "      <td>1004.0</td>\n",
       "    </tr>\n",
       "    <tr>\n",
       "      <th>633 BREWTOWN`</th>\n",
       "      <td>VISA</td>\n",
       "      <td>232.0</td>\n",
       "    </tr>\n",
       "    <tr>\n",
       "      <th>NOT IN USE</th>\n",
       "      <td>VISA</td>\n",
       "      <td>228.0</td>\n",
       "    </tr>\n",
       "    <tr>\n",
       "      <th>SP09 SUITES PORT</th>\n",
       "      <td>VISA</td>\n",
       "      <td>200.0</td>\n",
       "    </tr>\n",
       "    <tr>\n",
       "      <th>PHILLIES LUNCH</th>\n",
       "      <td>SVC REDEEM</td>\n",
       "      <td>7.0</td>\n",
       "    </tr>\n",
       "    <tr>\n",
       "      <th>MASTER</th>\n",
       "      <td>SVC REDEEM</td>\n",
       "      <td>6.0</td>\n",
       "    </tr>\n",
       "  </tbody>\n",
       "</table>\n",
       "</div>"
      ],
      "text/plain": [
       "                         Tender  Transactions\n",
       "Location                                     \n",
       "954 DC CON/IN ST     SVC REDEEM       57784.0\n",
       "953 PITCHERS BAR     SVC REDEEM       22352.0\n",
       "951 DC BFFT/DOUT     SVC REDEEM       21471.0\n",
       "902 SCORBRD LWR            VISA       12314.0\n",
       "208B BREWERY               VISA        8118.0\n",
       "450 BRWYTWN BTTL           VISA        7476.0\n",
       "430 BREWTOWN               VISA        6464.0\n",
       "CB25 E CLUB BAR            VISA        5876.0\n",
       "CB19 E CLUB BAR            VISA        5404.0\n",
       "108 PHILLY FAVS            VISA        5124.0\n",
       "CB40 W CLUB BAR            VISA        4868.0\n",
       "413 BREWTOWN               VISA        4344.0\n",
       "122 BUD BAR                VISA        3440.0\n",
       "243 BEERS WORLD            VISA        2490.0\n",
       "CB16 E CLUB BAR            VISA        2134.0\n",
       "508 PHILTE DECK   LOADED TICKET        1704.0\n",
       "CB35 W CLUB BAR            VISA        1650.0\n",
       "CPBW1 BEER GRDN            VISA        1536.0\n",
       "102 AB PORT                VISA        1026.0\n",
       "237 BUD NEST      LOADED TICKET        1004.0\n",
       "633 BREWTOWN`              VISA         232.0\n",
       "NOT IN USE                 VISA         228.0\n",
       "SP09 SUITES PORT           VISA         200.0\n",
       "PHILLIES LUNCH       SVC REDEEM           7.0\n",
       "MASTER               SVC REDEEM           6.0"
      ]
     },
     "execution_count": 600,
     "metadata": {},
     "output_type": "execute_result"
    }
   ],
   "source": [
    "idx = tender_location_groups.idxmax(axis=1)\n",
    "maxvalue = tender_location_groups.max(axis=1)\n",
    "tender_location_favorite = pd.DataFrame({'Tender':idx, 'Transactions':maxvalue})\n",
    "tender_location_favorite = tender_location_favorite.sort_values('Transactions', ascending=False)\n",
    "tender_location_favorite[(tender_location_favorite.Tender!='CASH') & (tender_location_favorite.Tender!='CASH ')]\n",
    "#Speed up checking by facilate the checking with the most popular tender medias for each location."
   ]
  },
  {
   "cell_type": "code",
   "execution_count": null,
   "metadata": {
    "collapsed": true
   },
   "outputs": [],
   "source": []
  }
 ],
 "metadata": {
  "kernelspec": {
   "display_name": "Python 3",
   "language": "python",
   "name": "python3"
  },
  "language_info": {
   "codemirror_mode": {
    "name": "ipython",
    "version": 3
   },
   "file_extension": ".py",
   "mimetype": "text/x-python",
   "name": "python",
   "nbconvert_exporter": "python",
   "pygments_lexer": "ipython3",
   "version": "3.6.1"
  }
 },
 "nbformat": 4,
 "nbformat_minor": 2
}
